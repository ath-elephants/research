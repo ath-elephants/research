{
 "cells": [
  {
   "cell_type": "code",
   "execution_count": 16,
   "metadata": {
    "collapsed": true
   },
   "outputs": [],
   "source": [
    "import pandas as pd\n",
    "import re\n",
    "import string\n",
    "\n",
    "from pymorphy2 import MorphAnalyzer\n",
    "from nltk.corpus import stopwords\n",
    "from nltk import download\n",
    "from sklearn.model_selection import train_test_split\n",
    "from sklearn.feature_extraction.text import CountVectorizer\n",
    "from sklearn.linear_model import LogisticRegression\n",
    "from sklearn.feature_extraction.text import TfidfVectorizer\n",
    "from sklearn.metrics import accuracy_score, precision_score, recall_score, f1_score"
   ]
  },
  {
   "cell_type": "code",
   "execution_count": 2,
   "outputs": [
    {
     "data": {
      "text/plain": "                                               question  \\\nid                                                        \n0     Я сменил автомобить, на учет еще не поставил, ...   \n1         Не отображается автомобиль в личном кабинете.   \n2                                   добавить автомобиль   \n3                      хочу внести данные об автомобиле   \n4                      Как внести данные об автомобиле?   \n...                                                 ...   \n1683                                    как убрать бота   \n1684             мне сказали создать заявку в поддержке   \n1685                                              выход   \n1686                         вернуться на старый портал   \n1687                                     нужен оператор   \n\n                                                content    category  \nid                                                                   \n0     Для внесения данных по личному автомобилю обра...  автомобиль  \n1     Для внесения данных по личному автомобилю обра...  автомобиль  \n2     Для внесения данных по личному автомобилю обра...  автомобиль  \n3     Для внесения данных по личному автомобилю обра...  автомобиль  \n4     Для внесения данных по личному автомобилю обра...  автомобиль  \n...                                                 ...         ...  \n1683  Чат-бот находится в стадии пилотирования и обу...   поддержка  \n1684  Для оформления обращения в техническую поддерж...    оператор  \n1685  Для оформления обращения в техническую поддерж...    оператор  \n1686  Чат-бот находится в стадии пилотирования и обу...   поддержка  \n1687  Чат-бот находится в стадии пилотирования и обу...   поддержка  \n\n[1688 rows x 3 columns]",
      "text/html": "<div>\n<style scoped>\n    .dataframe tbody tr th:only-of-type {\n        vertical-align: middle;\n    }\n\n    .dataframe tbody tr th {\n        vertical-align: top;\n    }\n\n    .dataframe thead th {\n        text-align: right;\n    }\n</style>\n<table border=\"1\" class=\"dataframe\">\n  <thead>\n    <tr style=\"text-align: right;\">\n      <th></th>\n      <th>question</th>\n      <th>content</th>\n      <th>category</th>\n    </tr>\n    <tr>\n      <th>id</th>\n      <th></th>\n      <th></th>\n      <th></th>\n    </tr>\n  </thead>\n  <tbody>\n    <tr>\n      <th>0</th>\n      <td>Я сменил автомобить, на учет еще не поставил, ...</td>\n      <td>Для внесения данных по личному автомобилю обра...</td>\n      <td>автомобиль</td>\n    </tr>\n    <tr>\n      <th>1</th>\n      <td>Не отображается автомобиль в личном кабинете.</td>\n      <td>Для внесения данных по личному автомобилю обра...</td>\n      <td>автомобиль</td>\n    </tr>\n    <tr>\n      <th>2</th>\n      <td>добавить автомобиль</td>\n      <td>Для внесения данных по личному автомобилю обра...</td>\n      <td>автомобиль</td>\n    </tr>\n    <tr>\n      <th>3</th>\n      <td>хочу внести данные об автомобиле</td>\n      <td>Для внесения данных по личному автомобилю обра...</td>\n      <td>автомобиль</td>\n    </tr>\n    <tr>\n      <th>4</th>\n      <td>Как внести данные об автомобиле?</td>\n      <td>Для внесения данных по личному автомобилю обра...</td>\n      <td>автомобиль</td>\n    </tr>\n    <tr>\n      <th>...</th>\n      <td>...</td>\n      <td>...</td>\n      <td>...</td>\n    </tr>\n    <tr>\n      <th>1683</th>\n      <td>как убрать бота</td>\n      <td>Чат-бот находится в стадии пилотирования и обу...</td>\n      <td>поддержка</td>\n    </tr>\n    <tr>\n      <th>1684</th>\n      <td>мне сказали создать заявку в поддержке</td>\n      <td>Для оформления обращения в техническую поддерж...</td>\n      <td>оператор</td>\n    </tr>\n    <tr>\n      <th>1685</th>\n      <td>выход</td>\n      <td>Для оформления обращения в техническую поддерж...</td>\n      <td>оператор</td>\n    </tr>\n    <tr>\n      <th>1686</th>\n      <td>вернуться на старый портал</td>\n      <td>Чат-бот находится в стадии пилотирования и обу...</td>\n      <td>поддержка</td>\n    </tr>\n    <tr>\n      <th>1687</th>\n      <td>нужен оператор</td>\n      <td>Чат-бот находится в стадии пилотирования и обу...</td>\n      <td>поддержка</td>\n    </tr>\n  </tbody>\n</table>\n<p>1688 rows × 3 columns</p>\n</div>"
     },
     "execution_count": 2,
     "metadata": {},
     "output_type": "execute_result"
    }
   ],
   "source": [
    "new_QA = pd.read_csv('QA_modified.csv', index_col=0)\n",
    "new_QA"
   ],
   "metadata": {
    "collapsed": false
   }
  },
  {
   "cell_type": "code",
   "execution_count": 3,
   "outputs": [
    {
     "name": "stderr",
     "output_type": "stream",
     "text": [
      "[nltk_data] Downloading package stopwords to\n",
      "[nltk_data]     C:\\Users\\nikit\\AppData\\Roaming\\nltk_data...\n",
      "[nltk_data]   Package stopwords is already up-to-date!\n"
     ]
    }
   ],
   "source": [
    "download('stopwords')\n",
    "\n",
    "morph = MorphAnalyzer()\n",
    "\n",
    "stop_words = set(stopwords.words('russian'))\n",
    "\n",
    "def preprocess_text(text):\n",
    "    text = text.lower()  # Приведение к нижнему регистру\n",
    "    text = re.sub(f\"[{string.punctuation}]\", \"\", text)  # Удаление пунктуации\n",
    "    text = \" \".join(morph.parse(word)[0].normal_form for word in text.split() if word not in stop_words)  # Лемматизация и удаление стоп-слов\n",
    "    return text"
   ],
   "metadata": {
    "collapsed": false
   }
  },
  {
   "cell_type": "code",
   "execution_count": 4,
   "outputs": [
    {
     "data": {
      "text/plain": "                                               question  \\\nid                                                        \n0     Я сменил автомобить, на учет еще не поставил, ...   \n1         Не отображается автомобиль в личном кабинете.   \n2                                   добавить автомобиль   \n3                      хочу внести данные об автомобиле   \n4                      Как внести данные об автомобиле?   \n...                                                 ...   \n1683                                    как убрать бота   \n1684             мне сказали создать заявку в поддержке   \n1685                                              выход   \n1686                         вернуться на старый портал   \n1687                                     нужен оператор   \n\n                                                content    category  \\\nid                                                                    \n0     Для внесения данных по личному автомобилю обра...  автомобиль   \n1     Для внесения данных по личному автомобилю обра...  автомобиль   \n2     Для внесения данных по личному автомобилю обра...  автомобиль   \n3     Для внесения данных по личному автомобилю обра...  автомобиль   \n4     Для внесения данных по личному автомобилю обра...  автомобиль   \n...                                                 ...         ...   \n1683  Чат-бот находится в стадии пилотирования и обу...   поддержка   \n1684  Для оформления обращения в техническую поддерж...    оператор   \n1685  Для оформления обращения в техническую поддерж...    оператор   \n1686  Чат-бот находится в стадии пилотирования и обу...   поддержка   \n1687  Чат-бот находится в стадии пилотирования и обу...   поддержка   \n\n                                     question_processed  \nid                                                       \n0     сменить автомобить учёт поставить мочь заправл...  \n1                отображаться автомобиль личный кабинет  \n2                                   добавить автомобиль  \n3                         хотеть внести дать автомобиль  \n4                                внести дать автомобиль  \n...                                                 ...  \n1683                                         убрать бот  \n1684                   сказать создать заявка поддержка  \n1685                                              выход  \n1686                            вернуться старый портал  \n1687                                    нужный оператор  \n\n[1688 rows x 4 columns]",
      "text/html": "<div>\n<style scoped>\n    .dataframe tbody tr th:only-of-type {\n        vertical-align: middle;\n    }\n\n    .dataframe tbody tr th {\n        vertical-align: top;\n    }\n\n    .dataframe thead th {\n        text-align: right;\n    }\n</style>\n<table border=\"1\" class=\"dataframe\">\n  <thead>\n    <tr style=\"text-align: right;\">\n      <th></th>\n      <th>question</th>\n      <th>content</th>\n      <th>category</th>\n      <th>question_processed</th>\n    </tr>\n    <tr>\n      <th>id</th>\n      <th></th>\n      <th></th>\n      <th></th>\n      <th></th>\n    </tr>\n  </thead>\n  <tbody>\n    <tr>\n      <th>0</th>\n      <td>Я сменил автомобить, на учет еще не поставил, ...</td>\n      <td>Для внесения данных по личному автомобилю обра...</td>\n      <td>автомобиль</td>\n      <td>сменить автомобить учёт поставить мочь заправл...</td>\n    </tr>\n    <tr>\n      <th>1</th>\n      <td>Не отображается автомобиль в личном кабинете.</td>\n      <td>Для внесения данных по личному автомобилю обра...</td>\n      <td>автомобиль</td>\n      <td>отображаться автомобиль личный кабинет</td>\n    </tr>\n    <tr>\n      <th>2</th>\n      <td>добавить автомобиль</td>\n      <td>Для внесения данных по личному автомобилю обра...</td>\n      <td>автомобиль</td>\n      <td>добавить автомобиль</td>\n    </tr>\n    <tr>\n      <th>3</th>\n      <td>хочу внести данные об автомобиле</td>\n      <td>Для внесения данных по личному автомобилю обра...</td>\n      <td>автомобиль</td>\n      <td>хотеть внести дать автомобиль</td>\n    </tr>\n    <tr>\n      <th>4</th>\n      <td>Как внести данные об автомобиле?</td>\n      <td>Для внесения данных по личному автомобилю обра...</td>\n      <td>автомобиль</td>\n      <td>внести дать автомобиль</td>\n    </tr>\n    <tr>\n      <th>...</th>\n      <td>...</td>\n      <td>...</td>\n      <td>...</td>\n      <td>...</td>\n    </tr>\n    <tr>\n      <th>1683</th>\n      <td>как убрать бота</td>\n      <td>Чат-бот находится в стадии пилотирования и обу...</td>\n      <td>поддержка</td>\n      <td>убрать бот</td>\n    </tr>\n    <tr>\n      <th>1684</th>\n      <td>мне сказали создать заявку в поддержке</td>\n      <td>Для оформления обращения в техническую поддерж...</td>\n      <td>оператор</td>\n      <td>сказать создать заявка поддержка</td>\n    </tr>\n    <tr>\n      <th>1685</th>\n      <td>выход</td>\n      <td>Для оформления обращения в техническую поддерж...</td>\n      <td>оператор</td>\n      <td>выход</td>\n    </tr>\n    <tr>\n      <th>1686</th>\n      <td>вернуться на старый портал</td>\n      <td>Чат-бот находится в стадии пилотирования и обу...</td>\n      <td>поддержка</td>\n      <td>вернуться старый портал</td>\n    </tr>\n    <tr>\n      <th>1687</th>\n      <td>нужен оператор</td>\n      <td>Чат-бот находится в стадии пилотирования и обу...</td>\n      <td>поддержка</td>\n      <td>нужный оператор</td>\n    </tr>\n  </tbody>\n</table>\n<p>1688 rows × 4 columns</p>\n</div>"
     },
     "execution_count": 4,
     "metadata": {},
     "output_type": "execute_result"
    }
   ],
   "source": [
    "new_QA['question_processed'] = new_QA['question'].apply(preprocess_text)\n",
    "new_QA"
   ],
   "metadata": {
    "collapsed": false
   }
  },
  {
   "cell_type": "code",
   "execution_count": 5,
   "outputs": [
    {
     "name": "stderr",
     "output_type": "stream",
     "text": [
      "C:\\Users\\nikit\\AppData\\Local\\Temp\\ipykernel_1896\\2523162306.py:6: SettingWithCopyWarning: \n",
      "A value is trying to be set on a copy of a slice from a DataFrame\n",
      "\n",
      "See the caveats in the documentation: https://pandas.pydata.org/pandas-docs/stable/user_guide/indexing.html#returning-a-view-versus-a-copy\n",
      "  new_QA_filtered.loc[1676, 'category'] = 'поддержка'\n"
     ]
    }
   ],
   "source": [
    "# Подсчет количества вхождений для каждого значения в колонке 'content'\n",
    "content_counts = new_QA['content'].value_counts()\n",
    "\n",
    "# Фильтрация строк, где значение 'content' встречается как минимум 3 раза\n",
    "new_QA_filtered = new_QA[new_QA['content'].isin(content_counts[content_counts >= 3].index)]\n",
    "new_QA_filtered.loc[1676, 'category'] = 'поддержка'\n"
   ],
   "metadata": {
    "collapsed": false
   }
  },
  {
   "cell_type": "code",
   "execution_count": 6,
   "outputs": [
    {
     "name": "stdout",
     "output_type": "stream",
     "text": [
      "Категории после фильтрации: ЛК                     473\n",
      "поддержка              283\n",
      "табель                 168\n",
      "удаленная работа        98\n",
      "отпуск                  97\n",
      "моя карьера             56\n",
      "увольнение              49\n",
      "отгул                   44\n",
      "заявки                  40\n",
      "зарплата                38\n",
      "прием на работу         33\n",
      "БиР                     31\n",
      "график работы           28\n",
      "ЭЦП                     22\n",
      "документооборот         22\n",
      "налоговый вычет         12\n",
      "уход за больным          9\n",
      "оператор                 8\n",
      "автомобиль               8\n",
      "справка                  8\n",
      "обучение                 7\n",
      "больничный               6\n",
      "командировка             5\n",
      "материальная помощь      3\n",
      "доверенность             3\n",
      "Name: category, dtype: int64\n",
      "Размер обучающей выборки: 1241\n",
      "Размер тестовой выборки: 311\n",
      "Категории в обучающей выборке: ЛК                     378\n",
      "поддержка              226\n",
      "табель                 134\n",
      "удаленная работа        78\n",
      "отпуск                  78\n",
      "моя карьера             45\n",
      "увольнение              39\n",
      "отгул                   35\n",
      "заявки                  32\n",
      "зарплата                30\n",
      "прием на работу         26\n",
      "БиР                     25\n",
      "график работы           22\n",
      "документооборот         18\n",
      "ЭЦП                     18\n",
      "налоговый вычет         10\n",
      "уход за больным          7\n",
      "оператор                 6\n",
      "справка                  6\n",
      "автомобиль               6\n",
      "обучение                 6\n",
      "больничный               5\n",
      "командировка             4\n",
      "материальная помощь      3\n",
      "доверенность             3\n",
      "Отпуск                   1\n",
      "Name: category, dtype: int64\n",
      "Категории в тестовой выборке: ЛК                  95\n",
      "поддержка           57\n",
      "табель              34\n",
      "удаленная работа    20\n",
      "отпуск              19\n",
      "моя карьера         11\n",
      "увольнение          10\n",
      "отгул                9\n",
      "зарплата             8\n",
      "заявки               8\n",
      "прием на работу      7\n",
      "БиР                  6\n",
      "график работы        6\n",
      "ЭЦП                  4\n",
      "документооборот      4\n",
      "уход за больным      2\n",
      "оператор             2\n",
      "налоговый вычет      2\n",
      "справка              2\n",
      "автомобиль           2\n",
      "больничный           1\n",
      "обучение             1\n",
      "командировка         1\n",
      "Name: category, dtype: int64\n"
     ]
    }
   ],
   "source": [
    "min_count = 2\n",
    "category_counts = new_QA_filtered['category'].value_counts()\n",
    "categories_with_one_record = category_counts[category_counts == 1].index\n",
    "valid_categories = category_counts[category_counts >= min_count].index\n",
    "\n",
    "single_record_df = new_QA_filtered[new_QA_filtered['category'].isin(categories_with_one_record)]\n",
    "filtered_df = new_QA_filtered[new_QA_filtered['category'].isin(valid_categories)]\n",
    "\n",
    "# Проверка категорий после фильтрации\n",
    "print(f'Категории после фильтрации: {filtered_df[\"category\"].value_counts()}')\n",
    "\n",
    "# Разделение данных на 80% обучающих и 20% тестовых\n",
    "train_df, test_df = train_test_split(filtered_df, test_size=0.2, stratify=filtered_df['category'], random_state=42)\n",
    "train_df = pd.concat([train_df, single_record_df], axis=0)\n",
    "\n",
    "print(f'Размер обучающей выборки: {len(train_df)}')\n",
    "print(f'Размер тестовой выборки: {len(test_df)}')\n",
    "\n",
    "# Проверка распределения категорий в обучающей и тестовой выборках\n",
    "print(f'Категории в обучающей выборке: {train_df[\"category\"].value_counts()}')\n",
    "print(f'Категории в тестовой выборке: {test_df[\"category\"].value_counts()}')"
   ],
   "metadata": {
    "collapsed": false
   }
  },
  {
   "cell_type": "code",
   "execution_count": 7,
   "outputs": [
    {
     "data": {
      "text/plain": "                                               question  \\\nid                                                        \n1316  У меня убрали в моих сервисах, роль _ Команда ...   \n709              Как создать заявку на налоговый вычет?   \n512   Нет возможности зайти в ЛК- не верный логин ил...   \n1044  АДМ не может участвовать в программе моя карье...   \n221                              Не могу закрыть заявку   \n...                                                 ...   \n47    хочу поменять магазин во время отпуска по бере...   \n672                 Обучение по программе \"Моя карьера\"   \n300                     неверно указан номер при приеме   \n458   сотрудник не получил пароль и логин от личного...   \n1650              не удается вложить заявление в отпуск   \n\n                                                content         category  \\\nid                                                                         \n1316  Если в \"команде\" нет подчиненных сотрудников п...           табель   \n709   Для получения вычета создайте, пожалуйста, зая...  налоговый вычет   \n512   При проблемах со входом в личный кабинет, преж...               ЛК   \n1044  Создайте, пожалуйста, обращение в ИТ поддержку...        поддержка   \n221   Первым делом, просьба очистить кэш/куки браузе...               ЛК   \n...                                                 ...              ...   \n47    Перевод возможен после окончания отпуска по бе...              БиР   \n672   Доступ к программе \"карьера\" появляется спустя...      моя карьера   \n300   Кнопка \"изменить номер\" телефона находится в л...               ЛК   \n458   При проблемах со входом в личный кабинет, преж...               ЛК   \n1650  Создайте, пожалуйста, обращение в ИТ поддержку...           Отпуск   \n\n                                     question_processed  \nid                                                       \n1316  убрать мой сервис роль команда скидывать парол...  \n709                      создать заявка налоговый вычет  \n512            возможность зайти лк верный логин пароль  \n1044  адм участвовать программа карьера дмссылка отс...  \n221                                 мочь закрыть заявка  \n...                                                 ...  \n47    хотеть поменять магазин время отпуск беременность  \n672                          обучение программа карьера  \n300                         неверно указать номер приём  \n458      сотрудник получить пароль логин личный кабинет  \n1650                 удаваться вложить заявление отпуск  \n\n[1241 rows x 4 columns]",
      "text/html": "<div>\n<style scoped>\n    .dataframe tbody tr th:only-of-type {\n        vertical-align: middle;\n    }\n\n    .dataframe tbody tr th {\n        vertical-align: top;\n    }\n\n    .dataframe thead th {\n        text-align: right;\n    }\n</style>\n<table border=\"1\" class=\"dataframe\">\n  <thead>\n    <tr style=\"text-align: right;\">\n      <th></th>\n      <th>question</th>\n      <th>content</th>\n      <th>category</th>\n      <th>question_processed</th>\n    </tr>\n    <tr>\n      <th>id</th>\n      <th></th>\n      <th></th>\n      <th></th>\n      <th></th>\n    </tr>\n  </thead>\n  <tbody>\n    <tr>\n      <th>1316</th>\n      <td>У меня убрали в моих сервисах, роль _ Команда ...</td>\n      <td>Если в \"команде\" нет подчиненных сотрудников п...</td>\n      <td>табель</td>\n      <td>убрать мой сервис роль команда скидывать парол...</td>\n    </tr>\n    <tr>\n      <th>709</th>\n      <td>Как создать заявку на налоговый вычет?</td>\n      <td>Для получения вычета создайте, пожалуйста, зая...</td>\n      <td>налоговый вычет</td>\n      <td>создать заявка налоговый вычет</td>\n    </tr>\n    <tr>\n      <th>512</th>\n      <td>Нет возможности зайти в ЛК- не верный логин ил...</td>\n      <td>При проблемах со входом в личный кабинет, преж...</td>\n      <td>ЛК</td>\n      <td>возможность зайти лк верный логин пароль</td>\n    </tr>\n    <tr>\n      <th>1044</th>\n      <td>АДМ не может участвовать в программе моя карье...</td>\n      <td>Создайте, пожалуйста, обращение в ИТ поддержку...</td>\n      <td>поддержка</td>\n      <td>адм участвовать программа карьера дмссылка отс...</td>\n    </tr>\n    <tr>\n      <th>221</th>\n      <td>Не могу закрыть заявку</td>\n      <td>Первым делом, просьба очистить кэш/куки браузе...</td>\n      <td>ЛК</td>\n      <td>мочь закрыть заявка</td>\n    </tr>\n    <tr>\n      <th>...</th>\n      <td>...</td>\n      <td>...</td>\n      <td>...</td>\n      <td>...</td>\n    </tr>\n    <tr>\n      <th>47</th>\n      <td>хочу поменять магазин во время отпуска по бере...</td>\n      <td>Перевод возможен после окончания отпуска по бе...</td>\n      <td>БиР</td>\n      <td>хотеть поменять магазин время отпуск беременность</td>\n    </tr>\n    <tr>\n      <th>672</th>\n      <td>Обучение по программе \"Моя карьера\"</td>\n      <td>Доступ к программе \"карьера\" появляется спустя...</td>\n      <td>моя карьера</td>\n      <td>обучение программа карьера</td>\n    </tr>\n    <tr>\n      <th>300</th>\n      <td>неверно указан номер при приеме</td>\n      <td>Кнопка \"изменить номер\" телефона находится в л...</td>\n      <td>ЛК</td>\n      <td>неверно указать номер приём</td>\n    </tr>\n    <tr>\n      <th>458</th>\n      <td>сотрудник не получил пароль и логин от личного...</td>\n      <td>При проблемах со входом в личный кабинет, преж...</td>\n      <td>ЛК</td>\n      <td>сотрудник получить пароль логин личный кабинет</td>\n    </tr>\n    <tr>\n      <th>1650</th>\n      <td>не удается вложить заявление в отпуск</td>\n      <td>Создайте, пожалуйста, обращение в ИТ поддержку...</td>\n      <td>Отпуск</td>\n      <td>удаваться вложить заявление отпуск</td>\n    </tr>\n  </tbody>\n</table>\n<p>1241 rows × 4 columns</p>\n</div>"
     },
     "execution_count": 7,
     "metadata": {},
     "output_type": "execute_result"
    }
   ],
   "source": [
    "train_df"
   ],
   "metadata": {
    "collapsed": false
   }
  },
  {
   "cell_type": "code",
   "execution_count": 8,
   "outputs": [],
   "source": [
    "import random\n",
    "\n",
    "\n",
    "def add_or_remove_punctuation(text):\n",
    "    \"\"\"Добавление или удаление знаков препинания.\"\"\"\n",
    "    # Возможные варианты добавления знаков препинания\n",
    "    punctuations = [',', '.', '!', '?']\n",
    "    words = text.split()\n",
    "\n",
    "    # Добавляем или удаляем знаки препинания\n",
    "    if random.random() < 0.5:\n",
    "        # Добавить знак препинания\n",
    "        position = random.randint(0, len(words) - 1)\n",
    "        punct = random.choice(punctuations)\n",
    "        words[position] = words[position] + punct\n",
    "    else:\n",
    "        # Удалить знак препинания, если он есть\n",
    "        text = text.translate(str.maketrans('', '', string.punctuation))\n",
    "        words = text.split()\n",
    "\n",
    "    return ' '.join(words)\n",
    "\n",
    "\n",
    "def introduce_typo(text):\n",
    "    \"\"\"Создание опечаток в тексте.\"\"\"\n",
    "    if not text:\n",
    "        return text\n",
    "\n",
    "    words = text.split()\n",
    "    index = random.randint(0, len(words) - 1)\n",
    "    word = words[index]\n",
    "\n",
    "    # Опечатки: замена, пропуск или дублирование символов\n",
    "    typo_type = random.choice(['swap', 'remove', 'duplicate'])\n",
    "\n",
    "    if typo_type == 'swap' and len(word) > 1:\n",
    "        # Меняем местами соседние буквы\n",
    "        pos = random.randint(0, len(word) - 2)\n",
    "        word = list(word)\n",
    "        word[pos], word[pos + 1] = word[pos + 1], word[pos]\n",
    "        words[index] = ''.join(word)\n",
    "\n",
    "    elif typo_type == 'remove' and len(word) > 1:\n",
    "        # Удаляем случайную букву\n",
    "        pos = random.randint(0, len(word) - 1)\n",
    "        words[index] = word[:pos] + word[pos + 1:]\n",
    "\n",
    "    elif typo_type == 'duplicate':\n",
    "        # Дублируем случайную букву\n",
    "        pos = random.randint(0, len(word) - 1)\n",
    "        words[index] = word[:pos] + word[pos] + word[pos:]\n",
    "\n",
    "    return ' '.join(words)\n",
    "\n",
    "\n",
    "def shuffle_words(text):\n",
    "    \"\"\"Перестановка порядка слов.\"\"\"\n",
    "    words = text.split()\n",
    "    if len(words) > 1:\n",
    "        random.shuffle(words)\n",
    "    return ' '.join(words)\n"
   ],
   "metadata": {
    "collapsed": false
   }
  },
  {
   "cell_type": "code",
   "execution_count": 9,
   "outputs": [],
   "source": [
    "id_map_content = {}\n",
    "for x in train_df['content']:\n",
    "  id_map_content[x] = id_map_content.get(x, len(id_map_content))\n",
    "train_df['content_id'] = train_df['content'].map(id_map_content)"
   ],
   "metadata": {
    "collapsed": false
   }
  },
  {
   "cell_type": "code",
   "execution_count": 10,
   "outputs": [],
   "source": [
    "id_map_categories = {}\n",
    "for x in train_df['category']:\n",
    "  id_map_categories[x] = id_map_categories.get(x, len(id_map_categories))\n",
    "train_df['category_id'] = train_df['category'].map(id_map_categories)"
   ],
   "metadata": {
    "collapsed": false
   }
  },
  {
   "cell_type": "code",
   "execution_count": 12,
   "outputs": [
    {
     "data": {
      "text/plain": "  0%|          | 0/100 [00:00<?, ?it/s]",
      "application/vnd.jupyter.widget-view+json": {
       "version_major": 2,
       "version_minor": 0,
       "model_id": "596b058f1a02496482cabbf28b98bb17"
      }
     },
     "metadata": {},
     "output_type": "display_data"
    },
    {
     "data": {
      "text/plain": "                                               question  \\\n0     У меня убрали в моих сервисах, роль _ Команда ...   \n1     с 1 августа был перевод на должность директора...   \n2        В личном кабинете отсутвует список подчиненных   \n3     не могу создать заявку на сотрудника в личном ...   \n4     На портале пропали все разделы создания заявок...   \n...                                                 ...   \n4183  моя направляется дату зарплата В присттавам какую   \n4184  судебным удержанные Когда дененжые направляютс...   \n4185  ВВ зарплата моя направляется какую дату приставам   \n4186  Когда денежные удержанные судебным средства пп...   \n4187  направляется дату какую моя зарплата! В приста...   \n\n                                                content  category  \\\n0     Если в \"команде\" нет подчиненных сотрудников п...    табель   \n1     Если в \"команде\" нет подчиненных сотрудников п...    табель   \n2     Если в \"команде\" нет подчиненных сотрудников п...    табель   \n3     Если в \"команде\" нет подчиненных сотрудников п...    табель   \n4     Если в \"команде\" нет подчиненных сотрудников п...    табель   \n...                                                 ...       ...   \n4183  Обращаем внимание, что работодатель производит...  зарплата   \n4184  Обращаем внимание, что работодатель производит...  зарплата   \n4185  Обращаем внимание, что работодатель производит...  зарплата   \n4186  Обращаем внимание, что работодатель производит...  зарплата   \n4187  Обращаем внимание, что работодатель производит...  зарплата   \n\n                                     question_processed  content_id  \\\n0     убрать мой сервис роль команда скидывать парол...           0   \n1     1 август перевод должность директор магазин ли...           0   \n2         личный кабинет отсутвовать список подчинённый           0   \n3          мочь создать заявка сотрудник личный кабинет           0   \n4      портал пропасть раздел создание заявка сотрудник           0   \n...                                                 ...         ...   \n4183           какой дата зарплата направляться пристав          99   \n4184  удержать денежный средство направляться судебн...          99   \n4185           какой дата зарплата направляться пристав          99   \n4186  удержать денежный средство направляться судебн...          99   \n4187           какой дата зарплата направляться пристав          99   \n\n      category_id  \n0               0  \n1               0  \n2               0  \n3               0  \n4               0  \n...           ...  \n4183           10  \n4184           10  \n4185           10  \n4186           10  \n4187           10  \n\n[4188 rows x 6 columns]",
      "text/html": "<div>\n<style scoped>\n    .dataframe tbody tr th:only-of-type {\n        vertical-align: middle;\n    }\n\n    .dataframe tbody tr th {\n        vertical-align: top;\n    }\n\n    .dataframe thead th {\n        text-align: right;\n    }\n</style>\n<table border=\"1\" class=\"dataframe\">\n  <thead>\n    <tr style=\"text-align: right;\">\n      <th></th>\n      <th>question</th>\n      <th>content</th>\n      <th>category</th>\n      <th>question_processed</th>\n      <th>content_id</th>\n      <th>category_id</th>\n    </tr>\n  </thead>\n  <tbody>\n    <tr>\n      <th>0</th>\n      <td>У меня убрали в моих сервисах, роль _ Команда ...</td>\n      <td>Если в \"команде\" нет подчиненных сотрудников п...</td>\n      <td>табель</td>\n      <td>убрать мой сервис роль команда скидывать парол...</td>\n      <td>0</td>\n      <td>0</td>\n    </tr>\n    <tr>\n      <th>1</th>\n      <td>с 1 августа был перевод на должность директора...</td>\n      <td>Если в \"команде\" нет подчиненных сотрудников п...</td>\n      <td>табель</td>\n      <td>1 август перевод должность директор магазин ли...</td>\n      <td>0</td>\n      <td>0</td>\n    </tr>\n    <tr>\n      <th>2</th>\n      <td>В личном кабинете отсутвует список подчиненных</td>\n      <td>Если в \"команде\" нет подчиненных сотрудников п...</td>\n      <td>табель</td>\n      <td>личный кабинет отсутвовать список подчинённый</td>\n      <td>0</td>\n      <td>0</td>\n    </tr>\n    <tr>\n      <th>3</th>\n      <td>не могу создать заявку на сотрудника в личном ...</td>\n      <td>Если в \"команде\" нет подчиненных сотрудников п...</td>\n      <td>табель</td>\n      <td>мочь создать заявка сотрудник личный кабинет</td>\n      <td>0</td>\n      <td>0</td>\n    </tr>\n    <tr>\n      <th>4</th>\n      <td>На портале пропали все разделы создания заявок...</td>\n      <td>Если в \"команде\" нет подчиненных сотрудников п...</td>\n      <td>табель</td>\n      <td>портал пропасть раздел создание заявка сотрудник</td>\n      <td>0</td>\n      <td>0</td>\n    </tr>\n    <tr>\n      <th>...</th>\n      <td>...</td>\n      <td>...</td>\n      <td>...</td>\n      <td>...</td>\n      <td>...</td>\n      <td>...</td>\n    </tr>\n    <tr>\n      <th>4183</th>\n      <td>моя направляется дату зарплата В присттавам какую</td>\n      <td>Обращаем внимание, что работодатель производит...</td>\n      <td>зарплата</td>\n      <td>какой дата зарплата направляться пристав</td>\n      <td>99</td>\n      <td>10</td>\n    </tr>\n    <tr>\n      <th>4184</th>\n      <td>судебным удержанные Когда дененжые направляютс...</td>\n      <td>Обращаем внимание, что работодатель производит...</td>\n      <td>зарплата</td>\n      <td>удержать денежный средство направляться судебн...</td>\n      <td>99</td>\n      <td>10</td>\n    </tr>\n    <tr>\n      <th>4185</th>\n      <td>ВВ зарплата моя направляется какую дату приставам</td>\n      <td>Обращаем внимание, что работодатель производит...</td>\n      <td>зарплата</td>\n      <td>какой дата зарплата направляться пристав</td>\n      <td>99</td>\n      <td>10</td>\n    </tr>\n    <tr>\n      <th>4186</th>\n      <td>Когда денежные удержанные судебным средства пп...</td>\n      <td>Обращаем внимание, что работодатель производит...</td>\n      <td>зарплата</td>\n      <td>удержать денежный средство направляться судебн...</td>\n      <td>99</td>\n      <td>10</td>\n    </tr>\n    <tr>\n      <th>4187</th>\n      <td>направляется дату какую моя зарплата! В приста...</td>\n      <td>Обращаем внимание, что работодатель производит...</td>\n      <td>зарплата</td>\n      <td>какой дата зарплата направляться пристав</td>\n      <td>99</td>\n      <td>10</td>\n    </tr>\n  </tbody>\n</table>\n<p>4188 rows × 6 columns</p>\n</div>"
     },
     "execution_count": 12,
     "metadata": {},
     "output_type": "execute_result"
    }
   ],
   "source": [
    "from tqdm.notebook import tqdm\n",
    "tqdm.pandas()\n",
    "\n",
    "AUG_NUM = 30\n",
    "\n",
    "def balance_dataset(qa_df):\n",
    "    # Шаг 1: Найти самый частовстречаемый ответ\n",
    "    max_count = qa_df['content_id'].value_counts().max()\n",
    "\n",
    "    # Шаг 2: Сбалансировать выборку ответов\n",
    "    augmented_data = []\n",
    "\n",
    "    for content_id, group in tqdm(qa_df.groupby('content_id')):\n",
    "        count = len(group)\n",
    "        augmented_data.extend(group.to_dict('records'))  # Добавляем все исходные строки\n",
    "\n",
    "        # Если ответ встречается реже, чем самый частовстречаемый, создаем аугментированные копии вопросов\n",
    "        for _ in range(min(AUG_NUM, max_count - count)):\n",
    "            row = group.sample(1).iloc[0].to_dict()  # Случайный вопрос из группы\n",
    "            question = row['question']\n",
    "\n",
    "            # Применяем несколько аугментаций последовательно\n",
    "            augmented_question = add_or_remove_punctuation(question)\n",
    "            augmented_question = introduce_typo(augmented_question)\n",
    "            augmented_question = shuffle_words(augmented_question)\n",
    "\n",
    "            # Сохраняем аугментированный вопрос с исходным ответом\n",
    "            new_row = row.copy()\n",
    "            new_row['question'] = augmented_question\n",
    "            augmented_data.append(new_row)\n",
    "\n",
    "    # Шаг 3: Создать новый сбалансированный датафрейм\n",
    "    balanced_qa_df = pd.DataFrame(augmented_data)\n",
    "    return balanced_qa_df\n",
    "\n",
    "balanced_train_QA = balance_dataset(train_df)\n",
    "balanced_train_QA"
   ],
   "metadata": {
    "collapsed": false
   }
  },
  {
   "cell_type": "code",
   "execution_count": 14,
   "outputs": [],
   "source": [
    "# Преобразование текста в Bag of Words\n",
    "vectorizer = CountVectorizer()\n",
    "X_train = vectorizer.fit_transform(balanced_train_QA['question_processed'])\n",
    "X_test = vectorizer.transform(test_df['question_processed'])\n",
    "\n",
    "y_train = balanced_train_QA['content']\n",
    "y_test = test_df['content']\n",
    "\n",
    "model = LogisticRegression()\n",
    "model.fit(X_train, y_train)\n",
    "\n",
    "y_pred = model.predict(X_test)"
   ],
   "metadata": {
    "collapsed": false
   }
  },
  {
   "cell_type": "code",
   "execution_count": 17,
   "outputs": [
    {
     "name": "stdout",
     "output_type": "stream",
     "text": [
      "Accuracy: 0.6945337620578779\n",
      "Precision: 0.7301067635472781\n",
      "Recall: 0.6945337620578779\n",
      "F1 Score: 0.6986688121790211\n"
     ]
    },
    {
     "name": "stderr",
     "output_type": "stream",
     "text": [
      "C:\\Users\\nikit\\AppData\\Local\\Programs\\Python\\Python310\\lib\\site-packages\\sklearn\\metrics\\_classification.py:1344: UndefinedMetricWarning: Precision is ill-defined and being set to 0.0 in labels with no predicted samples. Use `zero_division` parameter to control this behavior.\n",
      "  _warn_prf(average, modifier, msg_start, len(result))\n",
      "C:\\Users\\nikit\\AppData\\Local\\Programs\\Python\\Python310\\lib\\site-packages\\sklearn\\metrics\\_classification.py:1344: UndefinedMetricWarning: Recall is ill-defined and being set to 0.0 in labels with no true samples. Use `zero_division` parameter to control this behavior.\n",
      "  _warn_prf(average, modifier, msg_start, len(result))\n"
     ]
    }
   ],
   "source": [
    "accuracy = accuracy_score(y_test, y_pred)\n",
    "precision = precision_score(y_test, y_pred, average='weighted')\n",
    "recall = recall_score(y_test, y_pred, average='weighted')\n",
    "f1 = f1_score(y_test, y_pred, average='weighted')\n",
    "\n",
    "print(f'Accuracy: {accuracy}')\n",
    "print(f'Precision: {precision}')\n",
    "print(f'Recall: {recall}')\n",
    "print(f'F1 Score: {f1}')"
   ],
   "metadata": {
    "collapsed": false
   }
  },
  {
   "cell_type": "code",
   "execution_count": 19,
   "outputs": [],
   "source": [
    "# Преобразование текста в TF-IDF\n",
    "vectorizer_tf = TfidfVectorizer()\n",
    "X_train_tf = vectorizer_tf.fit_transform(balanced_train_QA['question_processed'])\n",
    "X_test_tf = vectorizer_tf.transform(test_df['question_processed'])\n",
    "\n",
    "model2 = LogisticRegression()\n",
    "model2.fit(X_train_tf, y_train)\n",
    "\n",
    "y_pred_2 = model2.predict(X_test_tf)"
   ],
   "metadata": {
    "collapsed": false
   }
  },
  {
   "cell_type": "code",
   "execution_count": 20,
   "outputs": [
    {
     "name": "stdout",
     "output_type": "stream",
     "text": [
      "Accuracy: 0.7138263665594855\n",
      "Precision: 0.7301749899168145\n",
      "Recall: 0.7138263665594855\n",
      "F1 Score: 0.7038205570939289\n"
     ]
    },
    {
     "name": "stderr",
     "output_type": "stream",
     "text": [
      "C:\\Users\\nikit\\AppData\\Local\\Programs\\Python\\Python310\\lib\\site-packages\\sklearn\\metrics\\_classification.py:1344: UndefinedMetricWarning: Precision is ill-defined and being set to 0.0 in labels with no predicted samples. Use `zero_division` parameter to control this behavior.\n",
      "  _warn_prf(average, modifier, msg_start, len(result))\n",
      "C:\\Users\\nikit\\AppData\\Local\\Programs\\Python\\Python310\\lib\\site-packages\\sklearn\\metrics\\_classification.py:1344: UndefinedMetricWarning: Recall is ill-defined and being set to 0.0 in labels with no true samples. Use `zero_division` parameter to control this behavior.\n",
      "  _warn_prf(average, modifier, msg_start, len(result))\n"
     ]
    }
   ],
   "source": [
    "accuracy = accuracy_score(y_test, y_pred_2)\n",
    "precision = precision_score(y_test, y_pred_2, average='weighted')\n",
    "recall = recall_score(y_test, y_pred_2, average='weighted')\n",
    "f1 = f1_score(y_test, y_pred_2, average='weighted')\n",
    "\n",
    "print(f'Accuracy: {accuracy}')\n",
    "print(f'Precision: {precision}')\n",
    "print(f'Recall: {recall}')\n",
    "print(f'F1 Score: {f1}')"
   ],
   "metadata": {
    "collapsed": false
   }
  },
  {
   "cell_type": "code",
   "execution_count": null,
   "outputs": [],
   "source": [],
   "metadata": {
    "collapsed": false
   }
  }
 ],
 "metadata": {
  "kernelspec": {
   "display_name": "Python 3",
   "language": "python",
   "name": "python3"
  },
  "language_info": {
   "codemirror_mode": {
    "name": "ipython",
    "version": 2
   },
   "file_extension": ".py",
   "mimetype": "text/x-python",
   "name": "python",
   "nbconvert_exporter": "python",
   "pygments_lexer": "ipython2",
   "version": "2.7.6"
  }
 },
 "nbformat": 4,
 "nbformat_minor": 0
}
