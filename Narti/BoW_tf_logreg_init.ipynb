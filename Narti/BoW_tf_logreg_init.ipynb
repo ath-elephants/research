{
 "cells": [
  {
   "cell_type": "code",
   "execution_count": 1,
   "metadata": {
    "collapsed": true
   },
   "outputs": [],
   "source": [
    "import pandas as pd\n",
    "import re\n",
    "import string\n",
    "\n",
    "from pymorphy2 import MorphAnalyzer\n",
    "from nltk.corpus import stopwords\n",
    "from nltk import download\n",
    "from sklearn.model_selection import train_test_split\n",
    "from sklearn.feature_extraction.text import CountVectorizer\n",
    "from sklearn.linear_model import LogisticRegression\n",
    "from sklearn.feature_extraction.text import TfidfVectorizer\n",
    "from sklearn.metrics import accuracy_score, precision_score, recall_score, f1_score"
   ]
  },
  {
   "cell_type": "code",
   "execution_count": 2,
   "outputs": [
    {
     "data": {
      "text/plain": "                                               question  \\\n0     Я сменил автомобить, на учет еще не поставил, ...   \n1         Не отображается автомобиль в личном кабинете.   \n2                                   добавить автомобиль   \n3                      хочу внести данные об автомобиле   \n4                      Как внести данные об автомобиле?   \n...                                                 ...   \n1702                                         Ошибка 500   \n1703    при входе на портал обучения выходит ошибка 505   \n1704          привязать другой номер к карте лояльности   \n1705  Не открывается итоговый тест на директора мага...   \n1706              номер поддержки подскажите пожалуйста   \n\n                                                content    category  \n0     Для внесения данных по личному автомобилю обра...  автомобиль  \n1     Для внесения данных по личному автомобилю обра...  автомобиль  \n2     Для внесения данных по личному автомобилю обра...  автомобиль  \n3     Для внесения данных по личному автомобилю обра...  автомобиль  \n4     Для внесения данных по личному автомобилю обра...  автомобиль  \n...                                                 ...         ...  \n1702  Данная ошибка возможна при переходе на портал\\...    обучение  \n1703  Данная ошибка возможна при переходе на портал\\...    обучение  \n1704  Для изменения привязанного номера к карте лоял...          ЛК  \n1705  Создайте, пожалуйста,  обращение в ИТ поддержк...   поддержка  \n1706  Для оформления обращения в техническую поддерж...   поддержка  \n\n[1676 rows x 3 columns]",
      "text/html": "<div>\n<style scoped>\n    .dataframe tbody tr th:only-of-type {\n        vertical-align: middle;\n    }\n\n    .dataframe tbody tr th {\n        vertical-align: top;\n    }\n\n    .dataframe thead th {\n        text-align: right;\n    }\n</style>\n<table border=\"1\" class=\"dataframe\">\n  <thead>\n    <tr style=\"text-align: right;\">\n      <th></th>\n      <th>question</th>\n      <th>content</th>\n      <th>category</th>\n    </tr>\n  </thead>\n  <tbody>\n    <tr>\n      <th>0</th>\n      <td>Я сменил автомобить, на учет еще не поставил, ...</td>\n      <td>Для внесения данных по личному автомобилю обра...</td>\n      <td>автомобиль</td>\n    </tr>\n    <tr>\n      <th>1</th>\n      <td>Не отображается автомобиль в личном кабинете.</td>\n      <td>Для внесения данных по личному автомобилю обра...</td>\n      <td>автомобиль</td>\n    </tr>\n    <tr>\n      <th>2</th>\n      <td>добавить автомобиль</td>\n      <td>Для внесения данных по личному автомобилю обра...</td>\n      <td>автомобиль</td>\n    </tr>\n    <tr>\n      <th>3</th>\n      <td>хочу внести данные об автомобиле</td>\n      <td>Для внесения данных по личному автомобилю обра...</td>\n      <td>автомобиль</td>\n    </tr>\n    <tr>\n      <th>4</th>\n      <td>Как внести данные об автомобиле?</td>\n      <td>Для внесения данных по личному автомобилю обра...</td>\n      <td>автомобиль</td>\n    </tr>\n    <tr>\n      <th>...</th>\n      <td>...</td>\n      <td>...</td>\n      <td>...</td>\n    </tr>\n    <tr>\n      <th>1702</th>\n      <td>Ошибка 500</td>\n      <td>Данная ошибка возможна при переходе на портал\\...</td>\n      <td>обучение</td>\n    </tr>\n    <tr>\n      <th>1703</th>\n      <td>при входе на портал обучения выходит ошибка 505</td>\n      <td>Данная ошибка возможна при переходе на портал\\...</td>\n      <td>обучение</td>\n    </tr>\n    <tr>\n      <th>1704</th>\n      <td>привязать другой номер к карте лояльности</td>\n      <td>Для изменения привязанного номера к карте лоял...</td>\n      <td>ЛК</td>\n    </tr>\n    <tr>\n      <th>1705</th>\n      <td>Не открывается итоговый тест на директора мага...</td>\n      <td>Создайте, пожалуйста,  обращение в ИТ поддержк...</td>\n      <td>поддержка</td>\n    </tr>\n    <tr>\n      <th>1706</th>\n      <td>номер поддержки подскажите пожалуйста</td>\n      <td>Для оформления обращения в техническую поддерж...</td>\n      <td>поддержка</td>\n    </tr>\n  </tbody>\n</table>\n<p>1676 rows × 3 columns</p>\n</div>"
     },
     "execution_count": 2,
     "metadata": {},
     "output_type": "execute_result"
    }
   ],
   "source": [
    "QA = pd.read_csv('QA_init.csv', index_col=0)\n",
    "QA"
   ],
   "metadata": {
    "collapsed": false
   }
  },
  {
   "cell_type": "code",
   "execution_count": 3,
   "outputs": [
    {
     "name": "stderr",
     "output_type": "stream",
     "text": [
      "[nltk_data] Downloading package stopwords to\n",
      "[nltk_data]     C:\\Users\\nikit\\AppData\\Roaming\\nltk_data...\n",
      "[nltk_data]   Package stopwords is already up-to-date!\n"
     ]
    }
   ],
   "source": [
    "download('stopwords')\n",
    "\n",
    "morph = MorphAnalyzer()\n",
    "\n",
    "stop_words = set(stopwords.words('russian'))\n",
    "\n",
    "def preprocess_text(text):\n",
    "    text = text.lower()  # Приведение к нижнему регистру\n",
    "    text = re.sub(f\"[{string.punctuation}]\", \"\", text)  # Удаление пунктуации\n",
    "    text = \" \".join(morph.parse(word)[0].normal_form for word in text.split() if word not in stop_words)  # Лемматизация и удаление стоп-слов\n",
    "    return text\n",
    "\n",
    "QA['question_processed'] = QA['question'].apply(preprocess_text)"
   ],
   "metadata": {
    "collapsed": false
   }
  },
  {
   "cell_type": "code",
   "execution_count": 4,
   "outputs": [
    {
     "name": "stdout",
     "output_type": "stream",
     "text": [
      "Категории после фильтрации: ЛК                     481\n",
      "поддержка              276\n",
      "табель                 168\n",
      "отпуск                 119\n",
      "удаленная работа        98\n",
      "увольнение              60\n",
      "моя карьера             56\n",
      "БиР                     50\n",
      "отгул                   48\n",
      "прием на работу         48\n",
      "заявки                  47\n",
      "зарплата                45\n",
      "ЭЦП                     33\n",
      "график работы           28\n",
      "документооборот         22\n",
      "больничный              17\n",
      "налоговый вычет         12\n",
      "уход за больным          9\n",
      "справка                  9\n",
      "автомобиль               8\n",
      "материальная помощь      8\n",
      "доверенность             7\n",
      "обучение                 7\n",
      "командировка             5\n",
      "оператор                 5\n",
      "дмс                      3\n",
      "перевод                  2\n",
      "Name: category, dtype: int64\n",
      "Размер обучающей выборки: 1341\n",
      "Размер тестовой выборки: 335\n",
      "Категории в обучающей выборке: ЛК                     385\n",
      "поддержка              221\n",
      "табель                 134\n",
      "отпуск                  95\n",
      "удаленная работа        78\n",
      "увольнение              48\n",
      "моя карьера             45\n",
      "БиР                     40\n",
      "отгул                   38\n",
      "заявки                  38\n",
      "прием на работу         38\n",
      "зарплата                36\n",
      "ЭЦП                     26\n",
      "график работы           22\n",
      "документооборот         18\n",
      "больничный              14\n",
      "налоговый вычет         10\n",
      "уход за больным          7\n",
      "справка                  7\n",
      "автомобиль               6\n",
      "доверенность             6\n",
      "материальная помощь      6\n",
      "обучение                 6\n",
      "оператор                 4\n",
      "командировка             4\n",
      "перевод                  2\n",
      "дмс                      2\n",
      "МЧД                      1\n",
      "СБ                       1\n",
      "SED                      1\n",
      "выручай-карта            1\n",
      "Отпуск                   1\n",
      "Name: category, dtype: int64\n",
      "Категории в тестовой выборке: ЛК                     96\n",
      "поддержка              55\n",
      "табель                 34\n",
      "отпуск                 24\n",
      "удаленная работа       20\n",
      "увольнение             12\n",
      "моя карьера            11\n",
      "прием на работу        10\n",
      "БиР                    10\n",
      "отгул                  10\n",
      "зарплата                9\n",
      "заявки                  9\n",
      "ЭЦП                     7\n",
      "график работы           6\n",
      "документооборот         4\n",
      "больничный              3\n",
      "автомобиль              2\n",
      "уход за больным         2\n",
      "справка                 2\n",
      "налоговый вычет         2\n",
      "материальная помощь     2\n",
      "доверенность            1\n",
      "обучение                1\n",
      "командировка            1\n",
      "дмс                     1\n",
      "оператор                1\n",
      "Name: category, dtype: int64\n"
     ]
    }
   ],
   "source": [
    "min_count = 2\n",
    "category_counts = QA['category'].value_counts()\n",
    "categories_with_one_record = category_counts[category_counts == 1].index\n",
    "valid_categories = category_counts[category_counts >= min_count].index\n",
    "\n",
    "single_record_df = QA[QA['category'].isin(categories_with_one_record)]\n",
    "filtered_df = QA[QA['category'].isin(valid_categories)]\n",
    "\n",
    "print(f'Категории после фильтрации: {filtered_df[\"category\"].value_counts()}')\n",
    "\n",
    "train_df, test_df = train_test_split(filtered_df, test_size=0.2, stratify=filtered_df['category'], random_state=42)\n",
    "train_df = pd.concat([train_df, single_record_df], axis=0)\n",
    "\n",
    "print(f'Размер обучающей выборки: {len(train_df)}')\n",
    "print(f'Размер тестовой выборки: {len(test_df)}')\n",
    "\n",
    "# Проверка распределения категорий в обучающей и тестовой выборках\n",
    "print(f'Категории в обучающей выборке: {train_df[\"category\"].value_counts()}')\n",
    "print(f'Категории в тестовой выборке: {test_df[\"category\"].value_counts()}')"
   ],
   "metadata": {
    "collapsed": false
   }
  },
  {
   "cell_type": "code",
   "execution_count": 9,
   "outputs": [],
   "source": [
    "# Преобразование текста в Bag of Words\n",
    "vectorizer = CountVectorizer()\n",
    "X_train = vectorizer.fit_transform(train_df['question_processed'])\n",
    "X_test = vectorizer.transform(test_df['question_processed'])\n",
    "\n",
    "y_train = train_df['content']\n",
    "y_test = test_df['content']\n",
    "\n",
    "model = LogisticRegression()\n",
    "model.fit(X_train, y_train)\n",
    "\n",
    "y_pred = model.predict(X_test)"
   ],
   "metadata": {
    "collapsed": false
   }
  },
  {
   "cell_type": "code",
   "execution_count": 10,
   "outputs": [
    {
     "name": "stdout",
     "output_type": "stream",
     "text": [
      "Accuracy: 0.5880597014925373\n",
      "Precision: 0.49636944972484254\n",
      "Recall: 0.5880597014925373\n",
      "F1 Score: 0.5211195070397183\n"
     ]
    },
    {
     "name": "stderr",
     "output_type": "stream",
     "text": [
      "C:\\Users\\nikit\\AppData\\Local\\Programs\\Python\\Python310\\lib\\site-packages\\sklearn\\metrics\\_classification.py:1344: UndefinedMetricWarning: Precision is ill-defined and being set to 0.0 in labels with no predicted samples. Use `zero_division` parameter to control this behavior.\n",
      "  _warn_prf(average, modifier, msg_start, len(result))\n",
      "C:\\Users\\nikit\\AppData\\Local\\Programs\\Python\\Python310\\lib\\site-packages\\sklearn\\metrics\\_classification.py:1344: UndefinedMetricWarning: Recall is ill-defined and being set to 0.0 in labels with no true samples. Use `zero_division` parameter to control this behavior.\n",
      "  _warn_prf(average, modifier, msg_start, len(result))\n"
     ]
    }
   ],
   "source": [
    "accuracy = accuracy_score(y_test, y_pred)\n",
    "precision = precision_score(y_test, y_pred, average='weighted')\n",
    "recall = recall_score(y_test, y_pred, average='weighted')\n",
    "f1 = f1_score(y_test, y_pred, average='weighted')\n",
    "\n",
    "print(f'Accuracy: {accuracy}')\n",
    "print(f'Precision: {precision}')\n",
    "print(f'Recall: {recall}')\n",
    "print(f'F1 Score: {f1}')"
   ],
   "metadata": {
    "collapsed": false
   }
  },
  {
   "cell_type": "code",
   "execution_count": 11,
   "outputs": [],
   "source": [
    "# Преобразование текста в TF-IDF\n",
    "vectorizer_tf = TfidfVectorizer()\n",
    "X_train_tf = vectorizer_tf.fit_transform(train_df['question_processed'])\n",
    "X_test_tf = vectorizer_tf.transform(test_df['question_processed'])\n",
    "\n",
    "model2 = LogisticRegression()\n",
    "model2.fit(X_train_tf, y_train)\n",
    "\n",
    "y_pred_2 = model2.predict(X_test_tf)"
   ],
   "metadata": {
    "collapsed": false
   }
  },
  {
   "cell_type": "code",
   "execution_count": 12,
   "outputs": [
    {
     "name": "stdout",
     "output_type": "stream",
     "text": [
      "Accuracy: 0.48059701492537316\n",
      "Precision: 0.40016765312669517\n",
      "Recall: 0.48059701492537316\n",
      "F1 Score: 0.397248736085933\n"
     ]
    },
    {
     "name": "stderr",
     "output_type": "stream",
     "text": [
      "C:\\Users\\nikit\\AppData\\Local\\Programs\\Python\\Python310\\lib\\site-packages\\sklearn\\metrics\\_classification.py:1344: UndefinedMetricWarning: Precision is ill-defined and being set to 0.0 in labels with no predicted samples. Use `zero_division` parameter to control this behavior.\n",
      "  _warn_prf(average, modifier, msg_start, len(result))\n"
     ]
    }
   ],
   "source": [
    "accuracy = accuracy_score(y_test, y_pred_2)\n",
    "precision = precision_score(y_test, y_pred_2, average='weighted')\n",
    "recall = recall_score(y_test, y_pred_2, average='weighted')\n",
    "f1 = f1_score(y_test, y_pred_2, average='weighted')\n",
    "\n",
    "print(f'Accuracy: {accuracy}')\n",
    "print(f'Precision: {precision}')\n",
    "print(f'Recall: {recall}')\n",
    "print(f'F1 Score: {f1}')"
   ],
   "metadata": {
    "collapsed": false
   }
  }
 ],
 "metadata": {
  "kernelspec": {
   "display_name": "Python 3",
   "language": "python",
   "name": "python3"
  },
  "language_info": {
   "codemirror_mode": {
    "name": "ipython",
    "version": 2
   },
   "file_extension": ".py",
   "mimetype": "text/x-python",
   "name": "python",
   "nbconvert_exporter": "python",
   "pygments_lexer": "ipython2",
   "version": "2.7.6"
  }
 },
 "nbformat": 4,
 "nbformat_minor": 0
}
