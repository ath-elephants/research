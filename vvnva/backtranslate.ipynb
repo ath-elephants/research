{
 "cells": [
  {
   "cell_type": "code",
   "id": "initial_id",
   "metadata": {
    "collapsed": true,
    "ExecuteTime": {
     "end_time": "2024-09-06T23:00:29.040847Z",
     "start_time": "2024-09-06T23:00:22.149021Z"
    }
   },
   "source": [
    "from sklearn.feature_extraction.text import TfidfVectorizer\n",
    "from sklearn.metrics import accuracy_score, precision_score, recall_score, f1_score\n",
    "from sklearn.ensemble import RandomForestClassifier\n",
    "from tqdm import tqdm\n",
    "import pandas as pd\n",
    "from sklearn.model_selection import train_test_split\n",
    "\n",
    "from transformers import MarianMTModel, MarianTokenizer\n"
   ],
   "outputs": [],
   "execution_count": 1
  },
  {
   "metadata": {
    "ExecuteTime": {
     "end_time": "2024-09-06T23:00:29.670347Z",
     "start_time": "2024-09-06T23:00:29.042850Z"
    }
   },
   "cell_type": "code",
   "source": [
    "file_path = 'LK_modified.xlsx'\n",
    "all_sheets = pd.read_excel(file_path, sheet_name=None)\n",
    "dfs = {sheet_name: pd.DataFrame(sheet_data) for sheet_name, sheet_data in all_sheets.items()}\n",
    "popular_phrases = dfs[list(dfs.keys())[0]]\n",
    "df = dfs[list(dfs.keys())[1]]\n",
    "glossary = dfs[list(dfs.keys())[2]]"
   ],
   "id": "aff5cdbdc87524d7",
   "outputs": [],
   "execution_count": 2
  },
  {
   "metadata": {
    "ExecuteTime": {
     "end_time": "2024-09-06T23:00:29.685743Z",
     "start_time": "2024-09-06T23:00:29.672352Z"
    }
   },
   "cell_type": "code",
   "source": "glossary",
   "id": "173591b4ba694e32",
   "outputs": [
    {
     "data": {
      "text/plain": [
       "  Сокращение                     Расшифровка\n",
       "0         лк                  личный кабинет\n",
       "1        БиР             Беременность и роды\n",
       "2         зп                заработная плата\n",
       "3       НДФЛ  Налог на доходы физических лиц\n",
       "4        СТД        срочный трудовой договор\n",
       "5         ТК                трудовой договор\n",
       "6         АО                 авансовый отчет\n",
       "7        SLA                           сроки\n",
       "8        ЭЦП    электронная цифровая подпись\n",
       "9         КР                 кадровый резерв"
      ],
      "text/html": [
       "<div>\n",
       "<style scoped>\n",
       "    .dataframe tbody tr th:only-of-type {\n",
       "        vertical-align: middle;\n",
       "    }\n",
       "\n",
       "    .dataframe tbody tr th {\n",
       "        vertical-align: top;\n",
       "    }\n",
       "\n",
       "    .dataframe thead th {\n",
       "        text-align: right;\n",
       "    }\n",
       "</style>\n",
       "<table border=\"1\" class=\"dataframe\">\n",
       "  <thead>\n",
       "    <tr style=\"text-align: right;\">\n",
       "      <th></th>\n",
       "      <th>Сокращение</th>\n",
       "      <th>Расшифровка</th>\n",
       "    </tr>\n",
       "  </thead>\n",
       "  <tbody>\n",
       "    <tr>\n",
       "      <th>0</th>\n",
       "      <td>лк</td>\n",
       "      <td>личный кабинет</td>\n",
       "    </tr>\n",
       "    <tr>\n",
       "      <th>1</th>\n",
       "      <td>БиР</td>\n",
       "      <td>Беременность и роды</td>\n",
       "    </tr>\n",
       "    <tr>\n",
       "      <th>2</th>\n",
       "      <td>зп</td>\n",
       "      <td>заработная плата</td>\n",
       "    </tr>\n",
       "    <tr>\n",
       "      <th>3</th>\n",
       "      <td>НДФЛ</td>\n",
       "      <td>Налог на доходы физических лиц</td>\n",
       "    </tr>\n",
       "    <tr>\n",
       "      <th>4</th>\n",
       "      <td>СТД</td>\n",
       "      <td>срочный трудовой договор</td>\n",
       "    </tr>\n",
       "    <tr>\n",
       "      <th>5</th>\n",
       "      <td>ТК</td>\n",
       "      <td>трудовой договор</td>\n",
       "    </tr>\n",
       "    <tr>\n",
       "      <th>6</th>\n",
       "      <td>АО</td>\n",
       "      <td>авансовый отчет</td>\n",
       "    </tr>\n",
       "    <tr>\n",
       "      <th>7</th>\n",
       "      <td>SLA</td>\n",
       "      <td>сроки</td>\n",
       "    </tr>\n",
       "    <tr>\n",
       "      <th>8</th>\n",
       "      <td>ЭЦП</td>\n",
       "      <td>электронная цифровая подпись</td>\n",
       "    </tr>\n",
       "    <tr>\n",
       "      <th>9</th>\n",
       "      <td>КР</td>\n",
       "      <td>кадровый резерв</td>\n",
       "    </tr>\n",
       "  </tbody>\n",
       "</table>\n",
       "</div>"
      ]
     },
     "execution_count": 3,
     "metadata": {},
     "output_type": "execute_result"
    }
   ],
   "execution_count": 3
  },
  {
   "metadata": {
    "ExecuteTime": {
     "end_time": "2024-09-06T23:00:34.702876Z",
     "start_time": "2024-09-06T23:00:29.686747Z"
    }
   },
   "cell_type": "code",
   "source": [
    "src_lang = \"Helsinki-NLP/opus-mt-ru-en\"\n",
    "tgt_lang = \"Helsinki-NLP/opus-mt-en-ru\"\n",
    "\n",
    "tokenizer_src = MarianTokenizer.from_pretrained(src_lang)\n",
    "model_src = MarianMTModel.from_pretrained(src_lang)\n",
    "\n",
    "tokenizer_tgt = MarianTokenizer.from_pretrained(tgt_lang)\n",
    "model_tgt = MarianMTModel.from_pretrained(tgt_lang)"
   ],
   "id": "20e6ba85afbcca2f",
   "outputs": [
    {
     "name": "stderr",
     "output_type": "stream",
     "text": [
      "C:\\Users\\ivann\\AppData\\Roaming\\Python\\Python311\\site-packages\\transformers\\models\\marian\\tokenization_marian.py:175: UserWarning: Recommended: pip install sacremoses.\n",
      "  warnings.warn(\"Recommended: pip install sacremoses.\")\n",
      "C:\\Users\\ivann\\AppData\\Roaming\\Python\\Python311\\site-packages\\transformers\\tokenization_utils_base.py:1601: FutureWarning: `clean_up_tokenization_spaces` was not set. It will be set to `True` by default. This behavior will be depracted in transformers v4.45, and will be then set to `False` by default. For more details check this issue: https://github.com/huggingface/transformers/issues/31884\n",
      "  warnings.warn(\n"
     ]
    }
   ],
   "execution_count": 4
  },
  {
   "metadata": {
    "ExecuteTime": {
     "end_time": "2024-09-06T23:00:34.710287Z",
     "start_time": "2024-09-06T23:00:34.704882Z"
    }
   },
   "cell_type": "code",
   "source": [
    "answer = df['content'][0]\n",
    "category = df['category'][0]\n",
    "sentence = df['question'][0]\n",
    "sentence"
   ],
   "id": "5195d5828b0389e5",
   "outputs": [
    {
     "data": {
      "text/plain": [
       "'Как заказать выпуск МЧД в ТС5?'"
      ]
     },
     "execution_count": 5,
     "metadata": {},
     "output_type": "execute_result"
    }
   ],
   "execution_count": 5
  },
  {
   "metadata": {
    "ExecuteTime": {
     "end_time": "2024-09-06T23:00:39.976561Z",
     "start_time": "2024-09-06T23:00:34.711289Z"
    }
   },
   "cell_type": "code",
   "source": [
    "def backtranslate_with_temperature(sentence, num_variations=5, temperature=1):\n",
    "    inputs = tokenizer_src(sentence, return_tensors=\"pt\")\n",
    "    translated = model_src.generate(**inputs, temperature=temperature, num_return_sequences=num_variations)\n",
    "\n",
    "    generated_sentences = []\n",
    "    for translation in translated:\n",
    "        translated_sentence = tokenizer_src.decode(translation, skip_special_tokens=True)\n",
    "        inputs_back = tokenizer_tgt(translated_sentence, return_tensors=\"pt\")\n",
    "        back_translated = model_tgt.generate(**inputs_back, temperature=temperature)\n",
    "        final_sentence = tokenizer_tgt.decode(back_translated[0], skip_special_tokens=True)\n",
    "        generated_sentences.append(final_sentence)\n",
    "\n",
    "    return generated_sentences\n",
    "\n",
    "generated_sentences = backtranslate_with_temperature(sentence, num_variations=5, temperature=1)"
   ],
   "id": "71c15f71e3d0d137",
   "outputs": [],
   "execution_count": 6
  },
  {
   "metadata": {
    "ExecuteTime": {
     "end_time": "2024-09-06T23:00:39.981777Z",
     "start_time": "2024-09-06T23:00:39.977562Z"
    }
   },
   "cell_type": "code",
   "source": [
    "for i, sent in enumerate(generated_sentences, 1):\n",
    "    print(f\"Вариант {i}: {category} {sent}\")"
   ],
   "id": "712b7419f396c5aa",
   "outputs": [
    {
     "name": "stdout",
     "output_type": "stream",
     "text": [
      "Вариант 1: ЭЦП Как вы закажете медэкспертизу по TC5?\n",
      "Вариант 2: ЭЦП Как вы заказываете медэкспертов в TC5?\n",
      "Вариант 3: ЭЦП Как вы заказываете медэкспертов в TC5?\n",
      "Вариант 4: ЭЦП Как вы закажете медосмотр в TC5?\n",
      "Вариант 5: ЭЦП Как вы заказываете медэкспертов на TS5?\n"
     ]
    }
   ],
   "execution_count": 7
  },
  {
   "metadata": {
    "ExecuteTime": {
     "end_time": "2024-09-06T23:01:15.816906Z",
     "start_time": "2024-09-06T23:01:15.814069Z"
    }
   },
   "cell_type": "code",
   "source": "",
   "id": "b60028b268313ecf",
   "outputs": [],
   "execution_count": 7
  },
  {
   "metadata": {
    "ExecuteTime": {
     "end_time": "2024-09-06T23:01:16.301711Z",
     "start_time": "2024-09-06T23:01:16.298802Z"
    }
   },
   "cell_type": "code",
   "source": "",
   "id": "4e63638b7a1e7a10",
   "outputs": [],
   "execution_count": 7
  },
  {
   "metadata": {
    "ExecuteTime": {
     "end_time": "2024-09-06T23:01:34.837652Z",
     "start_time": "2024-09-06T23:01:34.831484Z"
    }
   },
   "cell_type": "code",
   "source": [
    "answer = df['content'][6]\n",
    "category = df['category'][6]\n",
    "sentence = df['question'][6]\n",
    "sentence"
   ],
   "id": "62c7da1ca4376f9",
   "outputs": [
    {
     "data": {
      "text/plain": [
       "'больничный по уходу за членом семьи'"
      ]
     },
     "execution_count": 11,
     "metadata": {},
     "output_type": "execute_result"
    }
   ],
   "execution_count": 11
  },
  {
   "metadata": {
    "ExecuteTime": {
     "end_time": "2024-09-06T23:01:40.220223Z",
     "start_time": "2024-09-06T23:01:36.647393Z"
    }
   },
   "cell_type": "code",
   "source": [
    "generated_sentences = backtranslate_with_temperature(sentence, num_variations=5, temperature=1.2)\n",
    "for i, sent in enumerate(generated_sentences, 1):\n",
    "    print(f\"Вариант {i}: {category} {sent}\")"
   ],
   "id": "6b7e79481026de2",
   "outputs": [
    {
     "name": "stderr",
     "output_type": "stream",
     "text": [
      "C:\\Users\\ivann\\AppData\\Roaming\\Python\\Python311\\site-packages\\transformers\\generation\\configuration_utils.py:567: UserWarning: `do_sample` is set to `False`. However, `temperature` is set to `1.2` -- this flag is only used in sample-based generation modes. You should set `do_sample=True` or unset `temperature`.\n",
      "  warnings.warn(\n"
     ]
    },
    {
     "name": "stdout",
     "output_type": "stream",
     "text": [
      "Вариант 1: уход за больным Больница для члена семьи\n",
      "Вариант 2: уход за больным Больница для ухода за членом семьи\n",
      "Вариант 3: уход за больным Больничное обслуживание члена семьи\n",
      "Вариант 4: уход за больным Больница для членов семьи\n",
      "Вариант 5: уход за больным Больница для ухода за членом семьи\n"
     ]
    }
   ],
   "execution_count": 12
  },
  {
   "metadata": {},
   "cell_type": "code",
   "outputs": [],
   "execution_count": null,
   "source": "",
   "id": "3b4b7351d2b98c14"
  },
  {
   "metadata": {},
   "cell_type": "code",
   "outputs": [],
   "execution_count": null,
   "source": "",
   "id": "639359872352e59a"
  },
  {
   "metadata": {},
   "cell_type": "code",
   "outputs": [],
   "execution_count": null,
   "source": "",
   "id": "7bf75446d00d61a7"
  },
  {
   "metadata": {},
   "cell_type": "code",
   "outputs": [],
   "execution_count": null,
   "source": "",
   "id": "d92cf82f4e6fa1be"
  },
  {
   "metadata": {},
   "cell_type": "code",
   "outputs": [],
   "execution_count": null,
   "source": "",
   "id": "701259a61b9686f9"
  },
  {
   "metadata": {},
   "cell_type": "code",
   "outputs": [],
   "execution_count": null,
   "source": "",
   "id": "2d99bb48ebd8c4c1"
  },
  {
   "metadata": {
    "ExecuteTime": {
     "end_time": "2024-09-06T22:03:33.812214Z",
     "start_time": "2024-09-06T22:03:33.802135Z"
    }
   },
   "cell_type": "code",
   "source": "df['content_label'] = df['content'].factorize()[0]",
   "id": "87ee9c05819d10d2",
   "outputs": [],
   "execution_count": 79
  },
  {
   "metadata": {
    "ExecuteTime": {
     "end_time": "2024-09-06T22:03:39.009901Z",
     "start_time": "2024-09-06T22:03:38.999560Z"
    }
   },
   "cell_type": "code",
   "source": "df",
   "id": "702d28fb9f452e39",
   "outputs": [
    {
     "data": {
      "text/plain": [
       "        id                                           question  \\\n",
       "0     1577                     как заказать выпуск мчд в тс5?   \n",
       "1     1225  сотруднику в личный кабинет не приходит ссылич...   \n",
       "2     1560  как получить выплату по уходу за больным родст...   \n",
       "3     1561  как получить выплату по уходу за больным родст...   \n",
       "4     1562  почему нет выплаты от работодателя по больничн...   \n",
       "...    ...                                                ...   \n",
       "1683  1686                         вернуться на старый портал   \n",
       "1684  1687                                     нужен оператор   \n",
       "1685  1580                   нет задачи на подписание графика   \n",
       "1686  1403          где взять шаблон заявления на увольнение?   \n",
       "1687  1600                     что такое электронная подпись?   \n",
       "\n",
       "                                                content         category  \\\n",
       "0     1. Заходим на портал поддержки https://company...              ЭЦП   \n",
       "1      Анкета СБ приходит при первичном трудоустройстве               СБ   \n",
       "2     Больничный с кодом 09 (уход за больным членом ...  уход за больным   \n",
       "3     Больничный с кодом 09 (уход за больным членом ...  уход за больным   \n",
       "4     Больничный с кодом 09 (уход за больным членом ...  уход за больным   \n",
       "...                                                 ...              ...   \n",
       "1683  Чат-бот находится в стадии пилотирования и обу...        поддержка   \n",
       "1684  Чат-бот находится в стадии пилотирования и обу...        поддержка   \n",
       "1685  Чтобы дочерняя задача появилась на подписи у с...              ЭЦП   \n",
       "1686  Шаблон размещен в Базе знаний Личного кабинета...       увольнение   \n",
       "1687  ЭП – электронная подпись, или ЭЦП – электронна...              ЭЦП   \n",
       "\n",
       "      content_label  \n",
       "0                 0  \n",
       "1                 1  \n",
       "2                 2  \n",
       "3                 2  \n",
       "4                 2  \n",
       "...             ...  \n",
       "1683            215  \n",
       "1684            215  \n",
       "1685            216  \n",
       "1686            217  \n",
       "1687            218  \n",
       "\n",
       "[1688 rows x 5 columns]"
      ],
      "text/html": [
       "<div>\n",
       "<style scoped>\n",
       "    .dataframe tbody tr th:only-of-type {\n",
       "        vertical-align: middle;\n",
       "    }\n",
       "\n",
       "    .dataframe tbody tr th {\n",
       "        vertical-align: top;\n",
       "    }\n",
       "\n",
       "    .dataframe thead th {\n",
       "        text-align: right;\n",
       "    }\n",
       "</style>\n",
       "<table border=\"1\" class=\"dataframe\">\n",
       "  <thead>\n",
       "    <tr style=\"text-align: right;\">\n",
       "      <th></th>\n",
       "      <th>id</th>\n",
       "      <th>question</th>\n",
       "      <th>content</th>\n",
       "      <th>category</th>\n",
       "      <th>content_label</th>\n",
       "    </tr>\n",
       "  </thead>\n",
       "  <tbody>\n",
       "    <tr>\n",
       "      <th>0</th>\n",
       "      <td>1577</td>\n",
       "      <td>как заказать выпуск мчд в тс5?</td>\n",
       "      <td>1. Заходим на портал поддержки https://company...</td>\n",
       "      <td>ЭЦП</td>\n",
       "      <td>0</td>\n",
       "    </tr>\n",
       "    <tr>\n",
       "      <th>1</th>\n",
       "      <td>1225</td>\n",
       "      <td>сотруднику в личный кабинет не приходит ссылич...</td>\n",
       "      <td>Анкета СБ приходит при первичном трудоустройстве</td>\n",
       "      <td>СБ</td>\n",
       "      <td>1</td>\n",
       "    </tr>\n",
       "    <tr>\n",
       "      <th>2</th>\n",
       "      <td>1560</td>\n",
       "      <td>как получить выплату по уходу за больным родст...</td>\n",
       "      <td>Больничный с кодом 09 (уход за больным членом ...</td>\n",
       "      <td>уход за больным</td>\n",
       "      <td>2</td>\n",
       "    </tr>\n",
       "    <tr>\n",
       "      <th>3</th>\n",
       "      <td>1561</td>\n",
       "      <td>как получить выплату по уходу за больным родст...</td>\n",
       "      <td>Больничный с кодом 09 (уход за больным членом ...</td>\n",
       "      <td>уход за больным</td>\n",
       "      <td>2</td>\n",
       "    </tr>\n",
       "    <tr>\n",
       "      <th>4</th>\n",
       "      <td>1562</td>\n",
       "      <td>почему нет выплаты от работодателя по больничн...</td>\n",
       "      <td>Больничный с кодом 09 (уход за больным членом ...</td>\n",
       "      <td>уход за больным</td>\n",
       "      <td>2</td>\n",
       "    </tr>\n",
       "    <tr>\n",
       "      <th>...</th>\n",
       "      <td>...</td>\n",
       "      <td>...</td>\n",
       "      <td>...</td>\n",
       "      <td>...</td>\n",
       "      <td>...</td>\n",
       "    </tr>\n",
       "    <tr>\n",
       "      <th>1683</th>\n",
       "      <td>1686</td>\n",
       "      <td>вернуться на старый портал</td>\n",
       "      <td>Чат-бот находится в стадии пилотирования и обу...</td>\n",
       "      <td>поддержка</td>\n",
       "      <td>215</td>\n",
       "    </tr>\n",
       "    <tr>\n",
       "      <th>1684</th>\n",
       "      <td>1687</td>\n",
       "      <td>нужен оператор</td>\n",
       "      <td>Чат-бот находится в стадии пилотирования и обу...</td>\n",
       "      <td>поддержка</td>\n",
       "      <td>215</td>\n",
       "    </tr>\n",
       "    <tr>\n",
       "      <th>1685</th>\n",
       "      <td>1580</td>\n",
       "      <td>нет задачи на подписание графика</td>\n",
       "      <td>Чтобы дочерняя задача появилась на подписи у с...</td>\n",
       "      <td>ЭЦП</td>\n",
       "      <td>216</td>\n",
       "    </tr>\n",
       "    <tr>\n",
       "      <th>1686</th>\n",
       "      <td>1403</td>\n",
       "      <td>где взять шаблон заявления на увольнение?</td>\n",
       "      <td>Шаблон размещен в Базе знаний Личного кабинета...</td>\n",
       "      <td>увольнение</td>\n",
       "      <td>217</td>\n",
       "    </tr>\n",
       "    <tr>\n",
       "      <th>1687</th>\n",
       "      <td>1600</td>\n",
       "      <td>что такое электронная подпись?</td>\n",
       "      <td>ЭП – электронная подпись, или ЭЦП – электронна...</td>\n",
       "      <td>ЭЦП</td>\n",
       "      <td>218</td>\n",
       "    </tr>\n",
       "  </tbody>\n",
       "</table>\n",
       "<p>1688 rows × 5 columns</p>\n",
       "</div>"
      ]
     },
     "execution_count": 80,
     "metadata": {},
     "output_type": "execute_result"
    }
   ],
   "execution_count": 80
  },
  {
   "metadata": {
    "ExecuteTime": {
     "end_time": "2024-09-06T22:04:59.241367Z",
     "start_time": "2024-09-06T22:04:59.231318Z"
    }
   },
   "cell_type": "code",
   "source": [
    "rare_categories = df['content'].value_counts()[df['content'].value_counts() <= 4].index\n",
    "non_rare = df['content'].value_counts()[df['content'].value_counts() > 4].index\n",
    "rare_data = df[df['content'].isin(rare_categories)]\n",
    "df = df[df['content'].isin(non_rare)]"
   ],
   "id": "de97b8a3fefcffcc",
   "outputs": [],
   "execution_count": 83
  },
  {
   "metadata": {
    "ExecuteTime": {
     "end_time": "2024-09-06T22:05:00.097166Z",
     "start_time": "2024-09-06T22:05:00.089690Z"
    }
   },
   "cell_type": "code",
   "source": [
    "X_train, X_test, y_train, y_test = train_test_split(df,\n",
    "                                                    df['content_label'],\n",
    "                                                    test_size=0.20,\n",
    "                                                    stratify=df['content_label'],\n",
    "                                                    random_state=42)"
   ],
   "id": "9db2ec4d5f9992af",
   "outputs": [],
   "execution_count": 84
  },
  {
   "metadata": {
    "ExecuteTime": {
     "end_time": "2024-09-06T22:05:16.462787Z",
     "start_time": "2024-09-06T22:05:16.452516Z"
    }
   },
   "cell_type": "code",
   "source": "X_train\n",
   "id": "c544a6be987b4d90",
   "outputs": [
    {
     "data": {
      "text/plain": [
       "        id                                           question  \\\n",
       "1174   545  сотрудник удалил нечаянно логин и пароль от ли...   \n",
       "1562  1123    не приходит заявка из скиллаз в личный кабинет2   \n",
       "79     250                          отсутствует график работы   \n",
       "1042   413                                как сбросить пароль   \n",
       "1329    64                            изменить данные пособия   \n",
       "...    ...                                                ...   \n",
       "328   1247  нет моей команды в личный кабинет. с уважением дм   \n",
       "1106   477  директор не может зайти в личный кбинет сотруд...   \n",
       "11    1226                            где забрать мою справку   \n",
       "275    659              нет доступа к программе \"моя карьера\"   \n",
       "54    1505         не могу изменить и создать новую заявку ур   \n",
       "\n",
       "                                                content          category  \\\n",
       "1174  При проблемах со входом в личный кабинет, преж...                ЛК   \n",
       "1562  Создайте, пожалуйста, обращение в ИТ поддержку...         поддержка   \n",
       "79    Вкладка \"график работы\" недоступна сотрудникам...                ЛК   \n",
       "1042  При проблемах со входом в личный кабинет, преж...                ЛК   \n",
       "1329  Создайте заявку по теме «Больничный», подтема ...        больничный   \n",
       "...                                                 ...               ...   \n",
       "328   Если в \"команде\" нет подчиненных сотрудников п...            табель   \n",
       "1106  При проблемах со входом в личный кабинет, преж...                ЛК   \n",
       "11    В заявке на заказ справки Вы указываете, где х...           справка   \n",
       "275   Доступ к программе \"карьера\" появляется спустя...       моя карьера   \n",
       "54    Вам необходимо обратиться в специалистам HR дл...  удаленная работа   \n",
       "\n",
       "      content_label  \n",
       "1174            169  \n",
       "1562            191  \n",
       "79               26  \n",
       "1042            169  \n",
       "1329            189  \n",
       "...             ...  \n",
       "328              80  \n",
       "1106            169  \n",
       "11                3  \n",
       "275              77  \n",
       "54               16  \n",
       "\n",
       "[1135 rows x 5 columns]"
      ],
      "text/html": [
       "<div>\n",
       "<style scoped>\n",
       "    .dataframe tbody tr th:only-of-type {\n",
       "        vertical-align: middle;\n",
       "    }\n",
       "\n",
       "    .dataframe tbody tr th {\n",
       "        vertical-align: top;\n",
       "    }\n",
       "\n",
       "    .dataframe thead th {\n",
       "        text-align: right;\n",
       "    }\n",
       "</style>\n",
       "<table border=\"1\" class=\"dataframe\">\n",
       "  <thead>\n",
       "    <tr style=\"text-align: right;\">\n",
       "      <th></th>\n",
       "      <th>id</th>\n",
       "      <th>question</th>\n",
       "      <th>content</th>\n",
       "      <th>category</th>\n",
       "      <th>content_label</th>\n",
       "    </tr>\n",
       "  </thead>\n",
       "  <tbody>\n",
       "    <tr>\n",
       "      <th>1174</th>\n",
       "      <td>545</td>\n",
       "      <td>сотрудник удалил нечаянно логин и пароль от ли...</td>\n",
       "      <td>При проблемах со входом в личный кабинет, преж...</td>\n",
       "      <td>ЛК</td>\n",
       "      <td>169</td>\n",
       "    </tr>\n",
       "    <tr>\n",
       "      <th>1562</th>\n",
       "      <td>1123</td>\n",
       "      <td>не приходит заявка из скиллаз в личный кабинет2</td>\n",
       "      <td>Создайте, пожалуйста, обращение в ИТ поддержку...</td>\n",
       "      <td>поддержка</td>\n",
       "      <td>191</td>\n",
       "    </tr>\n",
       "    <tr>\n",
       "      <th>79</th>\n",
       "      <td>250</td>\n",
       "      <td>отсутствует график работы</td>\n",
       "      <td>Вкладка \"график работы\" недоступна сотрудникам...</td>\n",
       "      <td>ЛК</td>\n",
       "      <td>26</td>\n",
       "    </tr>\n",
       "    <tr>\n",
       "      <th>1042</th>\n",
       "      <td>413</td>\n",
       "      <td>как сбросить пароль</td>\n",
       "      <td>При проблемах со входом в личный кабинет, преж...</td>\n",
       "      <td>ЛК</td>\n",
       "      <td>169</td>\n",
       "    </tr>\n",
       "    <tr>\n",
       "      <th>1329</th>\n",
       "      <td>64</td>\n",
       "      <td>изменить данные пособия</td>\n",
       "      <td>Создайте заявку по теме «Больничный», подтема ...</td>\n",
       "      <td>больничный</td>\n",
       "      <td>189</td>\n",
       "    </tr>\n",
       "    <tr>\n",
       "      <th>...</th>\n",
       "      <td>...</td>\n",
       "      <td>...</td>\n",
       "      <td>...</td>\n",
       "      <td>...</td>\n",
       "      <td>...</td>\n",
       "    </tr>\n",
       "    <tr>\n",
       "      <th>328</th>\n",
       "      <td>1247</td>\n",
       "      <td>нет моей команды в личный кабинет. с уважением дм</td>\n",
       "      <td>Если в \"команде\" нет подчиненных сотрудников п...</td>\n",
       "      <td>табель</td>\n",
       "      <td>80</td>\n",
       "    </tr>\n",
       "    <tr>\n",
       "      <th>1106</th>\n",
       "      <td>477</td>\n",
       "      <td>директор не может зайти в личный кбинет сотруд...</td>\n",
       "      <td>При проблемах со входом в личный кабинет, преж...</td>\n",
       "      <td>ЛК</td>\n",
       "      <td>169</td>\n",
       "    </tr>\n",
       "    <tr>\n",
       "      <th>11</th>\n",
       "      <td>1226</td>\n",
       "      <td>где забрать мою справку</td>\n",
       "      <td>В заявке на заказ справки Вы указываете, где х...</td>\n",
       "      <td>справка</td>\n",
       "      <td>3</td>\n",
       "    </tr>\n",
       "    <tr>\n",
       "      <th>275</th>\n",
       "      <td>659</td>\n",
       "      <td>нет доступа к программе \"моя карьера\"</td>\n",
       "      <td>Доступ к программе \"карьера\" появляется спустя...</td>\n",
       "      <td>моя карьера</td>\n",
       "      <td>77</td>\n",
       "    </tr>\n",
       "    <tr>\n",
       "      <th>54</th>\n",
       "      <td>1505</td>\n",
       "      <td>не могу изменить и создать новую заявку ур</td>\n",
       "      <td>Вам необходимо обратиться в специалистам HR дл...</td>\n",
       "      <td>удаленная работа</td>\n",
       "      <td>16</td>\n",
       "    </tr>\n",
       "  </tbody>\n",
       "</table>\n",
       "<p>1135 rows × 5 columns</p>\n",
       "</div>"
      ]
     },
     "execution_count": 86,
     "metadata": {},
     "output_type": "execute_result"
    }
   ],
   "execution_count": 86
  },
  {
   "metadata": {
    "ExecuteTime": {
     "end_time": "2024-09-06T22:10:23.234087Z",
     "start_time": "2024-09-06T22:10:23.226904Z"
    }
   },
   "cell_type": "code",
   "source": [
    "AUG_NUM = 5\n",
    "\n",
    "def balance_dataset(qa_df):\n",
    "    # Шаг 1: Найти самый частовстречаемый ответ\n",
    "    max_count = qa_df['content_label'].value_counts().max()\n",
    "\n",
    "    # Шаг 2: Сбалансировать выборку ответов\n",
    "    augmented_data = []\n",
    "    for content_id, group in tqdm(qa_df.groupby('content_label')):\n",
    "        count = len(group)\n",
    "        augmented_data.extend(group.to_dict('records'))  # Добавляем все исходные строки\n",
    "\n",
    "        # Если ответ встречается реже, чем самый частовстречаемый, создаем аугментированные копии вопросов\n",
    "        for _ in range(min(AUG_NUM, max_count - count)):\n",
    "            row = group.sample(1).iloc[0].to_dict()  # Случайный вопрос из группы\n",
    "            question = row['question']\n",
    "\n",
    "            # Применяем несколько аугментаций последовательно\n",
    "            augmented_question = backtranslate_with_temperature(question, num_variations=5, temperature=1)\n",
    "            #augmented_question = generate_paraphrases(question, num_return_sequences=5)\n",
    "            #augmented_question = add_or_remove_punctuation(question)\n",
    "            #augmented_question = introduce_typo(augmented_question)\n",
    "            #augmented_question = shuffle_words(augmented_question)\n",
    "\n",
    "            # Сохраняем аугментированный вопрос с исходным ответом\n",
    "            new_row = row.copy()\n",
    "            new_row['question'] = augmented_question\n",
    "            new_row['category'] = row['category']\n",
    "            augmented_data.append(new_row)\n",
    "\n",
    "    # Шаг 3: Создать новый сбалансированный датафрейм\n",
    "    balanced_qa_df = pd.DataFrame(augmented_data)\n",
    "    return balanced_qa_df"
   ],
   "id": "97021956f8bcfd40",
   "outputs": [],
   "execution_count": 94
  },
  {
   "metadata": {
    "ExecuteTime": {
     "end_time": "2024-09-06T22:32:04.424826Z",
     "start_time": "2024-09-06T22:10:24.163607Z"
    }
   },
   "cell_type": "code",
   "source": "balanced_qa_df=balance_dataset(X_train)",
   "id": "38b15b557aa2922b",
   "outputs": [
    {
     "name": "stderr",
     "output_type": "stream",
     "text": [
      "100%|██████████| 63/63 [21:40<00:00, 20.64s/it]\n"
     ]
    }
   ],
   "execution_count": 95
  },
  {
   "metadata": {},
   "cell_type": "markdown",
   "source": "долго(",
   "id": "4d1ebfa390804fed"
  },
  {
   "metadata": {
    "ExecuteTime": {
     "end_time": "2024-09-06T22:32:04.434472Z",
     "start_time": "2024-09-06T22:32:04.425830Z"
    }
   },
   "cell_type": "code",
   "source": [
    "X_train['question'] = X_train['category'] + \" \" + X_train['question']\n",
    "X_test['question'] = X_test['category'] + \" \" + X_test['question']\n",
    "X_train['question'] = X_train['question'].str.lower()\n",
    "X_test['question'] = X_test['question'].str.lower()"
   ],
   "id": "c8c04d29c13db400",
   "outputs": [],
   "execution_count": 96
  },
  {
   "metadata": {
    "ExecuteTime": {
     "end_time": "2024-09-06T22:32:04.440007Z",
     "start_time": "2024-09-06T22:32:04.435476Z"
    }
   },
   "cell_type": "code",
   "source": [
    "X_train = X_train['question']\n",
    "X_test = X_test['question']"
   ],
   "id": "a6e201da40646125",
   "outputs": [],
   "execution_count": 97
  },
  {
   "metadata": {
    "ExecuteTime": {
     "end_time": "2024-09-06T22:46:55.478219Z",
     "start_time": "2024-09-06T22:46:55.473336Z"
    }
   },
   "cell_type": "code",
   "source": "X_train",
   "id": "b389ad9b00cd1844",
   "outputs": [
    {
     "data": {
      "text/plain": [
       "1174    лк сотрудник удалил нечаянно логин и пароль от...\n",
       "1562    поддержка не приходит заявка из скиллаз в личн...\n",
       "79                           лк отсутствует график работы\n",
       "1042                               лк как сбросить пароль\n",
       "1329                   больничный изменить данные пособия\n",
       "                              ...                        \n",
       "328     табель нет моей команды в личный кабинет. с ув...\n",
       "1106    лк директор не может зайти в личный кбинет сот...\n",
       "11                        справка где забрать мою справку\n",
       "275     моя карьера нет доступа к программе \"моя карьера\"\n",
       "54      удаленная работа не могу изменить и создать но...\n",
       "Name: question, Length: 1135, dtype: object"
      ]
     },
     "execution_count": 111,
     "metadata": {},
     "output_type": "execute_result"
    }
   ],
   "execution_count": 111
  },
  {
   "metadata": {
    "ExecuteTime": {
     "end_time": "2024-09-06T22:32:04.504581Z",
     "start_time": "2024-09-06T22:32:04.459397Z"
    }
   },
   "cell_type": "code",
   "source": [
    "### tfidf\n",
    "tfidf = TfidfVectorizer()\n",
    "X_train_tfidf = tfidf.fit_transform(X_train)\n",
    "X_test_tfidf = tfidf.transform(X_test)"
   ],
   "id": "434096860091116c",
   "outputs": [],
   "execution_count": 100
  },
  {
   "metadata": {
    "ExecuteTime": {
     "end_time": "2024-09-06T22:32:16.342538Z",
     "start_time": "2024-09-06T22:32:04.505585Z"
    }
   },
   "cell_type": "code",
   "source": [
    "rf_classifier = RandomForestClassifier(n_estimators=1000, random_state=42)\n",
    "rf_classifier.fit(X_train_tfidf, y_train)\n",
    "y_pred = rf_classifier.predict(X_test_tfidf)"
   ],
   "id": "c70f11d994ab566b",
   "outputs": [],
   "execution_count": 101
  },
  {
   "metadata": {
    "ExecuteTime": {
     "end_time": "2024-09-06T22:32:16.366908Z",
     "start_time": "2024-09-06T22:32:16.343539Z"
    }
   },
   "cell_type": "code",
   "source": [
    "# Подсчет метрик\n",
    "accuracy = accuracy_score(y_test, y_pred)\n",
    "precision_macro = precision_score(y_test, y_pred, average='macro')\n",
    "precision_micro = precision_score(y_test, y_pred, average='micro')\n",
    "recall_macro = recall_score(y_test, y_pred, average='macro')\n",
    "recall_micro = recall_score(y_test, y_pred, average='micro')\n",
    "f1_macro = f1_score(y_test, y_pred, average='macro')\n",
    "f1_micro = f1_score(y_test, y_pred, average='micro')\n",
    "\n",
    "# Вывод метрик\n",
    "print(f'Accuracy: {accuracy:.4f}')\n",
    "print(f'Precision: (macro:{precision_macro:.4f}, micro:{precision_micro:.4f})')\n",
    "print(f'Recall: (macro:{recall_macro:.4f}, micro:{recall_micro:.4f})')\n",
    "print(f'F1 Score: (macro:{f1_macro:.4f}, micro:{f1_micro:.4f}) \\n')"
   ],
   "id": "2de499bf46ff6a4f",
   "outputs": [
    {
     "name": "stdout",
     "output_type": "stream",
     "text": [
      "Accuracy: 0.8803\n",
      "Precision: (macro:0.7336, micro:0.8803)\n",
      "Recall: (macro:0.7227, micro:0.8803)\n",
      "F1 Score: (macro:0.7140, micro:0.8803) \n",
      "\n"
     ]
    },
    {
     "name": "stderr",
     "output_type": "stream",
     "text": [
      "C:\\ProgramData\\anaconda3\\Lib\\site-packages\\sklearn\\metrics\\_classification.py:1344: UndefinedMetricWarning: Precision is ill-defined and being set to 0.0 in labels with no predicted samples. Use `zero_division` parameter to control this behavior.\n",
      "  _warn_prf(average, modifier, msg_start, len(result))\n"
     ]
    }
   ],
   "execution_count": 102
  },
  {
   "metadata": {},
   "cell_type": "code",
   "outputs": [],
   "execution_count": null,
   "source": "",
   "id": "f237b9e6a0d55fb1"
  }
 ],
 "metadata": {
  "kernelspec": {
   "display_name": "Python 3",
   "language": "python",
   "name": "python3"
  },
  "language_info": {
   "codemirror_mode": {
    "name": "ipython",
    "version": 2
   },
   "file_extension": ".py",
   "mimetype": "text/x-python",
   "name": "python",
   "nbconvert_exporter": "python",
   "pygments_lexer": "ipython2",
   "version": "2.7.6"
  }
 },
 "nbformat": 4,
 "nbformat_minor": 5
}
