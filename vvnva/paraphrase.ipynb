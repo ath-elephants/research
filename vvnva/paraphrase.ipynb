{
 "cells": [
  {
   "cell_type": "code",
   "id": "initial_id",
   "metadata": {
    "collapsed": true,
    "ExecuteTime": {
     "end_time": "2024-09-06T18:40:56.214278Z",
     "start_time": "2024-09-06T18:40:50.404746Z"
    }
   },
   "source": [
    "from transformers import T5ForConditionalGeneration, T5Tokenizer\n",
    "from tqdm import tqdm\n",
    "import pandas as pd\n",
    "import itertools"
   ],
   "outputs": [],
   "execution_count": 1
  },
  {
   "metadata": {
    "ExecuteTime": {
     "end_time": "2024-09-06T18:40:56.859962Z",
     "start_time": "2024-09-06T18:40:56.216281Z"
    }
   },
   "cell_type": "code",
   "source": [
    "file_path = 'LK_modified.xlsx'\n",
    "all_sheets = pd.read_excel(file_path, sheet_name=None)\n",
    "dfs = {sheet_name: pd.DataFrame(sheet_data) for sheet_name, sheet_data in all_sheets.items()}\n",
    "df_first_sheet = dfs[list(dfs.keys())[0]]\n",
    "df = dfs[list(dfs.keys())[1]]\n",
    "df_second_sheet = dfs[list(dfs.keys())[2]]"
   ],
   "id": "204311e82ad179ad",
   "outputs": [],
   "execution_count": 2
  },
  {
   "metadata": {
    "ExecuteTime": {
     "end_time": "2024-09-06T18:40:56.866212Z",
     "start_time": "2024-09-06T18:40:56.861964Z"
    }
   },
   "cell_type": "code",
   "source": [
    "if 'Unnamed: 0' in df.columns:\n",
    "    df = df.drop(columns=['Unnamed: 0'])"
   ],
   "id": "c75712926bd1f2cb",
   "outputs": [],
   "execution_count": 3
  },
  {
   "metadata": {
    "ExecuteTime": {
     "end_time": "2024-09-06T18:40:56.881150Z",
     "start_time": "2024-09-06T18:40:56.868216Z"
    }
   },
   "cell_type": "code",
   "source": [
    "rare_categories = df['content'].value_counts()[df['content'].value_counts() <= 1].index\n",
    "rare_data = df[df['content'].isin(rare_categories)]"
   ],
   "id": "d148bc76eba869a7",
   "outputs": [],
   "execution_count": 4
  },
  {
   "metadata": {},
   "cell_type": "markdown",
   "source": "### Аугментация с помощью Т5 \"cointegrated/rut5-base-paraphraser\"",
   "id": "19e4d14cf818c051"
  },
  {
   "metadata": {
    "ExecuteTime": {
     "end_time": "2024-09-06T18:40:58.990007Z",
     "start_time": "2024-09-06T18:40:56.889155Z"
    }
   },
   "cell_type": "code",
   "source": [
    "model_name = \"cointegrated/rut5-base-paraphraser\"\n",
    "tokenizer = T5Tokenizer.from_pretrained(model_name)\n",
    "model = T5ForConditionalGeneration.from_pretrained(model_name)\n",
    "\n",
    "def generate_paraphrases(text, num_return_sequences=3, num_beams=5):\n",
    "    input_text = \"\" + text + \" </s>\"\n",
    "    encoding = tokenizer.encode_plus(input_text, padding=True, return_tensors=\"pt\", max_length=128, truncation=True)\n",
    "    input_ids, attention_mask = encoding[\"input_ids\"], encoding[\"attention_mask\"]\n",
    "\n",
    "    outputs = model.generate(\n",
    "        input_ids=input_ids,\n",
    "        attention_mask=attention_mask,\n",
    "        max_length=128,\n",
    "        num_beams=num_beams,\n",
    "        num_return_sequences=num_return_sequences,\n",
    "        repetition_penalty=2.5,\n",
    "        length_penalty=1.0,\n",
    "        early_stopping=True\n",
    "    )\n",
    "\n",
    "    return [tokenizer.decode(output, skip_special_tokens=True, clean_up_tokenization_spaces=True) for output in outputs]"
   ],
   "id": "9f7630f8c7bcd297",
   "outputs": [
    {
     "name": "stderr",
     "output_type": "stream",
     "text": [
      "You are using the default legacy behaviour of the <class 'transformers.models.t5.tokenization_t5.T5Tokenizer'>. This is expected, and simply means that the `legacy` (previous) behavior will be used so nothing changes for you. If you want to use the new behaviour, set `legacy=False`. This should only be set if you understand what it means, and thoroughly read the reason why this was added as explained in https://github.com/huggingface/transformers/pull/24565\n",
      "C:\\Users\\ivann\\AppData\\Roaming\\Python\\Python311\\site-packages\\transformers\\tokenization_utils_base.py:1601: FutureWarning: `clean_up_tokenization_spaces` was not set. It will be set to `True` by default. This behavior will be depracted in transformers v4.45, and will be then set to `False` by default. For more details check this issue: https://github.com/huggingface/transformers/issues/31884\n",
      "  warnings.warn(\n"
     ]
    }
   ],
   "execution_count": 5
  },
  {
   "metadata": {
    "ExecuteTime": {
     "end_time": "2024-09-06T18:40:59.000945Z",
     "start_time": "2024-09-06T18:40:58.991012Z"
    }
   },
   "cell_type": "code",
   "source": [
    "def augment_data(df, target_count=15):\n",
    "    augmented_data = []\n",
    "    category_counts = df['content'].value_counts()\n",
    "\n",
    "    rare_categories = category_counts[category_counts < target_count].index\n",
    "\n",
    "    for category in tqdm(rare_categories, desc=\"Augmenting categories\"):\n",
    "        category_df = df[df['content'] == category]\n",
    "        num_current = len(category_df)\n",
    "        num_additional = target_count - num_current\n",
    "\n",
    "        row_cycle = itertools.cycle(category_df.iterrows())\n",
    "\n",
    "        while num_additional > 0:\n",
    "            index, row = next(row_cycle)\n",
    "            paraphrases = generate_paraphrases(row['question'], num_return_sequences=min(num_additional, 5))\n",
    "\n",
    "            for para in paraphrases:\n",
    "                if num_additional <= 0:\n",
    "                    break\n",
    "                new_row = row.copy()\n",
    "                new_row['question'] = para\n",
    "                new_row['is_generated'] = True\n",
    "                new_row['category'] = row['category']\n",
    "                augmented_data.append(new_row)\n",
    "                num_additional -= 1\n",
    "\n",
    "    augmented_df = pd.DataFrame(augmented_data)\n",
    "    df['is_generated'] = False\n",
    "    return pd.concat([df, augmented_df], ignore_index=True)\n"
   ],
   "id": "41ae680744fa9332",
   "outputs": [],
   "execution_count": 6
  },
  {
   "metadata": {
    "ExecuteTime": {
     "end_time": "2024-09-06T18:40:59.013887Z",
     "start_time": "2024-09-06T18:40:59.002957Z"
    }
   },
   "cell_type": "code",
   "source": "print(df[df['content'] == rare_categories[48]]['question'])",
   "id": "c38213db3e445c0a",
   "outputs": [
    {
     "name": "stdout",
     "output_type": "stream",
     "text": [
      "101    Будет ли действовать электронная подпись, если...\n",
      "Name: question, dtype: object\n"
     ]
    }
   ],
   "execution_count": 7
  },
  {
   "metadata": {
    "ExecuteTime": {
     "end_time": "2024-09-06T18:41:05.536212Z",
     "start_time": "2024-09-06T18:40:59.015889Z"
    }
   },
   "cell_type": "code",
   "source": "augment_data(df[df['content'] == rare_categories[48]], target_count=10)[['question', 'is_generated']]",
   "id": "bf023600ab9ac657",
   "outputs": [
    {
     "name": "stderr",
     "output_type": "stream",
     "text": [
      "Augmenting categories:   0%|          | 0/1 [00:00<?, ?it/s]C:\\Users\\ivann\\AppData\\Roaming\\Python\\Python311\\site-packages\\transformers\\models\\t5\\tokenization_t5.py:289: UserWarning: This sequence already has </s>. In future versions this behavior may lead to duplicated eos tokens being added.\n",
      "  warnings.warn(\n",
      "C:\\Users\\ivann\\AppData\\Roaming\\Python\\Python311\\site-packages\\transformers\\models\\t5\\tokenization_t5.py:289: UserWarning: This sequence already has </s>. In future versions this behavior may lead to duplicated eos tokens being added.\n",
      "  warnings.warn(\n",
      "Augmenting categories: 100%|██████████| 1/1 [00:06<00:00,  6.49s/it]\n",
      "C:\\Users\\ivann\\AppData\\Local\\Temp\\ipykernel_3412\\2338917637.py:29: SettingWithCopyWarning: \n",
      "A value is trying to be set on a copy of a slice from a DataFrame.\n",
      "Try using .loc[row_indexer,col_indexer] = value instead\n",
      "\n",
      "See the caveats in the documentation: https://pandas.pydata.org/pandas-docs/stable/user_guide/indexing.html#returning-a-view-versus-a-copy\n",
      "  df['is_generated'] = False\n"
     ]
    },
    {
     "data": {
      "text/plain": [
       "                                            question  is_generated\n",
       "0  Будет ли действовать электронная подпись, если...         False\n",
       "1  Действует ли электронная подпись, если персона...          True\n",
       "2  Действует ли электронная подпись при неактуаль...          True\n",
       "3  Действует ли электронная подпись, если персона...          True\n",
       "4  Действует ли электронная подпись, если персона...          True\n",
       "5  Действует ли электронная подпись, если персона...          True\n",
       "6  Действует ли электронная подпись, если персона...          True\n",
       "7  Действует ли электронная подпись при неактуаль...          True\n",
       "8  Действует ли электронная подпись, если персона...          True\n",
       "9  Действует ли электронная подпись, если персона...          True"
      ],
      "text/html": [
       "<div>\n",
       "<style scoped>\n",
       "    .dataframe tbody tr th:only-of-type {\n",
       "        vertical-align: middle;\n",
       "    }\n",
       "\n",
       "    .dataframe tbody tr th {\n",
       "        vertical-align: top;\n",
       "    }\n",
       "\n",
       "    .dataframe thead th {\n",
       "        text-align: right;\n",
       "    }\n",
       "</style>\n",
       "<table border=\"1\" class=\"dataframe\">\n",
       "  <thead>\n",
       "    <tr style=\"text-align: right;\">\n",
       "      <th></th>\n",
       "      <th>question</th>\n",
       "      <th>is_generated</th>\n",
       "    </tr>\n",
       "  </thead>\n",
       "  <tbody>\n",
       "    <tr>\n",
       "      <th>0</th>\n",
       "      <td>Будет ли действовать электронная подпись, если...</td>\n",
       "      <td>False</td>\n",
       "    </tr>\n",
       "    <tr>\n",
       "      <th>1</th>\n",
       "      <td>Действует ли электронная подпись, если персона...</td>\n",
       "      <td>True</td>\n",
       "    </tr>\n",
       "    <tr>\n",
       "      <th>2</th>\n",
       "      <td>Действует ли электронная подпись при неактуаль...</td>\n",
       "      <td>True</td>\n",
       "    </tr>\n",
       "    <tr>\n",
       "      <th>3</th>\n",
       "      <td>Действует ли электронная подпись, если персона...</td>\n",
       "      <td>True</td>\n",
       "    </tr>\n",
       "    <tr>\n",
       "      <th>4</th>\n",
       "      <td>Действует ли электронная подпись, если персона...</td>\n",
       "      <td>True</td>\n",
       "    </tr>\n",
       "    <tr>\n",
       "      <th>5</th>\n",
       "      <td>Действует ли электронная подпись, если персона...</td>\n",
       "      <td>True</td>\n",
       "    </tr>\n",
       "    <tr>\n",
       "      <th>6</th>\n",
       "      <td>Действует ли электронная подпись, если персона...</td>\n",
       "      <td>True</td>\n",
       "    </tr>\n",
       "    <tr>\n",
       "      <th>7</th>\n",
       "      <td>Действует ли электронная подпись при неактуаль...</td>\n",
       "      <td>True</td>\n",
       "    </tr>\n",
       "    <tr>\n",
       "      <th>8</th>\n",
       "      <td>Действует ли электронная подпись, если персона...</td>\n",
       "      <td>True</td>\n",
       "    </tr>\n",
       "    <tr>\n",
       "      <th>9</th>\n",
       "      <td>Действует ли электронная подпись, если персона...</td>\n",
       "      <td>True</td>\n",
       "    </tr>\n",
       "  </tbody>\n",
       "</table>\n",
       "</div>"
      ]
     },
     "execution_count": 8,
     "metadata": {},
     "output_type": "execute_result"
    }
   ],
   "execution_count": 8
  },
  {
   "metadata": {},
   "cell_type": "markdown",
   "source": [
    "- \"Будет ли действовать электронная подпись, если персональные данные в учетной системе работодателя не актуальны?\" - оригинал\n",
    "- \"Действует ли электронная подпись, если персональные данные в системе учетной записи работодателя не актуальны?\"\n",
    "- Действует ли электронная подпись при неактуальности персональных данных в системе учетной записи работодателя?\n",
    "- \"Действует ли электронная подпись, если персональные данные в системе учетной записи работодателя не будут актуальными?\"\n",
    "- \"Действует ли электронная подпись, если персональные данные работодателя не будут актуальны?\"\n",
    "- \"Действует ли электронная подпись, если персональные данные работодателя не будут актуальными?\"\n",
    "- \"Действует ли электронная подпись, если персональные данные в системе учетной записи работодателя не актуальны?\"\n",
    "- Действует ли электронная подпись при неактуальности персональных данных в системе учетной записи работодателя?\n",
    "- \"Действует ли электронная подпись, если персональные данные в системе учетной записи работодателя не будут актуальными?\"\n",
    "- \"Действует ли электронная подпись, если персональные данные работодателя не будут актуальны?\"\n"
   ],
   "id": "c37206b9eca6ef5a"
  },
  {
   "metadata": {
    "ExecuteTime": {
     "end_time": "2024-09-06T18:41:05.542199Z",
     "start_time": "2024-09-06T18:41:05.539214Z"
    }
   },
   "cell_type": "code",
   "source": "",
   "id": "54962eb59a57ffc9",
   "outputs": [],
   "execution_count": 8
  },
  {
   "metadata": {
    "ExecuteTime": {
     "end_time": "2024-09-06T18:41:05.549888Z",
     "start_time": "2024-09-06T18:41:05.544202Z"
    }
   },
   "cell_type": "code",
   "source": "print(df[df['content'] == rare_categories[12]]['question'])",
   "id": "a19dd73c0c433f47",
   "outputs": [
    {
     "name": "stdout",
     "output_type": "stream",
     "text": [
      "1612    Как оформить доп. Дни отдыха по уходу за ребен...\n",
      "Name: question, dtype: object\n"
     ]
    }
   ],
   "execution_count": 9
  },
  {
   "metadata": {
    "ExecuteTime": {
     "end_time": "2024-09-06T18:41:08.886289Z",
     "start_time": "2024-09-06T18:41:05.551890Z"
    }
   },
   "cell_type": "code",
   "source": "augment_data(df[df['content'] == rare_categories[12]], target_count=10)[['question', 'is_generated']]",
   "id": "ed28b1d2ae292b32",
   "outputs": [
    {
     "name": "stderr",
     "output_type": "stream",
     "text": [
      "Augmenting categories:   0%|          | 0/1 [00:00<?, ?it/s]C:\\Users\\ivann\\AppData\\Roaming\\Python\\Python311\\site-packages\\transformers\\models\\t5\\tokenization_t5.py:289: UserWarning: This sequence already has </s>. In future versions this behavior may lead to duplicated eos tokens being added.\n",
      "  warnings.warn(\n",
      "C:\\Users\\ivann\\AppData\\Roaming\\Python\\Python311\\site-packages\\transformers\\models\\t5\\tokenization_t5.py:289: UserWarning: This sequence already has </s>. In future versions this behavior may lead to duplicated eos tokens being added.\n",
      "  warnings.warn(\n",
      "Augmenting categories: 100%|██████████| 1/1 [00:03<00:00,  3.32s/it]\n",
      "C:\\Users\\ivann\\AppData\\Local\\Temp\\ipykernel_3412\\2338917637.py:29: SettingWithCopyWarning: \n",
      "A value is trying to be set on a copy of a slice from a DataFrame.\n",
      "Try using .loc[row_indexer,col_indexer] = value instead\n",
      "\n",
      "See the caveats in the documentation: https://pandas.pydata.org/pandas-docs/stable/user_guide/indexing.html#returning-a-view-versus-a-copy\n",
      "  df['is_generated'] = False\n"
     ]
    },
    {
     "data": {
      "text/plain": [
       "                                            question  is_generated\n",
       "0  Как оформить доп. Дни отдыха по уходу за ребен...         False\n",
       "1  Как оформить доп. Дни отдыха по уходу за ребен...          True\n",
       "2  Как оформить доп. дни отдыха по уходу за ребен...          True\n",
       "3  Как оформить доп. Дни отдыха по уходу за ребенком          True\n",
       "4  Как оформить доп. Дни отдыха по уходу за детьм...          True\n",
       "5  Как оформить доп. отдых по уходу за ребенком и...          True\n",
       "6  Как оформить доп. Дни отдыха по уходу за ребен...          True\n",
       "7  Как оформить доп. дни отдыха по уходу за ребен...          True\n",
       "8  Как оформить доп. Дни отдыха по уходу за ребенком          True\n",
       "9  Как оформить доп. Дни отдыха по уходу за детьм...          True"
      ],
      "text/html": [
       "<div>\n",
       "<style scoped>\n",
       "    .dataframe tbody tr th:only-of-type {\n",
       "        vertical-align: middle;\n",
       "    }\n",
       "\n",
       "    .dataframe tbody tr th {\n",
       "        vertical-align: top;\n",
       "    }\n",
       "\n",
       "    .dataframe thead th {\n",
       "        text-align: right;\n",
       "    }\n",
       "</style>\n",
       "<table border=\"1\" class=\"dataframe\">\n",
       "  <thead>\n",
       "    <tr style=\"text-align: right;\">\n",
       "      <th></th>\n",
       "      <th>question</th>\n",
       "      <th>is_generated</th>\n",
       "    </tr>\n",
       "  </thead>\n",
       "  <tbody>\n",
       "    <tr>\n",
       "      <th>0</th>\n",
       "      <td>Как оформить доп. Дни отдыха по уходу за ребен...</td>\n",
       "      <td>False</td>\n",
       "    </tr>\n",
       "    <tr>\n",
       "      <th>1</th>\n",
       "      <td>Как оформить доп. Дни отдыха по уходу за ребен...</td>\n",
       "      <td>True</td>\n",
       "    </tr>\n",
       "    <tr>\n",
       "      <th>2</th>\n",
       "      <td>Как оформить доп. дни отдыха по уходу за ребен...</td>\n",
       "      <td>True</td>\n",
       "    </tr>\n",
       "    <tr>\n",
       "      <th>3</th>\n",
       "      <td>Как оформить доп. Дни отдыха по уходу за ребенком</td>\n",
       "      <td>True</td>\n",
       "    </tr>\n",
       "    <tr>\n",
       "      <th>4</th>\n",
       "      <td>Как оформить доп. Дни отдыха по уходу за детьм...</td>\n",
       "      <td>True</td>\n",
       "    </tr>\n",
       "    <tr>\n",
       "      <th>5</th>\n",
       "      <td>Как оформить доп. отдых по уходу за ребенком и...</td>\n",
       "      <td>True</td>\n",
       "    </tr>\n",
       "    <tr>\n",
       "      <th>6</th>\n",
       "      <td>Как оформить доп. Дни отдыха по уходу за ребен...</td>\n",
       "      <td>True</td>\n",
       "    </tr>\n",
       "    <tr>\n",
       "      <th>7</th>\n",
       "      <td>Как оформить доп. дни отдыха по уходу за ребен...</td>\n",
       "      <td>True</td>\n",
       "    </tr>\n",
       "    <tr>\n",
       "      <th>8</th>\n",
       "      <td>Как оформить доп. Дни отдыха по уходу за ребенком</td>\n",
       "      <td>True</td>\n",
       "    </tr>\n",
       "    <tr>\n",
       "      <th>9</th>\n",
       "      <td>Как оформить доп. Дни отдыха по уходу за детьм...</td>\n",
       "      <td>True</td>\n",
       "    </tr>\n",
       "  </tbody>\n",
       "</table>\n",
       "</div>"
      ]
     },
     "execution_count": 10,
     "metadata": {},
     "output_type": "execute_result"
    }
   ],
   "execution_count": 10
  },
  {
   "metadata": {},
   "cell_type": "markdown",
   "source": "",
   "id": "7910bef2ee70d94c"
  },
  {
   "metadata": {},
   "cell_type": "markdown",
   "source": [
    "- Как оформить доп. Дни отдыха по уходу за ребенком инвалидом - оригинал\n",
    "- Как оформить доп. Дни отдыха по уходу за ребенком инвалидом\n",
    "- Как оформить доп. дни отдыха по уходу за ребенком инвалидом\n",
    "- Как оформить доп. Дни отдыха по уходу за ребенком\n",
    "- Как оформить доп. Дни отдыха по уходу за детьми инвалидами\n",
    "- Как оформить доп. отдых по уходу за ребенком инвалидом\n",
    "- Как оформить доп. Дни отдыха по уходу за ребенком инвалидом\n",
    "- Как оформить доп. дни отдыха по уходу за ребенком инвалидом\n",
    "- Как оформить доп. Дни отдыха по уходу за ребенком\n",
    "- Как оформить доп. Дни отдыха по уходу за детьми инвалидами\n"
   ],
   "id": "56d37a997f8465b7"
  },
  {
   "metadata": {},
   "cell_type": "code",
   "outputs": [],
   "execution_count": null,
   "source": "",
   "id": "1bb084b183d4eba5"
  }
 ],
 "metadata": {
  "kernelspec": {
   "display_name": "Python 3",
   "language": "python",
   "name": "python3"
  },
  "language_info": {
   "codemirror_mode": {
    "name": "ipython",
    "version": 2
   },
   "file_extension": ".py",
   "mimetype": "text/x-python",
   "name": "python",
   "nbconvert_exporter": "python",
   "pygments_lexer": "ipython2",
   "version": "2.7.6"
  }
 },
 "nbformat": 4,
 "nbformat_minor": 5
}
