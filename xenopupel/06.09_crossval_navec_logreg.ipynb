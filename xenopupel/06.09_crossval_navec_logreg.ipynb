{
  "nbformat": 4,
  "nbformat_minor": 0,
  "metadata": {
    "colab": {
      "provenance": [],
      "gpuType": "T4"
    },
    "kernelspec": {
      "name": "python3",
      "display_name": "Python 3"
    },
    "language_info": {
      "name": "python"
    },
    "widgets": {
      "application/vnd.jupyter.widget-state+json": {
        "92da86d3f97a4a2f98e2781845bbd158": {
          "model_module": "@jupyter-widgets/controls",
          "model_name": "HBoxModel",
          "model_module_version": "1.5.0",
          "state": {
            "_dom_classes": [],
            "_model_module": "@jupyter-widgets/controls",
            "_model_module_version": "1.5.0",
            "_model_name": "HBoxModel",
            "_view_count": null,
            "_view_module": "@jupyter-widgets/controls",
            "_view_module_version": "1.5.0",
            "_view_name": "HBoxView",
            "box_style": "",
            "children": [
              "IPY_MODEL_5c127e2483364b0d9524f2b52085070e",
              "IPY_MODEL_9ceba19a68824c64a2fe5ccbc2ca9caf",
              "IPY_MODEL_784ecd512af6469bb1d5499b79efe5d3"
            ],
            "layout": "IPY_MODEL_e3a94f72067d4482abb8b261f60c4568"
          }
        },
        "5c127e2483364b0d9524f2b52085070e": {
          "model_module": "@jupyter-widgets/controls",
          "model_name": "HTMLModel",
          "model_module_version": "1.5.0",
          "state": {
            "_dom_classes": [],
            "_model_module": "@jupyter-widgets/controls",
            "_model_module_version": "1.5.0",
            "_model_name": "HTMLModel",
            "_view_count": null,
            "_view_module": "@jupyter-widgets/controls",
            "_view_module_version": "1.5.0",
            "_view_name": "HTMLView",
            "description": "",
            "description_tooltip": null,
            "layout": "IPY_MODEL_4bbbe530933540a0a4095bf2ece10f79",
            "placeholder": "​",
            "style": "IPY_MODEL_76a81cb0b06c453c9bdd042625949315",
            "value": "100%"
          }
        },
        "9ceba19a68824c64a2fe5ccbc2ca9caf": {
          "model_module": "@jupyter-widgets/controls",
          "model_name": "FloatProgressModel",
          "model_module_version": "1.5.0",
          "state": {
            "_dom_classes": [],
            "_model_module": "@jupyter-widgets/controls",
            "_model_module_version": "1.5.0",
            "_model_name": "FloatProgressModel",
            "_view_count": null,
            "_view_module": "@jupyter-widgets/controls",
            "_view_module_version": "1.5.0",
            "_view_name": "ProgressView",
            "bar_style": "success",
            "description": "",
            "description_tooltip": null,
            "layout": "IPY_MODEL_201e2e94d42645939da05b2c7c2b03ae",
            "max": 5,
            "min": 0,
            "orientation": "horizontal",
            "style": "IPY_MODEL_493abb6b4a6042539c84e887e17e2703",
            "value": 5
          }
        },
        "784ecd512af6469bb1d5499b79efe5d3": {
          "model_module": "@jupyter-widgets/controls",
          "model_name": "HTMLModel",
          "model_module_version": "1.5.0",
          "state": {
            "_dom_classes": [],
            "_model_module": "@jupyter-widgets/controls",
            "_model_module_version": "1.5.0",
            "_model_name": "HTMLModel",
            "_view_count": null,
            "_view_module": "@jupyter-widgets/controls",
            "_view_module_version": "1.5.0",
            "_view_name": "HTMLView",
            "description": "",
            "description_tooltip": null,
            "layout": "IPY_MODEL_f74cb98161bc42ac866466e4fc23ab72",
            "placeholder": "​",
            "style": "IPY_MODEL_2cd20f01e9be4879b18b569155aab2b8",
            "value": " 5/5 [01:15&lt;00:00, 14.30s/it]"
          }
        },
        "e3a94f72067d4482abb8b261f60c4568": {
          "model_module": "@jupyter-widgets/base",
          "model_name": "LayoutModel",
          "model_module_version": "1.2.0",
          "state": {
            "_model_module": "@jupyter-widgets/base",
            "_model_module_version": "1.2.0",
            "_model_name": "LayoutModel",
            "_view_count": null,
            "_view_module": "@jupyter-widgets/base",
            "_view_module_version": "1.2.0",
            "_view_name": "LayoutView",
            "align_content": null,
            "align_items": null,
            "align_self": null,
            "border": null,
            "bottom": null,
            "display": null,
            "flex": null,
            "flex_flow": null,
            "grid_area": null,
            "grid_auto_columns": null,
            "grid_auto_flow": null,
            "grid_auto_rows": null,
            "grid_column": null,
            "grid_gap": null,
            "grid_row": null,
            "grid_template_areas": null,
            "grid_template_columns": null,
            "grid_template_rows": null,
            "height": null,
            "justify_content": null,
            "justify_items": null,
            "left": null,
            "margin": null,
            "max_height": null,
            "max_width": null,
            "min_height": null,
            "min_width": null,
            "object_fit": null,
            "object_position": null,
            "order": null,
            "overflow": null,
            "overflow_x": null,
            "overflow_y": null,
            "padding": null,
            "right": null,
            "top": null,
            "visibility": null,
            "width": null
          }
        },
        "4bbbe530933540a0a4095bf2ece10f79": {
          "model_module": "@jupyter-widgets/base",
          "model_name": "LayoutModel",
          "model_module_version": "1.2.0",
          "state": {
            "_model_module": "@jupyter-widgets/base",
            "_model_module_version": "1.2.0",
            "_model_name": "LayoutModel",
            "_view_count": null,
            "_view_module": "@jupyter-widgets/base",
            "_view_module_version": "1.2.0",
            "_view_name": "LayoutView",
            "align_content": null,
            "align_items": null,
            "align_self": null,
            "border": null,
            "bottom": null,
            "display": null,
            "flex": null,
            "flex_flow": null,
            "grid_area": null,
            "grid_auto_columns": null,
            "grid_auto_flow": null,
            "grid_auto_rows": null,
            "grid_column": null,
            "grid_gap": null,
            "grid_row": null,
            "grid_template_areas": null,
            "grid_template_columns": null,
            "grid_template_rows": null,
            "height": null,
            "justify_content": null,
            "justify_items": null,
            "left": null,
            "margin": null,
            "max_height": null,
            "max_width": null,
            "min_height": null,
            "min_width": null,
            "object_fit": null,
            "object_position": null,
            "order": null,
            "overflow": null,
            "overflow_x": null,
            "overflow_y": null,
            "padding": null,
            "right": null,
            "top": null,
            "visibility": null,
            "width": null
          }
        },
        "76a81cb0b06c453c9bdd042625949315": {
          "model_module": "@jupyter-widgets/controls",
          "model_name": "DescriptionStyleModel",
          "model_module_version": "1.5.0",
          "state": {
            "_model_module": "@jupyter-widgets/controls",
            "_model_module_version": "1.5.0",
            "_model_name": "DescriptionStyleModel",
            "_view_count": null,
            "_view_module": "@jupyter-widgets/base",
            "_view_module_version": "1.2.0",
            "_view_name": "StyleView",
            "description_width": ""
          }
        },
        "201e2e94d42645939da05b2c7c2b03ae": {
          "model_module": "@jupyter-widgets/base",
          "model_name": "LayoutModel",
          "model_module_version": "1.2.0",
          "state": {
            "_model_module": "@jupyter-widgets/base",
            "_model_module_version": "1.2.0",
            "_model_name": "LayoutModel",
            "_view_count": null,
            "_view_module": "@jupyter-widgets/base",
            "_view_module_version": "1.2.0",
            "_view_name": "LayoutView",
            "align_content": null,
            "align_items": null,
            "align_self": null,
            "border": null,
            "bottom": null,
            "display": null,
            "flex": null,
            "flex_flow": null,
            "grid_area": null,
            "grid_auto_columns": null,
            "grid_auto_flow": null,
            "grid_auto_rows": null,
            "grid_column": null,
            "grid_gap": null,
            "grid_row": null,
            "grid_template_areas": null,
            "grid_template_columns": null,
            "grid_template_rows": null,
            "height": null,
            "justify_content": null,
            "justify_items": null,
            "left": null,
            "margin": null,
            "max_height": null,
            "max_width": null,
            "min_height": null,
            "min_width": null,
            "object_fit": null,
            "object_position": null,
            "order": null,
            "overflow": null,
            "overflow_x": null,
            "overflow_y": null,
            "padding": null,
            "right": null,
            "top": null,
            "visibility": null,
            "width": null
          }
        },
        "493abb6b4a6042539c84e887e17e2703": {
          "model_module": "@jupyter-widgets/controls",
          "model_name": "ProgressStyleModel",
          "model_module_version": "1.5.0",
          "state": {
            "_model_module": "@jupyter-widgets/controls",
            "_model_module_version": "1.5.0",
            "_model_name": "ProgressStyleModel",
            "_view_count": null,
            "_view_module": "@jupyter-widgets/base",
            "_view_module_version": "1.2.0",
            "_view_name": "StyleView",
            "bar_color": null,
            "description_width": ""
          }
        },
        "f74cb98161bc42ac866466e4fc23ab72": {
          "model_module": "@jupyter-widgets/base",
          "model_name": "LayoutModel",
          "model_module_version": "1.2.0",
          "state": {
            "_model_module": "@jupyter-widgets/base",
            "_model_module_version": "1.2.0",
            "_model_name": "LayoutModel",
            "_view_count": null,
            "_view_module": "@jupyter-widgets/base",
            "_view_module_version": "1.2.0",
            "_view_name": "LayoutView",
            "align_content": null,
            "align_items": null,
            "align_self": null,
            "border": null,
            "bottom": null,
            "display": null,
            "flex": null,
            "flex_flow": null,
            "grid_area": null,
            "grid_auto_columns": null,
            "grid_auto_flow": null,
            "grid_auto_rows": null,
            "grid_column": null,
            "grid_gap": null,
            "grid_row": null,
            "grid_template_areas": null,
            "grid_template_columns": null,
            "grid_template_rows": null,
            "height": null,
            "justify_content": null,
            "justify_items": null,
            "left": null,
            "margin": null,
            "max_height": null,
            "max_width": null,
            "min_height": null,
            "min_width": null,
            "object_fit": null,
            "object_position": null,
            "order": null,
            "overflow": null,
            "overflow_x": null,
            "overflow_y": null,
            "padding": null,
            "right": null,
            "top": null,
            "visibility": null,
            "width": null
          }
        },
        "2cd20f01e9be4879b18b569155aab2b8": {
          "model_module": "@jupyter-widgets/controls",
          "model_name": "DescriptionStyleModel",
          "model_module_version": "1.5.0",
          "state": {
            "_model_module": "@jupyter-widgets/controls",
            "_model_module_version": "1.5.0",
            "_model_name": "DescriptionStyleModel",
            "_view_count": null,
            "_view_module": "@jupyter-widgets/base",
            "_view_module_version": "1.2.0",
            "_view_name": "StyleView",
            "description_width": ""
          }
        }
      }
    },
    "accelerator": "GPU"
  },
  "cells": [
    {
      "cell_type": "code",
      "execution_count": 213,
      "metadata": {
        "id": "A1v8OZ5Tx8Uf",
        "colab": {
          "base_uri": "https://localhost:8080/"
        },
        "outputId": "2f20d173-414b-4641-f27b-b147bf7e8dea"
      },
      "outputs": [
        {
          "output_type": "stream",
          "name": "stdout",
          "text": [
            "Drive already mounted at /content/gdrive; to attempt to forcibly remount, call drive.mount(\"/content/gdrive\", force_remount=True).\n"
          ]
        }
      ],
      "source": [
        "from google.colab import drive\n",
        "drive.mount('/content/gdrive')"
      ]
    },
    {
      "cell_type": "code",
      "source": [
        "! pip install navec\n",
        "! pip install slovnet"
      ],
      "metadata": {
        "colab": {
          "base_uri": "https://localhost:8080/"
        },
        "id": "FXg1vbY2o8U_",
        "outputId": "08f8aee5-6b9c-4cb1-ab44-0ea99207602f"
      },
      "execution_count": 214,
      "outputs": [
        {
          "output_type": "stream",
          "name": "stdout",
          "text": [
            "Requirement already satisfied: navec in /usr/local/lib/python3.10/dist-packages (0.10.0)\n",
            "Requirement already satisfied: numpy in /usr/local/lib/python3.10/dist-packages (from navec) (1.26.4)\n",
            "Requirement already satisfied: slovnet in /usr/local/lib/python3.10/dist-packages (0.6.0)\n",
            "Requirement already satisfied: numpy in /usr/local/lib/python3.10/dist-packages (from slovnet) (1.26.4)\n",
            "Requirement already satisfied: razdel in /usr/local/lib/python3.10/dist-packages (from slovnet) (0.5.0)\n",
            "Requirement already satisfied: navec in /usr/local/lib/python3.10/dist-packages (from slovnet) (0.10.0)\n"
          ]
        }
      ]
    },
    {
      "cell_type": "code",
      "source": [
        "import pandas as pd\n",
        "import random\n",
        "import string\n",
        "import nltk\n",
        "\n",
        "import numpy as np\n",
        "from sklearn.model_selection import train_test_split\n",
        "from sklearn.linear_model import LogisticRegression\n",
        "from sklearn.metrics import accuracy_score, precision_score, recall_score, f1_score\n",
        "\n",
        "import torch\n",
        "from navec import Navec\n",
        "from slovnet.model.emb import NavecEmbedding\n",
        "\n",
        "from tqdm.notebook import tqdm\n",
        "tqdm.pandas()"
      ],
      "metadata": {
        "id": "zWliBhJH0nct"
      },
      "execution_count": 215,
      "outputs": []
    },
    {
      "cell_type": "markdown",
      "source": [
        "# Подгружаем данные"
      ],
      "metadata": {
        "id": "Bm45K1r80spt"
      }
    },
    {
      "cell_type": "code",
      "source": [
        "glossary = pd.read_csv('gdrive/MyDrive/AI_HUB_HACK/gloss.csv')\n",
        "glossary"
      ],
      "metadata": {
        "colab": {
          "base_uri": "https://localhost:8080/",
          "height": 363
        },
        "id": "JHCmLCR60CLO",
        "outputId": "0fe9cb4d-3a5b-428b-9895-2ace5511bd8e"
      },
      "execution_count": 216,
      "outputs": [
        {
          "output_type": "execute_result",
          "data": {
            "text/plain": [
              "  Сокращение                     Расшифровка\n",
              "0         лк                  личный кабинет\n",
              "1        БиР             Беременность и роды\n",
              "2         зп                заработная плата\n",
              "3       НДФЛ  Налог на доходы физических лиц\n",
              "4        СТД        срочный трудовой договор\n",
              "5         ТК                трудовой договор\n",
              "6         АО                 авансовый отчет\n",
              "7        SLA                           сроки\n",
              "8        ЭЦП    электронная цифровая подпись\n",
              "9         КР                 кадровый резерв"
            ],
            "text/html": [
              "\n",
              "  <div id=\"df-84742774-e727-4dfb-a151-ad0ec62fdf57\" class=\"colab-df-container\">\n",
              "    <div>\n",
              "<style scoped>\n",
              "    .dataframe tbody tr th:only-of-type {\n",
              "        vertical-align: middle;\n",
              "    }\n",
              "\n",
              "    .dataframe tbody tr th {\n",
              "        vertical-align: top;\n",
              "    }\n",
              "\n",
              "    .dataframe thead th {\n",
              "        text-align: right;\n",
              "    }\n",
              "</style>\n",
              "<table border=\"1\" class=\"dataframe\">\n",
              "  <thead>\n",
              "    <tr style=\"text-align: right;\">\n",
              "      <th></th>\n",
              "      <th>Сокращение</th>\n",
              "      <th>Расшифровка</th>\n",
              "    </tr>\n",
              "  </thead>\n",
              "  <tbody>\n",
              "    <tr>\n",
              "      <th>0</th>\n",
              "      <td>лк</td>\n",
              "      <td>личный кабинет</td>\n",
              "    </tr>\n",
              "    <tr>\n",
              "      <th>1</th>\n",
              "      <td>БиР</td>\n",
              "      <td>Беременность и роды</td>\n",
              "    </tr>\n",
              "    <tr>\n",
              "      <th>2</th>\n",
              "      <td>зп</td>\n",
              "      <td>заработная плата</td>\n",
              "    </tr>\n",
              "    <tr>\n",
              "      <th>3</th>\n",
              "      <td>НДФЛ</td>\n",
              "      <td>Налог на доходы физических лиц</td>\n",
              "    </tr>\n",
              "    <tr>\n",
              "      <th>4</th>\n",
              "      <td>СТД</td>\n",
              "      <td>срочный трудовой договор</td>\n",
              "    </tr>\n",
              "    <tr>\n",
              "      <th>5</th>\n",
              "      <td>ТК</td>\n",
              "      <td>трудовой договор</td>\n",
              "    </tr>\n",
              "    <tr>\n",
              "      <th>6</th>\n",
              "      <td>АО</td>\n",
              "      <td>авансовый отчет</td>\n",
              "    </tr>\n",
              "    <tr>\n",
              "      <th>7</th>\n",
              "      <td>SLA</td>\n",
              "      <td>сроки</td>\n",
              "    </tr>\n",
              "    <tr>\n",
              "      <th>8</th>\n",
              "      <td>ЭЦП</td>\n",
              "      <td>электронная цифровая подпись</td>\n",
              "    </tr>\n",
              "    <tr>\n",
              "      <th>9</th>\n",
              "      <td>КР</td>\n",
              "      <td>кадровый резерв</td>\n",
              "    </tr>\n",
              "  </tbody>\n",
              "</table>\n",
              "</div>\n",
              "    <div class=\"colab-df-buttons\">\n",
              "\n",
              "  <div class=\"colab-df-container\">\n",
              "    <button class=\"colab-df-convert\" onclick=\"convertToInteractive('df-84742774-e727-4dfb-a151-ad0ec62fdf57')\"\n",
              "            title=\"Convert this dataframe to an interactive table.\"\n",
              "            style=\"display:none;\">\n",
              "\n",
              "  <svg xmlns=\"http://www.w3.org/2000/svg\" height=\"24px\" viewBox=\"0 -960 960 960\">\n",
              "    <path d=\"M120-120v-720h720v720H120Zm60-500h600v-160H180v160Zm220 220h160v-160H400v160Zm0 220h160v-160H400v160ZM180-400h160v-160H180v160Zm440 0h160v-160H620v160ZM180-180h160v-160H180v160Zm440 0h160v-160H620v160Z\"/>\n",
              "  </svg>\n",
              "    </button>\n",
              "\n",
              "  <style>\n",
              "    .colab-df-container {\n",
              "      display:flex;\n",
              "      gap: 12px;\n",
              "    }\n",
              "\n",
              "    .colab-df-convert {\n",
              "      background-color: #E8F0FE;\n",
              "      border: none;\n",
              "      border-radius: 50%;\n",
              "      cursor: pointer;\n",
              "      display: none;\n",
              "      fill: #1967D2;\n",
              "      height: 32px;\n",
              "      padding: 0 0 0 0;\n",
              "      width: 32px;\n",
              "    }\n",
              "\n",
              "    .colab-df-convert:hover {\n",
              "      background-color: #E2EBFA;\n",
              "      box-shadow: 0px 1px 2px rgba(60, 64, 67, 0.3), 0px 1px 3px 1px rgba(60, 64, 67, 0.15);\n",
              "      fill: #174EA6;\n",
              "    }\n",
              "\n",
              "    .colab-df-buttons div {\n",
              "      margin-bottom: 4px;\n",
              "    }\n",
              "\n",
              "    [theme=dark] .colab-df-convert {\n",
              "      background-color: #3B4455;\n",
              "      fill: #D2E3FC;\n",
              "    }\n",
              "\n",
              "    [theme=dark] .colab-df-convert:hover {\n",
              "      background-color: #434B5C;\n",
              "      box-shadow: 0px 1px 3px 1px rgba(0, 0, 0, 0.15);\n",
              "      filter: drop-shadow(0px 1px 2px rgba(0, 0, 0, 0.3));\n",
              "      fill: #FFFFFF;\n",
              "    }\n",
              "  </style>\n",
              "\n",
              "    <script>\n",
              "      const buttonEl =\n",
              "        document.querySelector('#df-84742774-e727-4dfb-a151-ad0ec62fdf57 button.colab-df-convert');\n",
              "      buttonEl.style.display =\n",
              "        google.colab.kernel.accessAllowed ? 'block' : 'none';\n",
              "\n",
              "      async function convertToInteractive(key) {\n",
              "        const element = document.querySelector('#df-84742774-e727-4dfb-a151-ad0ec62fdf57');\n",
              "        const dataTable =\n",
              "          await google.colab.kernel.invokeFunction('convertToInteractive',\n",
              "                                                    [key], {});\n",
              "        if (!dataTable) return;\n",
              "\n",
              "        const docLinkHtml = 'Like what you see? Visit the ' +\n",
              "          '<a target=\"_blank\" href=https://colab.research.google.com/notebooks/data_table.ipynb>data table notebook</a>'\n",
              "          + ' to learn more about interactive tables.';\n",
              "        element.innerHTML = '';\n",
              "        dataTable['output_type'] = 'display_data';\n",
              "        await google.colab.output.renderOutput(dataTable, element);\n",
              "        const docLink = document.createElement('div');\n",
              "        docLink.innerHTML = docLinkHtml;\n",
              "        element.appendChild(docLink);\n",
              "      }\n",
              "    </script>\n",
              "  </div>\n",
              "\n",
              "\n",
              "<div id=\"df-f31759f4-d818-40d4-97e9-568f88305262\">\n",
              "  <button class=\"colab-df-quickchart\" onclick=\"quickchart('df-f31759f4-d818-40d4-97e9-568f88305262')\"\n",
              "            title=\"Suggest charts\"\n",
              "            style=\"display:none;\">\n",
              "\n",
              "<svg xmlns=\"http://www.w3.org/2000/svg\" height=\"24px\"viewBox=\"0 0 24 24\"\n",
              "     width=\"24px\">\n",
              "    <g>\n",
              "        <path d=\"M19 3H5c-1.1 0-2 .9-2 2v14c0 1.1.9 2 2 2h14c1.1 0 2-.9 2-2V5c0-1.1-.9-2-2-2zM9 17H7v-7h2v7zm4 0h-2V7h2v10zm4 0h-2v-4h2v4z\"/>\n",
              "    </g>\n",
              "</svg>\n",
              "  </button>\n",
              "\n",
              "<style>\n",
              "  .colab-df-quickchart {\n",
              "      --bg-color: #E8F0FE;\n",
              "      --fill-color: #1967D2;\n",
              "      --hover-bg-color: #E2EBFA;\n",
              "      --hover-fill-color: #174EA6;\n",
              "      --disabled-fill-color: #AAA;\n",
              "      --disabled-bg-color: #DDD;\n",
              "  }\n",
              "\n",
              "  [theme=dark] .colab-df-quickchart {\n",
              "      --bg-color: #3B4455;\n",
              "      --fill-color: #D2E3FC;\n",
              "      --hover-bg-color: #434B5C;\n",
              "      --hover-fill-color: #FFFFFF;\n",
              "      --disabled-bg-color: #3B4455;\n",
              "      --disabled-fill-color: #666;\n",
              "  }\n",
              "\n",
              "  .colab-df-quickchart {\n",
              "    background-color: var(--bg-color);\n",
              "    border: none;\n",
              "    border-radius: 50%;\n",
              "    cursor: pointer;\n",
              "    display: none;\n",
              "    fill: var(--fill-color);\n",
              "    height: 32px;\n",
              "    padding: 0;\n",
              "    width: 32px;\n",
              "  }\n",
              "\n",
              "  .colab-df-quickchart:hover {\n",
              "    background-color: var(--hover-bg-color);\n",
              "    box-shadow: 0 1px 2px rgba(60, 64, 67, 0.3), 0 1px 3px 1px rgba(60, 64, 67, 0.15);\n",
              "    fill: var(--button-hover-fill-color);\n",
              "  }\n",
              "\n",
              "  .colab-df-quickchart-complete:disabled,\n",
              "  .colab-df-quickchart-complete:disabled:hover {\n",
              "    background-color: var(--disabled-bg-color);\n",
              "    fill: var(--disabled-fill-color);\n",
              "    box-shadow: none;\n",
              "  }\n",
              "\n",
              "  .colab-df-spinner {\n",
              "    border: 2px solid var(--fill-color);\n",
              "    border-color: transparent;\n",
              "    border-bottom-color: var(--fill-color);\n",
              "    animation:\n",
              "      spin 1s steps(1) infinite;\n",
              "  }\n",
              "\n",
              "  @keyframes spin {\n",
              "    0% {\n",
              "      border-color: transparent;\n",
              "      border-bottom-color: var(--fill-color);\n",
              "      border-left-color: var(--fill-color);\n",
              "    }\n",
              "    20% {\n",
              "      border-color: transparent;\n",
              "      border-left-color: var(--fill-color);\n",
              "      border-top-color: var(--fill-color);\n",
              "    }\n",
              "    30% {\n",
              "      border-color: transparent;\n",
              "      border-left-color: var(--fill-color);\n",
              "      border-top-color: var(--fill-color);\n",
              "      border-right-color: var(--fill-color);\n",
              "    }\n",
              "    40% {\n",
              "      border-color: transparent;\n",
              "      border-right-color: var(--fill-color);\n",
              "      border-top-color: var(--fill-color);\n",
              "    }\n",
              "    60% {\n",
              "      border-color: transparent;\n",
              "      border-right-color: var(--fill-color);\n",
              "    }\n",
              "    80% {\n",
              "      border-color: transparent;\n",
              "      border-right-color: var(--fill-color);\n",
              "      border-bottom-color: var(--fill-color);\n",
              "    }\n",
              "    90% {\n",
              "      border-color: transparent;\n",
              "      border-bottom-color: var(--fill-color);\n",
              "    }\n",
              "  }\n",
              "</style>\n",
              "\n",
              "  <script>\n",
              "    async function quickchart(key) {\n",
              "      const quickchartButtonEl =\n",
              "        document.querySelector('#' + key + ' button');\n",
              "      quickchartButtonEl.disabled = true;  // To prevent multiple clicks.\n",
              "      quickchartButtonEl.classList.add('colab-df-spinner');\n",
              "      try {\n",
              "        const charts = await google.colab.kernel.invokeFunction(\n",
              "            'suggestCharts', [key], {});\n",
              "      } catch (error) {\n",
              "        console.error('Error during call to suggestCharts:', error);\n",
              "      }\n",
              "      quickchartButtonEl.classList.remove('colab-df-spinner');\n",
              "      quickchartButtonEl.classList.add('colab-df-quickchart-complete');\n",
              "    }\n",
              "    (() => {\n",
              "      let quickchartButtonEl =\n",
              "        document.querySelector('#df-f31759f4-d818-40d4-97e9-568f88305262 button');\n",
              "      quickchartButtonEl.style.display =\n",
              "        google.colab.kernel.accessAllowed ? 'block' : 'none';\n",
              "    })();\n",
              "  </script>\n",
              "</div>\n",
              "    </div>\n",
              "  </div>\n"
            ],
            "application/vnd.google.colaboratory.intrinsic+json": {
              "type": "dataframe",
              "variable_name": "glossary",
              "summary": "{\n  \"name\": \"glossary\",\n  \"rows\": 10,\n  \"fields\": [\n    {\n      \"column\": \"\\u0421\\u043e\\u043a\\u0440\\u0430\\u0449\\u0435\\u043d\\u0438\\u0435\",\n      \"properties\": {\n        \"dtype\": \"string\",\n        \"num_unique_values\": 10,\n        \"samples\": [\n          \"\\u042d\\u0426\\u041f\",\n          \"\\u0411\\u0438\\u0420\",\n          \"\\u0422\\u041a\"\n        ],\n        \"semantic_type\": \"\",\n        \"description\": \"\"\n      }\n    },\n    {\n      \"column\": \"\\u0420\\u0430\\u0441\\u0448\\u0438\\u0444\\u0440\\u043e\\u0432\\u043a\\u0430\",\n      \"properties\": {\n        \"dtype\": \"string\",\n        \"num_unique_values\": 10,\n        \"samples\": [\n          \"\\u044d\\u043b\\u0435\\u043a\\u0442\\u0440\\u043e\\u043d\\u043d\\u0430\\u044f \\u0446\\u0438\\u0444\\u0440\\u043e\\u0432\\u0430\\u044f \\u043f\\u043e\\u0434\\u043f\\u0438\\u0441\\u044c\",\n          \"\\u0411\\u0435\\u0440\\u0435\\u043c\\u0435\\u043d\\u043d\\u043e\\u0441\\u0442\\u044c \\u0438 \\u0440\\u043e\\u0434\\u044b\",\n          \"\\u0442\\u0440\\u0443\\u0434\\u043e\\u0432\\u043e\\u0439 \\u0434\\u043e\\u0433\\u043e\\u0432\\u043e\\u0440\"\n        ],\n        \"semantic_type\": \"\",\n        \"description\": \"\"\n      }\n    }\n  ]\n}"
            }
          },
          "metadata": {},
          "execution_count": 216
        }
      ]
    },
    {
      "cell_type": "code",
      "source": [
        "popular_phrases = pd.read_csv('gdrive/MyDrive/AI_HUB_HACK/popular_phrases.csv')\n",
        "popular_phrases"
      ],
      "metadata": {
        "colab": {
          "base_uri": "https://localhost:8080/",
          "height": 425
        },
        "id": "1MNnKfWS0Th9",
        "outputId": "81eaffb8-fae7-4efb-f0e8-4db81b09d1db"
      },
      "execution_count": 217,
      "outputs": [
        {
          "output_type": "execute_result",
          "data": {
            "text/plain": [
              "                                                Ответ  \\\n",
              "0   Для оформления обращения в техническую поддерж...   \n",
              "1   Чат-бот находится в стадии пилотирования и обу...   \n",
              "2   Чат-бот находится в стадии пилотирования и обу...   \n",
              "3   Для оформления обращения в техническую поддерж...   \n",
              "4   Для оформления обращения в техническую поддерж...   \n",
              "5   Чат-бот находится в стадии пилотирования и обу...   \n",
              "6   Чат-бот находится в стадии пилотирования и обу...   \n",
              "7   Чат-бот находится в стадии пилотирования и обу...   \n",
              "8   Для оформления обращения в техническую поддерж...   \n",
              "9   Для оформления обращения в техническую поддерж...   \n",
              "10  Чат-бот находится в стадии пилотирования и обу...   \n",
              "11  Чат-бот находится в стадии пилотирования и обу...   \n",
              "\n",
              "                                    Вопрос  \n",
              "0                                    выйти  \n",
              "1     Уберите этот чат бот он очень мешает  \n",
              "2                    вернуть старый дизайн  \n",
              "3                      хочу создать заявку  \n",
              "4                 мне нужно создать заявку  \n",
              "5                                бот тупой  \n",
              "6                          бот не помогает  \n",
              "7                          как убрать бота  \n",
              "8   мне сказали создать заявку в поддержке  \n",
              "9                                    выход  \n",
              "10              вернуться на старый портал  \n",
              "11                          нужен оператор  "
            ],
            "text/html": [
              "\n",
              "  <div id=\"df-04aaaf82-e5bf-4eea-8f05-5ec8e12bafb8\" class=\"colab-df-container\">\n",
              "    <div>\n",
              "<style scoped>\n",
              "    .dataframe tbody tr th:only-of-type {\n",
              "        vertical-align: middle;\n",
              "    }\n",
              "\n",
              "    .dataframe tbody tr th {\n",
              "        vertical-align: top;\n",
              "    }\n",
              "\n",
              "    .dataframe thead th {\n",
              "        text-align: right;\n",
              "    }\n",
              "</style>\n",
              "<table border=\"1\" class=\"dataframe\">\n",
              "  <thead>\n",
              "    <tr style=\"text-align: right;\">\n",
              "      <th></th>\n",
              "      <th>Ответ</th>\n",
              "      <th>Вопрос</th>\n",
              "    </tr>\n",
              "  </thead>\n",
              "  <tbody>\n",
              "    <tr>\n",
              "      <th>0</th>\n",
              "      <td>Для оформления обращения в техническую поддерж...</td>\n",
              "      <td>выйти</td>\n",
              "    </tr>\n",
              "    <tr>\n",
              "      <th>1</th>\n",
              "      <td>Чат-бот находится в стадии пилотирования и обу...</td>\n",
              "      <td>Уберите этот чат бот он очень мешает</td>\n",
              "    </tr>\n",
              "    <tr>\n",
              "      <th>2</th>\n",
              "      <td>Чат-бот находится в стадии пилотирования и обу...</td>\n",
              "      <td>вернуть старый дизайн</td>\n",
              "    </tr>\n",
              "    <tr>\n",
              "      <th>3</th>\n",
              "      <td>Для оформления обращения в техническую поддерж...</td>\n",
              "      <td>хочу создать заявку</td>\n",
              "    </tr>\n",
              "    <tr>\n",
              "      <th>4</th>\n",
              "      <td>Для оформления обращения в техническую поддерж...</td>\n",
              "      <td>мне нужно создать заявку</td>\n",
              "    </tr>\n",
              "    <tr>\n",
              "      <th>5</th>\n",
              "      <td>Чат-бот находится в стадии пилотирования и обу...</td>\n",
              "      <td>бот тупой</td>\n",
              "    </tr>\n",
              "    <tr>\n",
              "      <th>6</th>\n",
              "      <td>Чат-бот находится в стадии пилотирования и обу...</td>\n",
              "      <td>бот не помогает</td>\n",
              "    </tr>\n",
              "    <tr>\n",
              "      <th>7</th>\n",
              "      <td>Чат-бот находится в стадии пилотирования и обу...</td>\n",
              "      <td>как убрать бота</td>\n",
              "    </tr>\n",
              "    <tr>\n",
              "      <th>8</th>\n",
              "      <td>Для оформления обращения в техническую поддерж...</td>\n",
              "      <td>мне сказали создать заявку в поддержке</td>\n",
              "    </tr>\n",
              "    <tr>\n",
              "      <th>9</th>\n",
              "      <td>Для оформления обращения в техническую поддерж...</td>\n",
              "      <td>выход</td>\n",
              "    </tr>\n",
              "    <tr>\n",
              "      <th>10</th>\n",
              "      <td>Чат-бот находится в стадии пилотирования и обу...</td>\n",
              "      <td>вернуться на старый портал</td>\n",
              "    </tr>\n",
              "    <tr>\n",
              "      <th>11</th>\n",
              "      <td>Чат-бот находится в стадии пилотирования и обу...</td>\n",
              "      <td>нужен оператор</td>\n",
              "    </tr>\n",
              "  </tbody>\n",
              "</table>\n",
              "</div>\n",
              "    <div class=\"colab-df-buttons\">\n",
              "\n",
              "  <div class=\"colab-df-container\">\n",
              "    <button class=\"colab-df-convert\" onclick=\"convertToInteractive('df-04aaaf82-e5bf-4eea-8f05-5ec8e12bafb8')\"\n",
              "            title=\"Convert this dataframe to an interactive table.\"\n",
              "            style=\"display:none;\">\n",
              "\n",
              "  <svg xmlns=\"http://www.w3.org/2000/svg\" height=\"24px\" viewBox=\"0 -960 960 960\">\n",
              "    <path d=\"M120-120v-720h720v720H120Zm60-500h600v-160H180v160Zm220 220h160v-160H400v160Zm0 220h160v-160H400v160ZM180-400h160v-160H180v160Zm440 0h160v-160H620v160ZM180-180h160v-160H180v160Zm440 0h160v-160H620v160Z\"/>\n",
              "  </svg>\n",
              "    </button>\n",
              "\n",
              "  <style>\n",
              "    .colab-df-container {\n",
              "      display:flex;\n",
              "      gap: 12px;\n",
              "    }\n",
              "\n",
              "    .colab-df-convert {\n",
              "      background-color: #E8F0FE;\n",
              "      border: none;\n",
              "      border-radius: 50%;\n",
              "      cursor: pointer;\n",
              "      display: none;\n",
              "      fill: #1967D2;\n",
              "      height: 32px;\n",
              "      padding: 0 0 0 0;\n",
              "      width: 32px;\n",
              "    }\n",
              "\n",
              "    .colab-df-convert:hover {\n",
              "      background-color: #E2EBFA;\n",
              "      box-shadow: 0px 1px 2px rgba(60, 64, 67, 0.3), 0px 1px 3px 1px rgba(60, 64, 67, 0.15);\n",
              "      fill: #174EA6;\n",
              "    }\n",
              "\n",
              "    .colab-df-buttons div {\n",
              "      margin-bottom: 4px;\n",
              "    }\n",
              "\n",
              "    [theme=dark] .colab-df-convert {\n",
              "      background-color: #3B4455;\n",
              "      fill: #D2E3FC;\n",
              "    }\n",
              "\n",
              "    [theme=dark] .colab-df-convert:hover {\n",
              "      background-color: #434B5C;\n",
              "      box-shadow: 0px 1px 3px 1px rgba(0, 0, 0, 0.15);\n",
              "      filter: drop-shadow(0px 1px 2px rgba(0, 0, 0, 0.3));\n",
              "      fill: #FFFFFF;\n",
              "    }\n",
              "  </style>\n",
              "\n",
              "    <script>\n",
              "      const buttonEl =\n",
              "        document.querySelector('#df-04aaaf82-e5bf-4eea-8f05-5ec8e12bafb8 button.colab-df-convert');\n",
              "      buttonEl.style.display =\n",
              "        google.colab.kernel.accessAllowed ? 'block' : 'none';\n",
              "\n",
              "      async function convertToInteractive(key) {\n",
              "        const element = document.querySelector('#df-04aaaf82-e5bf-4eea-8f05-5ec8e12bafb8');\n",
              "        const dataTable =\n",
              "          await google.colab.kernel.invokeFunction('convertToInteractive',\n",
              "                                                    [key], {});\n",
              "        if (!dataTable) return;\n",
              "\n",
              "        const docLinkHtml = 'Like what you see? Visit the ' +\n",
              "          '<a target=\"_blank\" href=https://colab.research.google.com/notebooks/data_table.ipynb>data table notebook</a>'\n",
              "          + ' to learn more about interactive tables.';\n",
              "        element.innerHTML = '';\n",
              "        dataTable['output_type'] = 'display_data';\n",
              "        await google.colab.output.renderOutput(dataTable, element);\n",
              "        const docLink = document.createElement('div');\n",
              "        docLink.innerHTML = docLinkHtml;\n",
              "        element.appendChild(docLink);\n",
              "      }\n",
              "    </script>\n",
              "  </div>\n",
              "\n",
              "\n",
              "<div id=\"df-cf92b5ee-82ca-4dc9-91a9-c5b7c4ce4d98\">\n",
              "  <button class=\"colab-df-quickchart\" onclick=\"quickchart('df-cf92b5ee-82ca-4dc9-91a9-c5b7c4ce4d98')\"\n",
              "            title=\"Suggest charts\"\n",
              "            style=\"display:none;\">\n",
              "\n",
              "<svg xmlns=\"http://www.w3.org/2000/svg\" height=\"24px\"viewBox=\"0 0 24 24\"\n",
              "     width=\"24px\">\n",
              "    <g>\n",
              "        <path d=\"M19 3H5c-1.1 0-2 .9-2 2v14c0 1.1.9 2 2 2h14c1.1 0 2-.9 2-2V5c0-1.1-.9-2-2-2zM9 17H7v-7h2v7zm4 0h-2V7h2v10zm4 0h-2v-4h2v4z\"/>\n",
              "    </g>\n",
              "</svg>\n",
              "  </button>\n",
              "\n",
              "<style>\n",
              "  .colab-df-quickchart {\n",
              "      --bg-color: #E8F0FE;\n",
              "      --fill-color: #1967D2;\n",
              "      --hover-bg-color: #E2EBFA;\n",
              "      --hover-fill-color: #174EA6;\n",
              "      --disabled-fill-color: #AAA;\n",
              "      --disabled-bg-color: #DDD;\n",
              "  }\n",
              "\n",
              "  [theme=dark] .colab-df-quickchart {\n",
              "      --bg-color: #3B4455;\n",
              "      --fill-color: #D2E3FC;\n",
              "      --hover-bg-color: #434B5C;\n",
              "      --hover-fill-color: #FFFFFF;\n",
              "      --disabled-bg-color: #3B4455;\n",
              "      --disabled-fill-color: #666;\n",
              "  }\n",
              "\n",
              "  .colab-df-quickchart {\n",
              "    background-color: var(--bg-color);\n",
              "    border: none;\n",
              "    border-radius: 50%;\n",
              "    cursor: pointer;\n",
              "    display: none;\n",
              "    fill: var(--fill-color);\n",
              "    height: 32px;\n",
              "    padding: 0;\n",
              "    width: 32px;\n",
              "  }\n",
              "\n",
              "  .colab-df-quickchart:hover {\n",
              "    background-color: var(--hover-bg-color);\n",
              "    box-shadow: 0 1px 2px rgba(60, 64, 67, 0.3), 0 1px 3px 1px rgba(60, 64, 67, 0.15);\n",
              "    fill: var(--button-hover-fill-color);\n",
              "  }\n",
              "\n",
              "  .colab-df-quickchart-complete:disabled,\n",
              "  .colab-df-quickchart-complete:disabled:hover {\n",
              "    background-color: var(--disabled-bg-color);\n",
              "    fill: var(--disabled-fill-color);\n",
              "    box-shadow: none;\n",
              "  }\n",
              "\n",
              "  .colab-df-spinner {\n",
              "    border: 2px solid var(--fill-color);\n",
              "    border-color: transparent;\n",
              "    border-bottom-color: var(--fill-color);\n",
              "    animation:\n",
              "      spin 1s steps(1) infinite;\n",
              "  }\n",
              "\n",
              "  @keyframes spin {\n",
              "    0% {\n",
              "      border-color: transparent;\n",
              "      border-bottom-color: var(--fill-color);\n",
              "      border-left-color: var(--fill-color);\n",
              "    }\n",
              "    20% {\n",
              "      border-color: transparent;\n",
              "      border-left-color: var(--fill-color);\n",
              "      border-top-color: var(--fill-color);\n",
              "    }\n",
              "    30% {\n",
              "      border-color: transparent;\n",
              "      border-left-color: var(--fill-color);\n",
              "      border-top-color: var(--fill-color);\n",
              "      border-right-color: var(--fill-color);\n",
              "    }\n",
              "    40% {\n",
              "      border-color: transparent;\n",
              "      border-right-color: var(--fill-color);\n",
              "      border-top-color: var(--fill-color);\n",
              "    }\n",
              "    60% {\n",
              "      border-color: transparent;\n",
              "      border-right-color: var(--fill-color);\n",
              "    }\n",
              "    80% {\n",
              "      border-color: transparent;\n",
              "      border-right-color: var(--fill-color);\n",
              "      border-bottom-color: var(--fill-color);\n",
              "    }\n",
              "    90% {\n",
              "      border-color: transparent;\n",
              "      border-bottom-color: var(--fill-color);\n",
              "    }\n",
              "  }\n",
              "</style>\n",
              "\n",
              "  <script>\n",
              "    async function quickchart(key) {\n",
              "      const quickchartButtonEl =\n",
              "        document.querySelector('#' + key + ' button');\n",
              "      quickchartButtonEl.disabled = true;  // To prevent multiple clicks.\n",
              "      quickchartButtonEl.classList.add('colab-df-spinner');\n",
              "      try {\n",
              "        const charts = await google.colab.kernel.invokeFunction(\n",
              "            'suggestCharts', [key], {});\n",
              "      } catch (error) {\n",
              "        console.error('Error during call to suggestCharts:', error);\n",
              "      }\n",
              "      quickchartButtonEl.classList.remove('colab-df-spinner');\n",
              "      quickchartButtonEl.classList.add('colab-df-quickchart-complete');\n",
              "    }\n",
              "    (() => {\n",
              "      let quickchartButtonEl =\n",
              "        document.querySelector('#df-cf92b5ee-82ca-4dc9-91a9-c5b7c4ce4d98 button');\n",
              "      quickchartButtonEl.style.display =\n",
              "        google.colab.kernel.accessAllowed ? 'block' : 'none';\n",
              "    })();\n",
              "  </script>\n",
              "</div>\n",
              "    </div>\n",
              "  </div>\n"
            ],
            "application/vnd.google.colaboratory.intrinsic+json": {
              "type": "dataframe",
              "variable_name": "popular_phrases",
              "summary": "{\n  \"name\": \"popular_phrases\",\n  \"rows\": 12,\n  \"fields\": [\n    {\n      \"column\": \"\\u041e\\u0442\\u0432\\u0435\\u0442\",\n      \"properties\": {\n        \"dtype\": \"category\",\n        \"num_unique_values\": 2,\n        \"samples\": [\n          \"\\u0427\\u0430\\u0442-\\u0431\\u043e\\u0442 \\u043d\\u0430\\u0445\\u043e\\u0434\\u0438\\u0442\\u0441\\u044f \\u0432 \\u0441\\u0442\\u0430\\u0434\\u0438\\u0438 \\u043f\\u0438\\u043b\\u043e\\u0442\\u0438\\u0440\\u043e\\u0432\\u0430\\u043d\\u0438\\u044f \\u0438 \\u043e\\u0431\\u0443\\u0447\\u0430\\u0435\\u0442\\u0441\\u044f \\u0435\\u0436\\u0435\\u0434\\u043d\\u0435\\u0432\\u043d\\u043e. \\u041f\\u043e\\u0436\\u0430\\u043b\\u0443\\u0439\\u0441\\u0442\\u0430, \\u043e\\u0431\\u0440\\u0430\\u0442\\u0438\\u0442\\u0435\\u0441\\u044c \\u0432 \\u043f\\u043e\\u0434\\u0434\\u0435\\u0440\\u0436\\u043a\\u0443 \\u0438\\u043b\\u0438 \\u043f\\u043e\\u043f\\u0440\\u043e\\u0431\\u0443\\u0439\\u0442\\u0435 \\u043f\\u0435\\u0440\\u0435\\u0444\\u043e\\u0440\\u043c\\u0443\\u043b\\u0438\\u0440\\u043e\\u0432\\u0430\\u0442\\u044c \\u0441\\u0432\\u043e\\u0439 \\u0437\\u0430\\u043f\\u0440\\u043e\\u0441\",\n          \"\\u0414\\u043b\\u044f \\u043e\\u0444\\u043e\\u0440\\u043c\\u043b\\u0435\\u043d\\u0438\\u044f \\u043e\\u0431\\u0440\\u0430\\u0449\\u0435\\u043d\\u0438\\u044f \\u0432 \\u0442\\u0435\\u0445\\u043d\\u0438\\u0447\\u0435\\u0441\\u043a\\u0443\\u044e \\u043f\\u043e\\u0434\\u0434\\u0435\\u0440\\u0436\\u043a\\u0443 \\u0432\\u0430\\u043c \\u043d\\u0435\\u043e\\u0431\\u0445\\u043e\\u0434\\u0438\\u043c\\u043e \\u043d\\u0430\\u0436\\u0430\\u0442\\u044c \\u043d\\u0430 \\u043a\\u043d\\u043e\\u043f\\u043a\\u0443 \\\"\\u0412\\u044b\\u0439\\u0442\\u0438 \\u0438\\u0437 \\u0447\\u0430\\u0442\\u0430\\\" \\u0438\\u043b\\u0438 \\u043f\\u043e\\u0437\\u0432\\u043e\\u043d\\u0438\\u0442\\u044c \\u043f\\u043e \\u043d\\u043e\\u043c\\u0435\\u0440\\u0443 \\u0434\\u043e\\u0431.10-100, \\u043f\\u0440\\u044f\\u043c\\u043e\\u0439 +7 (XXX) XXX XX XX.\"\n        ],\n        \"semantic_type\": \"\",\n        \"description\": \"\"\n      }\n    },\n    {\n      \"column\": \"\\u0412\\u043e\\u043f\\u0440\\u043e\\u0441\",\n      \"properties\": {\n        \"dtype\": \"string\",\n        \"num_unique_values\": 12,\n        \"samples\": [\n          \"\\u0432\\u0435\\u0440\\u043d\\u0443\\u0442\\u044c\\u0441\\u044f \\u043d\\u0430 \\u0441\\u0442\\u0430\\u0440\\u044b\\u0439 \\u043f\\u043e\\u0440\\u0442\\u0430\\u043b\",\n          \"\\u0432\\u044b\\u0445\\u043e\\u0434\"\n        ],\n        \"semantic_type\": \"\",\n        \"description\": \"\"\n      }\n    }\n  ]\n}"
            }
          },
          "metadata": {},
          "execution_count": 217
        }
      ]
    },
    {
      "cell_type": "code",
      "source": [
        "qa_df=pd.read_csv('gdrive/MyDrive/AI_HUB_HACK/new_qa.csv')\n",
        "qa_df.head(5)"
      ],
      "metadata": {
        "colab": {
          "base_uri": "https://localhost:8080/",
          "height": 206
        },
        "id": "JDG6wcU7zcpn",
        "outputId": "89cc3a86-c388-4eb5-c57d-6faf1a96140d"
      },
      "execution_count": 218,
      "outputs": [
        {
          "output_type": "execute_result",
          "data": {
            "text/plain": [
              "     id                                           question  \\\n",
              "0  1577                     Как заказать выпуск МЧД в ТС5?   \n",
              "1  1225  Сотруднику в ЛК не приходит ссылка на заполнен...   \n",
              "2  1560  как получить выплату по уходу за больным родст...   \n",
              "3  1561  как получить выплату по уходу за больным родст...   \n",
              "4  1562  Почему нет выплаты от работодателя по больничн...   \n",
              "\n",
              "                                             content         category  \n",
              "0  1. Заходим на портал поддержки https://company...              ЭЦП  \n",
              "1   Анкета СБ приходит при первичном трудоустройстве               СБ  \n",
              "2  Больничный с кодом 09 (уход за больным членом ...  уход за больным  \n",
              "3  Больничный с кодом 09 (уход за больным членом ...  уход за больным  \n",
              "4  Больничный с кодом 09 (уход за больным членом ...  уход за больным  "
            ],
            "text/html": [
              "\n",
              "  <div id=\"df-bb5ad6af-4360-46a7-8f46-3276361f359f\" class=\"colab-df-container\">\n",
              "    <div>\n",
              "<style scoped>\n",
              "    .dataframe tbody tr th:only-of-type {\n",
              "        vertical-align: middle;\n",
              "    }\n",
              "\n",
              "    .dataframe tbody tr th {\n",
              "        vertical-align: top;\n",
              "    }\n",
              "\n",
              "    .dataframe thead th {\n",
              "        text-align: right;\n",
              "    }\n",
              "</style>\n",
              "<table border=\"1\" class=\"dataframe\">\n",
              "  <thead>\n",
              "    <tr style=\"text-align: right;\">\n",
              "      <th></th>\n",
              "      <th>id</th>\n",
              "      <th>question</th>\n",
              "      <th>content</th>\n",
              "      <th>category</th>\n",
              "    </tr>\n",
              "  </thead>\n",
              "  <tbody>\n",
              "    <tr>\n",
              "      <th>0</th>\n",
              "      <td>1577</td>\n",
              "      <td>Как заказать выпуск МЧД в ТС5?</td>\n",
              "      <td>1. Заходим на портал поддержки https://company...</td>\n",
              "      <td>ЭЦП</td>\n",
              "    </tr>\n",
              "    <tr>\n",
              "      <th>1</th>\n",
              "      <td>1225</td>\n",
              "      <td>Сотруднику в ЛК не приходит ссылка на заполнен...</td>\n",
              "      <td>Анкета СБ приходит при первичном трудоустройстве</td>\n",
              "      <td>СБ</td>\n",
              "    </tr>\n",
              "    <tr>\n",
              "      <th>2</th>\n",
              "      <td>1560</td>\n",
              "      <td>как получить выплату по уходу за больным родст...</td>\n",
              "      <td>Больничный с кодом 09 (уход за больным членом ...</td>\n",
              "      <td>уход за больным</td>\n",
              "    </tr>\n",
              "    <tr>\n",
              "      <th>3</th>\n",
              "      <td>1561</td>\n",
              "      <td>как получить выплату по уходу за больным родст...</td>\n",
              "      <td>Больничный с кодом 09 (уход за больным членом ...</td>\n",
              "      <td>уход за больным</td>\n",
              "    </tr>\n",
              "    <tr>\n",
              "      <th>4</th>\n",
              "      <td>1562</td>\n",
              "      <td>Почему нет выплаты от работодателя по больничн...</td>\n",
              "      <td>Больничный с кодом 09 (уход за больным членом ...</td>\n",
              "      <td>уход за больным</td>\n",
              "    </tr>\n",
              "  </tbody>\n",
              "</table>\n",
              "</div>\n",
              "    <div class=\"colab-df-buttons\">\n",
              "\n",
              "  <div class=\"colab-df-container\">\n",
              "    <button class=\"colab-df-convert\" onclick=\"convertToInteractive('df-bb5ad6af-4360-46a7-8f46-3276361f359f')\"\n",
              "            title=\"Convert this dataframe to an interactive table.\"\n",
              "            style=\"display:none;\">\n",
              "\n",
              "  <svg xmlns=\"http://www.w3.org/2000/svg\" height=\"24px\" viewBox=\"0 -960 960 960\">\n",
              "    <path d=\"M120-120v-720h720v720H120Zm60-500h600v-160H180v160Zm220 220h160v-160H400v160Zm0 220h160v-160H400v160ZM180-400h160v-160H180v160Zm440 0h160v-160H620v160ZM180-180h160v-160H180v160Zm440 0h160v-160H620v160Z\"/>\n",
              "  </svg>\n",
              "    </button>\n",
              "\n",
              "  <style>\n",
              "    .colab-df-container {\n",
              "      display:flex;\n",
              "      gap: 12px;\n",
              "    }\n",
              "\n",
              "    .colab-df-convert {\n",
              "      background-color: #E8F0FE;\n",
              "      border: none;\n",
              "      border-radius: 50%;\n",
              "      cursor: pointer;\n",
              "      display: none;\n",
              "      fill: #1967D2;\n",
              "      height: 32px;\n",
              "      padding: 0 0 0 0;\n",
              "      width: 32px;\n",
              "    }\n",
              "\n",
              "    .colab-df-convert:hover {\n",
              "      background-color: #E2EBFA;\n",
              "      box-shadow: 0px 1px 2px rgba(60, 64, 67, 0.3), 0px 1px 3px 1px rgba(60, 64, 67, 0.15);\n",
              "      fill: #174EA6;\n",
              "    }\n",
              "\n",
              "    .colab-df-buttons div {\n",
              "      margin-bottom: 4px;\n",
              "    }\n",
              "\n",
              "    [theme=dark] .colab-df-convert {\n",
              "      background-color: #3B4455;\n",
              "      fill: #D2E3FC;\n",
              "    }\n",
              "\n",
              "    [theme=dark] .colab-df-convert:hover {\n",
              "      background-color: #434B5C;\n",
              "      box-shadow: 0px 1px 3px 1px rgba(0, 0, 0, 0.15);\n",
              "      filter: drop-shadow(0px 1px 2px rgba(0, 0, 0, 0.3));\n",
              "      fill: #FFFFFF;\n",
              "    }\n",
              "  </style>\n",
              "\n",
              "    <script>\n",
              "      const buttonEl =\n",
              "        document.querySelector('#df-bb5ad6af-4360-46a7-8f46-3276361f359f button.colab-df-convert');\n",
              "      buttonEl.style.display =\n",
              "        google.colab.kernel.accessAllowed ? 'block' : 'none';\n",
              "\n",
              "      async function convertToInteractive(key) {\n",
              "        const element = document.querySelector('#df-bb5ad6af-4360-46a7-8f46-3276361f359f');\n",
              "        const dataTable =\n",
              "          await google.colab.kernel.invokeFunction('convertToInteractive',\n",
              "                                                    [key], {});\n",
              "        if (!dataTable) return;\n",
              "\n",
              "        const docLinkHtml = 'Like what you see? Visit the ' +\n",
              "          '<a target=\"_blank\" href=https://colab.research.google.com/notebooks/data_table.ipynb>data table notebook</a>'\n",
              "          + ' to learn more about interactive tables.';\n",
              "        element.innerHTML = '';\n",
              "        dataTable['output_type'] = 'display_data';\n",
              "        await google.colab.output.renderOutput(dataTable, element);\n",
              "        const docLink = document.createElement('div');\n",
              "        docLink.innerHTML = docLinkHtml;\n",
              "        element.appendChild(docLink);\n",
              "      }\n",
              "    </script>\n",
              "  </div>\n",
              "\n",
              "\n",
              "<div id=\"df-6e2cfa38-b76e-4440-b36a-c25a8e574000\">\n",
              "  <button class=\"colab-df-quickchart\" onclick=\"quickchart('df-6e2cfa38-b76e-4440-b36a-c25a8e574000')\"\n",
              "            title=\"Suggest charts\"\n",
              "            style=\"display:none;\">\n",
              "\n",
              "<svg xmlns=\"http://www.w3.org/2000/svg\" height=\"24px\"viewBox=\"0 0 24 24\"\n",
              "     width=\"24px\">\n",
              "    <g>\n",
              "        <path d=\"M19 3H5c-1.1 0-2 .9-2 2v14c0 1.1.9 2 2 2h14c1.1 0 2-.9 2-2V5c0-1.1-.9-2-2-2zM9 17H7v-7h2v7zm4 0h-2V7h2v10zm4 0h-2v-4h2v4z\"/>\n",
              "    </g>\n",
              "</svg>\n",
              "  </button>\n",
              "\n",
              "<style>\n",
              "  .colab-df-quickchart {\n",
              "      --bg-color: #E8F0FE;\n",
              "      --fill-color: #1967D2;\n",
              "      --hover-bg-color: #E2EBFA;\n",
              "      --hover-fill-color: #174EA6;\n",
              "      --disabled-fill-color: #AAA;\n",
              "      --disabled-bg-color: #DDD;\n",
              "  }\n",
              "\n",
              "  [theme=dark] .colab-df-quickchart {\n",
              "      --bg-color: #3B4455;\n",
              "      --fill-color: #D2E3FC;\n",
              "      --hover-bg-color: #434B5C;\n",
              "      --hover-fill-color: #FFFFFF;\n",
              "      --disabled-bg-color: #3B4455;\n",
              "      --disabled-fill-color: #666;\n",
              "  }\n",
              "\n",
              "  .colab-df-quickchart {\n",
              "    background-color: var(--bg-color);\n",
              "    border: none;\n",
              "    border-radius: 50%;\n",
              "    cursor: pointer;\n",
              "    display: none;\n",
              "    fill: var(--fill-color);\n",
              "    height: 32px;\n",
              "    padding: 0;\n",
              "    width: 32px;\n",
              "  }\n",
              "\n",
              "  .colab-df-quickchart:hover {\n",
              "    background-color: var(--hover-bg-color);\n",
              "    box-shadow: 0 1px 2px rgba(60, 64, 67, 0.3), 0 1px 3px 1px rgba(60, 64, 67, 0.15);\n",
              "    fill: var(--button-hover-fill-color);\n",
              "  }\n",
              "\n",
              "  .colab-df-quickchart-complete:disabled,\n",
              "  .colab-df-quickchart-complete:disabled:hover {\n",
              "    background-color: var(--disabled-bg-color);\n",
              "    fill: var(--disabled-fill-color);\n",
              "    box-shadow: none;\n",
              "  }\n",
              "\n",
              "  .colab-df-spinner {\n",
              "    border: 2px solid var(--fill-color);\n",
              "    border-color: transparent;\n",
              "    border-bottom-color: var(--fill-color);\n",
              "    animation:\n",
              "      spin 1s steps(1) infinite;\n",
              "  }\n",
              "\n",
              "  @keyframes spin {\n",
              "    0% {\n",
              "      border-color: transparent;\n",
              "      border-bottom-color: var(--fill-color);\n",
              "      border-left-color: var(--fill-color);\n",
              "    }\n",
              "    20% {\n",
              "      border-color: transparent;\n",
              "      border-left-color: var(--fill-color);\n",
              "      border-top-color: var(--fill-color);\n",
              "    }\n",
              "    30% {\n",
              "      border-color: transparent;\n",
              "      border-left-color: var(--fill-color);\n",
              "      border-top-color: var(--fill-color);\n",
              "      border-right-color: var(--fill-color);\n",
              "    }\n",
              "    40% {\n",
              "      border-color: transparent;\n",
              "      border-right-color: var(--fill-color);\n",
              "      border-top-color: var(--fill-color);\n",
              "    }\n",
              "    60% {\n",
              "      border-color: transparent;\n",
              "      border-right-color: var(--fill-color);\n",
              "    }\n",
              "    80% {\n",
              "      border-color: transparent;\n",
              "      border-right-color: var(--fill-color);\n",
              "      border-bottom-color: var(--fill-color);\n",
              "    }\n",
              "    90% {\n",
              "      border-color: transparent;\n",
              "      border-bottom-color: var(--fill-color);\n",
              "    }\n",
              "  }\n",
              "</style>\n",
              "\n",
              "  <script>\n",
              "    async function quickchart(key) {\n",
              "      const quickchartButtonEl =\n",
              "        document.querySelector('#' + key + ' button');\n",
              "      quickchartButtonEl.disabled = true;  // To prevent multiple clicks.\n",
              "      quickchartButtonEl.classList.add('colab-df-spinner');\n",
              "      try {\n",
              "        const charts = await google.colab.kernel.invokeFunction(\n",
              "            'suggestCharts', [key], {});\n",
              "      } catch (error) {\n",
              "        console.error('Error during call to suggestCharts:', error);\n",
              "      }\n",
              "      quickchartButtonEl.classList.remove('colab-df-spinner');\n",
              "      quickchartButtonEl.classList.add('colab-df-quickchart-complete');\n",
              "    }\n",
              "    (() => {\n",
              "      let quickchartButtonEl =\n",
              "        document.querySelector('#df-6e2cfa38-b76e-4440-b36a-c25a8e574000 button');\n",
              "      quickchartButtonEl.style.display =\n",
              "        google.colab.kernel.accessAllowed ? 'block' : 'none';\n",
              "    })();\n",
              "  </script>\n",
              "</div>\n",
              "    </div>\n",
              "  </div>\n"
            ],
            "application/vnd.google.colaboratory.intrinsic+json": {
              "type": "dataframe",
              "variable_name": "qa_df",
              "summary": "{\n  \"name\": \"qa_df\",\n  \"rows\": 1688,\n  \"fields\": [\n    {\n      \"column\": \"id\",\n      \"properties\": {\n        \"dtype\": \"number\",\n        \"std\": 487,\n        \"min\": 0,\n        \"max\": 1687,\n        \"num_unique_values\": 1688,\n        \"samples\": [\n          623,\n          165,\n          1632\n        ],\n        \"semantic_type\": \"\",\n        \"description\": \"\"\n      }\n    },\n    {\n      \"column\": \"question\",\n      \"properties\": {\n        \"dtype\": \"string\",\n        \"num_unique_values\": 1685,\n        \"samples\": [\n          \"\\u0443 \\u0441\\u043e\\u0442\\u0440\\u0443\\u0434\\u043d\\u0438\\u043a\\u0430 \\u043e\\u0442\\u0441\\u0443\\u0442\\u0441\\u0442\\u0432\\u0443\\u0435\\u0442 \\u043b\\u0438\\u0447\\u043d\\u044b\\u0439 \\u043a\\u0430\\u0431\\u0438\\u043d\\u0435\\u0442,\\u0441\\u0431\\u0440\\u043e\\u0441 \\u043f\\u0430\\u0440\\u043e\\u043b\\u044f \\u043d\\u0435\\u0432\\u043e\\u0437\\u043c\\u043e\\u0436\\u0435\\u043d\",\n          \"\\u0432\\u043e\\u0439\\u0442\\u0438 \\u0432 \\u043b\\u0438\\u0447\\u043d\\u044b\\u0439 \\u043a\\u0430\\u0431\\u0438\\u043d\\u0435\\u0442 \\u043d\\u0435 \\u0432\\u043e\\u0437\\u043c\\u043e\\u0436\\u043d\\u043e. \\u0433\\u0434\\u0435 \\u043c\\u043e\\u0436\\u043d\\u043e \\u0441\\u043e\\u0437\\u0434\\u0430\\u0442\\u044c \\u0437\\u0430\\u044f\\u0432\\u043a\\u0443?\",\n          \"\\u0412 \\u043b\\u0438\\u0447\\u043d\\u043e\\u043c \\u043a\\u0430\\u0431\\u0438\\u043d\\u0435\\u0442\\u0435 \\u043d\\u0435 \\u043e\\u0442\\u043e\\u0431\\u0440\\u0430\\u0436\\u0430\\u0435\\u0442\\u0441\\u044f \\u0437\\u0430\\u0434\\u0430\\u0447\\u0430 \\u043e \\u0437\\u0430\\u043f\\u043b\\u0430\\u043d\\u0438\\u0440\\u043e\\u0432\\u0430\\u043d\\u0438\\u0438 \\u043e\\u0442\\u043f\\u0443\\u0441\\u043a\\u0430\"\n        ],\n        \"semantic_type\": \"\",\n        \"description\": \"\"\n      }\n    },\n    {\n      \"column\": \"content\",\n      \"properties\": {\n        \"dtype\": \"category\",\n        \"num_unique_values\": 219,\n        \"samples\": [\n          \"\\u041f\\u043e\\u0436\\u0430\\u043b\\u0443\\u0439\\u0441\\u0442\\u0430, \\u043e\\u0431\\u0440\\u0430\\u0442\\u0438\\u0442\\u0435\\u0441\\u044c \\u043a \\u043d\\u0435\\u043f\\u043e\\u0441\\u0440\\u0435\\u0434\\u0441\\u0442\\u0432\\u0435\\u043d\\u043d\\u043e\\u043c\\u0443 \\u0440\\u0443\\u043a\\u043e\\u0432\\u043e\\u0434\\u0438\\u0442\\u0435\\u043b\\u044e, \\u0447\\u0442\\u043e\\u0431\\u044b \\u043e\\u043d \\u0441\\u043e\\u0437\\u0434\\u0430\\u043b \\u0437\\u0430\\u044f\\u0432\\u043a\\u0443 \\u0432 \\u041b\\u0438\\u0447\\u043d\\u043e\\u043c \\u043a\\u0430\\u0431\\u0438\\u043d\\u0435\\u0442\\u0435 \\u043f\\u043e \\u0442\\u0435\\u043c\\u0435 \\u00ab\\u041e\\u0442\\u043c\\u0435\\u043d\\u0430/\\u0430\\u043d\\u043d\\u0443\\u043b\\u0438\\u0440\\u043e\\u0432\\u0430\\u043d\\u0438\\u0435 \\u043c\\u0435\\u0440\\u043e\\u043f\\u0440\\u0438\\u044f\\u0442\\u0438\\u044f\\u00bb. \\u041f\\u043e\\u0441\\u043b\\u0435 \\u0432\\u044b\\u043f\\u043e\\u043b\\u043d\\u0435\\u043d\\u0438\\u044f \\u043c\\u0435\\u0440\\u043e\\u043f\\u0440\\u0438\\u044f\\u0442\\u0438\\u044f \\u0412\\u044b \\u0441\\u043c\\u043e\\u0436\\u0435\\u0442\\u0435 \\u0441\\u043e\\u0437\\u0434\\u0430\\u0442\\u044c \\u0437\\u0430\\u044f\\u0432\\u043a\\u0443 \\u0432 \\u041b\\u0438\\u0447\\u043d\\u043e\\u043c \\u043a\\u0430\\u0431\\u0438\\u043d\\u0435\\u0442\\u0435 \\u043f\\u043e \\u0442\\u0435\\u043c\\u0435 \\u00ab\\u041e\\u0442\\u043f\\u0443\\u0441\\u043a\\u0430 \\u0438 \\u043f\\u0440\\u043e\\u0447\\u0438\\u0435 \\u043e\\u0442\\u0441\\u0443\\u0442\\u0441\\u0442\\u0432\\u0438\\u044f\\u00bb, \\u043f\\u043e\\u0434\\u0442\\u0435\\u043c\\u0430 \\u00ab\\u041e\\u0442\\u0433\\u0443\\u043b \\u0437\\u0430 \\u0440\\u0430\\u043d\\u0435\\u0435 \\u043e\\u0442\\u0440\\u0430\\u0431\\u043e\\u0442\\u0430\\u043d\\u043d\\u044b\\u0439 \\u0432\\u044b\\u0445\\u043e\\u0434\\u043d\\u043e\\u0439 \\u0438\\u043b\\u0438 \\u043f\\u0440\\u0430\\u0437\\u0434\\u043d\\u0438\\u0447\\u043d\\u044b\\u0439 \\u0434\\u0435\\u043d\\u044c\\u00bb, \\u0443\\u043a\\u0430\\u0437\\u0430\\u0432 \\u043d\\u043e\\u0432\\u044b\\u0439 \\u043f\\u0435\\u0440\\u0438\\u043e\\u0434 \\u043e\\u0442\\u0441\\u0443\\u0442\\u0441\\u0442\\u0432\\u0438\\u044f.\",\n          \"\\u0415\\u0441\\u043b\\u0438 \\u0443 \\u0440\\u0430\\u0431\\u043e\\u0442\\u043d\\u0438\\u043a\\u0430 \\u043e\\u0442\\u0441\\u0443\\u0442\\u0441\\u0442\\u0432\\u0443\\u044e\\u0442 \\u044f\\u0432\\u043a\\u0438 \\u0441 \\u0434\\u0430\\u0442\\u044b \\u043f\\u0440\\u0438\\u0435\\u043c\\u0430, \\u0430 \\u0442\\u0430\\u043a\\u0436\\u0435 \\u043e\\u043d \\u043d\\u0435 \\u043f\\u043e\\u0434\\u043f\\u0438\\u0441\\u044b\\u0432\\u0430\\u043b \\u0434\\u043e\\u043a\\u0443\\u043c\\u0435\\u043d\\u0442\\u044b \\u043d\\u0430 \\u043f\\u0440\\u0438\\u0435\\u043c, \\u0442\\u043e \\u043c\\u043e\\u0436\\u043d\\u043e \\u043f\\u0440\\u043e\\u0432\\u0435\\u0441\\u0442\\u0438 \\u0443\\u0432\\u043e\\u043b\\u044c\\u043d\\u0435\\u043d\\u0438\\u0435 (\\u0430\\u043d\\u043d\\u0443\\u043b\\u0438\\u0440\\u043e\\u0432\\u0430\\u043d\\u0438\\u0435 \\u0442\\u0440\\u0443\\u0434\\u043e\\u0432\\u043e\\u0433\\u043e \\u0434\\u043e\\u0433\\u043e\\u0432\\u043e\\u0440\\u0430) \\u043f\\u043e \\u043f\\u0440\\u0438\\u0447\\u0438\\u043d\\u0435 40 \\\"\\u041d\\u0430\\u0440\\u0443\\u0448\\u0435\\u043d\\u0438\\u0435 \\u043f\\u0440\\u0430\\u0432\\u0438\\u043b \\u0437\\u0430\\u043a\\u043b\\u044e\\u0447\\u0435\\u043d\\u0438\\u044f \\u0442\\u0440\\u0443\\u0434\\u043e\\u0432\\u043e\\u0433\\u043e \\u0434\\u043e\\u0433\\u043e\\u0432\\u043e\\u0440\\u0430\\\". \\u0414\\u043b\\u044f \\u044d\\u0442\\u043e\\u0433\\u043e \\u0431\\u0438\\u0437\\u043d\\u0435\\u0441-\\u043f\\u0430\\u0440\\u0442\\u043d\\u0435\\u0440 \\u043f\\u043e \\u043f\\u0435\\u0440\\u0441\\u043e\\u043d\\u0430\\u043b\\u0443 \\u0441\\u043e\\u0437\\u0434\\u0430\\u0435\\u0442 \\u0437\\u0430\\u044f\\u0432\\u043a\\u0443 \\u043f\\u043e \\u0442\\u0435\\u043c\\u0435 \\u00ab\\u0423\\u0432\\u043e\\u043b\\u044c\\u043d\\u0435\\u043d\\u0438\\u0435 \\u043f\\u043e \\u0441\\u043e\\u0431\\u0441\\u0442\\u0432\\u0435\\u043d\\u043d\\u043e\\u043c\\u0443 \\u0436\\u0435\\u043b\\u0430\\u043d\\u0438\\u044e\\u00bb, \\u0432\\u043b\\u043e\\u0436\\u0438\\u0432 \\u0421\\u043b\\u0443\\u0436\\u0435\\u0431\\u043d\\u0443\\u044e \\u0437\\u0430\\u043f\\u0438\\u0441\\u043a\\u0443 \\u043e\\u0431 \\u0430\\u043d\\u043d\\u0443\\u043b\\u0438\\u0440\\u043e\\u0432\\u0430\\u043d\\u0438\\u0438 \\u0442\\u0440\\u0443\\u0434\\u043e\\u0432\\u043e\\u0433\\u043e \\u0434\\u043e\\u0433\\u043e\\u0432\\u043e\\u0440\\u0430, \\u0432 \\u043a\\u043e\\u043c\\u043c\\u0435\\u043d\\u0442\\u0430\\u0440\\u0438\\u044f\\u0445 \\u043a \\u0437\\u0430\\u044f\\u0432\\u043a\\u0435 \\u0443\\u043a\\u0430\\u0437\\u044b\\u0432\\u0430\\u0435\\u0442: \\u00ab\\u041d\\u0435\\u043e\\u0431\\u0445\\u043e\\u0434\\u0438\\u043c\\u043e \\u043f\\u0440\\u043e\\u0432\\u0435\\u0441\\u0442\\u0438 \\u0430\\u043d\\u043d\\u0443\\u043b\\u0438\\u0440\\u043e\\u0432\\u0430\\u043d\\u0438\\u0435 \\u0422\\u0414 \\u043f\\u043e \\u043a\\u043e\\u0434\\u0443 40 \\u00ab\\u041d\\u0430\\u0440\\u0443\\u0448\\u0435\\u043d\\u0438\\u0435 \\u043f\\u0440\\u0430\\u0432\\u0438\\u043b \\u0437\\u0430\\u043a\\u043b\\u044e\\u0447\\u0435\\u043d\\u0438\\u044f \\u0422\\u0414\\u00bb.\",\n          \"\\u0427\\u0442\\u043e\\u0431\\u044b \\u0434\\u043e\\u0447\\u0435\\u0440\\u043d\\u044f\\u044f \\u0437\\u0430\\u0434\\u0430\\u0447\\u0430 \\u043f\\u043e\\u044f\\u0432\\u0438\\u043b\\u0430\\u0441\\u044c \\u043d\\u0430 \\u043f\\u043e\\u0434\\u043f\\u0438\\u0441\\u0438 \\u0443 \\u0441\\u043e\\u0442\\u0440\\u0443\\u0434\\u043d\\u0438\\u043a\\u043e\\u0432, \\u043d\\u0435\\u043e\\u0431\\u0445\\u043e\\u0434\\u0438\\u043c\\u043e \\u0441\\u043e\\u0431\\u043b\\u044e\\u0434\\u0430\\u0442\\u044c \\u0432\\u0441\\u0435 \\u044d\\u0442\\u0430\\u043f\\u044b \\u0440\\u0430\\u0431\\u043e\\u0442\\u044b \\u0441 \\u0433\\u0440\\u0430\\u0444\\u0438\\u043a\\u043e\\u043c \\u0441\\u043c\\u0435\\u043d\\u043d\\u043e\\u0441\\u0442\\u0438. \\u0421 1 \\u043f\\u043e 3 \\u0447\\u0438\\u0441\\u043b\\u043e \\u0442\\u0435\\u043a\\u0443\\u0449\\u0435\\u0433\\u043e \\u043c\\u0435\\u0441\\u044f\\u0446\\u0430 \\u0441\\u043e\\u0437\\u0434\\u0430\\u0451\\u0442\\u0441\\u044f \\u0437\\u0430\\u0434\\u0430\\u0447\\u0430 \\u043d\\u0430 \\u0430\\u043a\\u0442\\u0443\\u0430\\u043b\\u0438\\u0437\\u0430\\u0446\\u0438\\u044e \\u0413\\u0421 \\u0432 \\u0432\\u0435\\u0431\\u0442\\u0430\\u0431\\u0435\\u043b\\u0435. \\u0421 4 \\u043f\\u043e 7 \\u0447\\u0438\\u0441\\u043b\\u043e \\u0437\\u0430\\u0434\\u0430\\u0447\\u0430 \\u043f\\u0435\\u0440\\u0435\\u0432\\u043e\\u0434\\u0438\\u0442\\u0441\\u044f \\u0432 \\u0441\\u0442\\u0430\\u0442\\u0443\\u0441 \\u201c\\u0442\\u0440\\u0435\\u0431\\u0443\\u0435\\u0442\\u0441\\u044f \\u043f\\u043e\\u0434\\u043f\\u0438\\u0441\\u0430\\u0442\\u044c \\u042d\\u0426\\u041f\\u201d. \\u0417\\u0430\\u0434\\u0430\\u0447\\u0430 \\u0432\\u0438\\u0441\\u0438\\u0442 \\u0432 \\u044d\\u0442\\u043e\\u043c \\u0441\\u0442\\u0430\\u0442\\u0443\\u0441\\u0435 \\u0434\\u043e 8 \\u0447\\u0438\\u0441\\u043b\\u0430. \\u0415\\u0441\\u043b\\u0438 \\u0414\\u041c \\u043f\\u043e\\u0434\\u043f\\u0438\\u0448\\u0435\\u0442 \\u0437\\u0430\\u0434\\u0430\\u0447\\u0443 \\u042d\\u0426\\u041f - \\u0441\\u043e\\u0437\\u0434\\u0430\\u044e\\u0442\\u0441\\u044f \\u0437\\u0430\\u0434\\u0430\\u0447\\u0438 \\u043d\\u0430 \\u0441\\u043e\\u0442\\u0440\\u0443\\u0434\\u043d\\u0438\\u043a\\u043e\\u0432, \\u0435\\u0441\\u043b\\u0438 \\u043d\\u0435 \\u0437\\u0430\\u0434\\u0430\\u0447\\u0430 \\u043d\\u0435 \\u043f\\u043e\\u0434\\u043f\\u0438\\u0441\\u0430\\u043d\\u0430 - \\u043f\\u0435\\u0440\\u0435\\u0432\\u043e\\u0434\\u0438\\u0442\\u0441\\u044f \\u043d\\u0430 \\u0440\\u0443\\u0447\\u043d\\u043e\\u0435 \\u043f\\u043e\\u0434\\u043f\\u0438\\u0441\\u0430\\u043d\\u0438\\u0435.\"\n        ],\n        \"semantic_type\": \"\",\n        \"description\": \"\"\n      }\n    },\n    {\n      \"column\": \"category\",\n      \"properties\": {\n        \"dtype\": \"category\",\n        \"num_unique_values\": 32,\n        \"samples\": [\n          \"\\u043f\\u0435\\u0440\\u0435\\u0432\\u043e\\u0434\",\n          \"\\u043d\\u0430\\u043b\\u043e\\u0433\\u043e\\u0432\\u044b\\u0439 \\u0432\\u044b\\u0447\\u0435\\u0442\",\n          \"\\u0431\\u043e\\u043b\\u044c\\u043d\\u0438\\u0447\\u043d\\u044b\\u0439\"\n        ],\n        \"semantic_type\": \"\",\n        \"description\": \"\"\n      }\n    }\n  ]\n}"
            }
          },
          "metadata": {},
          "execution_count": 218
        }
      ]
    },
    {
      "cell_type": "markdown",
      "source": [
        "# Смотрим на данные"
      ],
      "metadata": {
        "id": "-_rGXlyz093e"
      }
    },
    {
      "cell_type": "code",
      "source": [
        "proportions = qa_df['category'].value_counts(dropna=False).reset_index()\n",
        "print(proportions.head(5), '\\n')\n",
        "print(proportions.tail(10))"
      ],
      "metadata": {
        "colab": {
          "base_uri": "https://localhost:8080/"
        },
        "id": "WNWC0dtt0jDf",
        "outputId": "2e2531a1-618b-4373-fb4b-40243a4e5366"
      },
      "execution_count": 219,
      "outputs": [
        {
          "output_type": "stream",
          "name": "stdout",
          "text": [
            "           category  count\n",
            "0                ЛК    481\n",
            "1         поддержка    284\n",
            "2            табель    168\n",
            "3            отпуск    119\n",
            "4  удаленная работа     98 \n",
            "\n",
            "         category  count\n",
            "22       обучение      7\n",
            "23   доверенность      7\n",
            "24   командировка      5\n",
            "25            дмс      3\n",
            "26        перевод      2\n",
            "27             СБ      1\n",
            "28            МЧД      1\n",
            "29            SED      1\n",
            "30         Отпуск      1\n",
            "31  выручай-карта      1\n"
          ]
        }
      ]
    },
    {
      "cell_type": "markdown",
      "source": [
        "# Конкатим категорию к началу каждого вопроса"
      ],
      "metadata": {
        "id": "0JScRPOAjxg2"
      }
    },
    {
      "cell_type": "code",
      "source": [
        "qa_df['question'] = qa_df['category'] + \" \" + qa_df['question']\n",
        "qa_df['question'] = qa_df['question'].str.lower()"
      ],
      "metadata": {
        "id": "ymurKzSHjxAB"
      },
      "execution_count": 220,
      "outputs": []
    },
    {
      "cell_type": "markdown",
      "source": [
        "# Кодируемся"
      ],
      "metadata": {
        "id": "5YxSwCHXj-y5"
      }
    },
    {
      "cell_type": "code",
      "source": [
        "def encode_column(df, column_name):\n",
        "  id_map = {}\n",
        "  for x in df[column_name]:\n",
        "    id_map[x] = id_map.get(x, len(id_map))\n",
        "  df[f'{column_name}_id'] = df[column_name].map(id_map)\n",
        "  return id_map"
      ],
      "metadata": {
        "id": "dS8svNNu8CwU"
      },
      "execution_count": 221,
      "outputs": []
    },
    {
      "cell_type": "code",
      "source": [
        "id_map_content = encode_column(qa_df, 'content')\n",
        "id_map_categories = encode_column(qa_df, 'category')"
      ],
      "metadata": {
        "id": "Im6dOa1dcHyr"
      },
      "execution_count": 222,
      "outputs": []
    },
    {
      "cell_type": "markdown",
      "source": [
        "# Оставляем только те ответы, которые встречаются более 4 раз"
      ],
      "metadata": {
        "id": "qcKfVNUOTunh"
      }
    },
    {
      "cell_type": "code",
      "source": [
        "qa_df['content_count'] = qa_df['content_id'].map(qa_df.groupby('content_id').agg('size'))\n",
        "qa_df = qa_df.loc[qa_df['content_count'].ge(4)]"
      ],
      "metadata": {
        "id": "h0_wqbAbT1U8"
      },
      "execution_count": 223,
      "outputs": []
    },
    {
      "cell_type": "code",
      "source": [
        "# Перекодируем conten_id\n",
        "id_map_content = encode_column(qa_df, 'content')"
      ],
      "metadata": {
        "colab": {
          "base_uri": "https://localhost:8080/"
        },
        "id": "Chkn44vohya1",
        "outputId": "96b69a05-974e-4071-bf68-c75a6a48743e"
      },
      "execution_count": 224,
      "outputs": [
        {
          "output_type": "stream",
          "name": "stderr",
          "text": [
            "<ipython-input-221-3ff210bc371b>:5: SettingWithCopyWarning: \n",
            "A value is trying to be set on a copy of a slice from a DataFrame.\n",
            "Try using .loc[row_indexer,col_indexer] = value instead\n",
            "\n",
            "See the caveats in the documentation: https://pandas.pydata.org/pandas-docs/stable/user_guide/indexing.html#returning-a-view-versus-a-copy\n",
            "  df[f'{column_name}_id'] = df[column_name].map(id_map)\n"
          ]
        }
      ]
    },
    {
      "cell_type": "markdown",
      "source": [
        "# Функции для аугменации"
      ],
      "metadata": {
        "id": "yw_ARfIsHlEK"
      }
    },
    {
      "cell_type": "code",
      "source": [
        "def add_or_remove_punctuation(text):\n",
        "    \"\"\"Добавление или удаление знаков препинания.\"\"\"\n",
        "    # Возможные варианты добавления знаков препинания\n",
        "    punctuations = [',', '.', '!', '?']\n",
        "    words = text.split()\n",
        "\n",
        "    # Добавляем или удаляем знаки препинания\n",
        "    if random.random() < 0.5:\n",
        "        # Добавить знак препинания\n",
        "        position = random.randint(0, len(words) - 1)\n",
        "        punct = random.choice(punctuations)\n",
        "        words[position] = words[position] + punct\n",
        "    else:\n",
        "        # Удалить знак препинания, если он есть\n",
        "        text = text.translate(str.maketrans('', '', string.punctuation))\n",
        "        words = text.split()\n",
        "\n",
        "    return ' '.join(words)"
      ],
      "metadata": {
        "id": "zogIAhUcHkjI"
      },
      "execution_count": 225,
      "outputs": []
    },
    {
      "cell_type": "code",
      "source": [
        "def introduce_typo(text):\n",
        "    \"\"\"Создание опечаток в тексте.\"\"\"\n",
        "    if not text:\n",
        "        return text\n",
        "\n",
        "    words = text.split()\n",
        "    index = random.randint(0, len(words) - 1)\n",
        "    word = words[index]\n",
        "\n",
        "    # Опечатки: замена, пропуск или дублирование символов\n",
        "    typo_type = random.choice(['swap', 'remove', 'duplicate'])\n",
        "\n",
        "    if typo_type == 'swap' and len(word) > 1:\n",
        "        # Меняем местами соседние буквы\n",
        "        pos = random.randint(0, len(word) - 2)\n",
        "        word = list(word)\n",
        "        word[pos], word[pos + 1] = word[pos + 1], word[pos]\n",
        "        words[index] = ''.join(word)\n",
        "\n",
        "    elif typo_type == 'remove' and len(word) > 1:\n",
        "        # Удаляем случайную букву\n",
        "        pos = random.randint(0, len(word) - 1)\n",
        "        words[index] = word[:pos] + word[pos + 1:]\n",
        "\n",
        "    elif typo_type == 'duplicate':\n",
        "        # Дублируем случайную букву\n",
        "        pos = random.randint(0, len(word) - 1)\n",
        "        words[index] = word[:pos] + word[pos] + word[pos:]\n",
        "\n",
        "    return ' '.join(words)"
      ],
      "metadata": {
        "id": "m-S4DWLPKSlN"
      },
      "execution_count": 226,
      "outputs": []
    },
    {
      "cell_type": "code",
      "source": [
        "def shuffle_words(text):\n",
        "    \"\"\"Перестановка порядка слов.\"\"\"\n",
        "    words = text.split()\n",
        "    if len(words) > 1:\n",
        "        random.shuffle(words)\n",
        "    return ' '.join(words)"
      ],
      "metadata": {
        "id": "p1Y-pyL9KRAK"
      },
      "execution_count": 227,
      "outputs": []
    },
    {
      "cell_type": "markdown",
      "source": [
        "# Пример аугментации"
      ],
      "metadata": {
        "id": "hSASCitkJclt"
      }
    },
    {
      "cell_type": "code",
      "source": [
        "# Пример использования\n",
        "text = \"всем привет, динозавры\"\n",
        "augmented_text = add_or_remove_punctuation(text)\n",
        "augmented_text = introduce_typo(augmented_text)\n",
        "augmented_text = shuffle_words(augmented_text)\n",
        "\n",
        "print(\"Оригинальное предложение:\", text)\n",
        "print(\"Аугментированное предложение:\", augmented_text)"
      ],
      "metadata": {
        "colab": {
          "base_uri": "https://localhost:8080/"
        },
        "id": "RyFrb7cnJbKx",
        "outputId": "c53df1b9-b22b-4ce7-8c09-6c6d065abec8"
      },
      "execution_count": 228,
      "outputs": [
        {
          "output_type": "stream",
          "name": "stdout",
          "text": [
            "Оригинальное предложение: всем привет, динозавры\n",
            "Аугментированное предложение: динозаврры привет всем\n"
          ]
        }
      ]
    },
    {
      "cell_type": "markdown",
      "source": [
        "# Расширение датасета"
      ],
      "metadata": {
        "id": "09h6Eh1uNiEP"
      }
    },
    {
      "cell_type": "code",
      "source": [
        "AUG_NUM = 30\n",
        "\n",
        "def balance_dataset(qa_df):\n",
        "    # Шаг 1: Найти самый частовстречаемый ответ\n",
        "    max_count = qa_df['content_id'].value_counts().max()\n",
        "\n",
        "    # Шаг 2: Сбалансировать выборку ответов\n",
        "    augmented_data = []\n",
        "    for content_id, group in qa_df.groupby('content_id'):\n",
        "        count = len(group)\n",
        "        augmented_data.extend(group.to_dict('records'))  # Добавляем все исходные строки\n",
        "\n",
        "        # Если ответ встречается реже, чем самый частовстречаемый, создаем аугментированные копии вопросов\n",
        "        for _ in range(min(AUG_NUM, max_count - count)):\n",
        "            row = group.sample(1).iloc[0].to_dict()  # Случайный вопрос из группы\n",
        "            question = row['question']\n",
        "\n",
        "            # Применяем несколько аугментаций последовательно\n",
        "            augmented_question = add_or_remove_punctuation(question)\n",
        "            augmented_question = introduce_typo(augmented_question)\n",
        "            augmented_question = shuffle_words(augmented_question)\n",
        "\n",
        "            # Сохраняем аугментированный вопрос с исходным ответом\n",
        "            new_row = row.copy()\n",
        "            new_row['question'] = augmented_question\n",
        "            augmented_data.append(new_row)\n",
        "\n",
        "    # Шаг 3: Создать новый сбалансированный датафрейм\n",
        "    balanced_qa_df = pd.DataFrame(augmented_data)\n",
        "    return balanced_qa_df"
      ],
      "metadata": {
        "id": "678XMfkk976m"
      },
      "execution_count": 243,
      "outputs": []
    },
    {
      "cell_type": "markdown",
      "source": [
        "# Navec"
      ],
      "metadata": {
        "id": "XW-us2n5LL0V"
      }
    },
    {
      "cell_type": "code",
      "source": [
        "path = '/content/gdrive/MyDrive/AI_HUB_HACK/navec_hudlit_v1_12B_500K_300d_100q.tar'  # 51MB\n",
        "navec = Navec.load(path)  # ~1 sec, ~100MB RAM\n",
        "\n",
        "emb = NavecEmbedding(navec)\n",
        "\n",
        "# Функция для преобразования текста в индексы\n",
        "def text_to_indices(text, navec):\n",
        "    tokens = text.split()  # Используем пробелы для токенизации\n",
        "    indices = [navec.vocab.get(token, navec.vocab['<unk>']) for token in tokens]\n",
        "    return indices\n",
        "\n",
        "# Функция для получения эмбеддингов\n",
        "def get_embeddings(text, emb, navec):\n",
        "    indices = text_to_indices(text, navec)\n",
        "    if not indices:\n",
        "        return torch.zeros(1, emb.embedding_dim)  # Возвращаем нулевой тензор для пустых запросов\n",
        "    input_tensor = torch.tensor(indices)\n",
        "    embeddings = emb(input_tensor).mean(dim=0)  # Среднее значение по всем токенам\n",
        "    return embeddings"
      ],
      "metadata": {
        "id": "zwqscXYJLLYa"
      },
      "execution_count": 230,
      "outputs": []
    },
    {
      "cell_type": "markdown",
      "source": [
        "# Пайплайн предобработки"
      ],
      "metadata": {
        "id": "ob-W1-_aYk2w"
      }
    },
    {
      "cell_type": "code",
      "source": [
        "def process_splitted_data(df, do_aug=True):\n",
        "  augmented_df = df.copy()\n",
        "  if do_aug:\n",
        "    # print('Аугментация:')\n",
        "    augmented_df = balance_dataset(df)\n",
        "  # print('Эмбеддинги:')\n",
        "  augmented_df['embeddings'] = augmented_df['question'].apply(lambda x: get_embeddings(x, emb, navec).tolist())\n",
        "  augmented_df['embeddings'] = augmented_df['embeddings'].apply(np.array)\n",
        "  X = np.stack(augmented_df['embeddings'].values)\n",
        "  y = augmented_df['content_id']\n",
        "  return X, y"
      ],
      "metadata": {
        "id": "mccndPjhr6-l"
      },
      "execution_count": 246,
      "outputs": []
    },
    {
      "cell_type": "code",
      "source": [
        "# на случай если буду использовать другие модельки\n",
        "def format_data(data):\n",
        "  if IS_XGBOOST:\n",
        "    return xgb.DMatrix(data)\n",
        "  else:\n",
        "    return data"
      ],
      "metadata": {
        "id": "BtLkBclzsAVV"
      },
      "execution_count": null,
      "outputs": []
    },
    {
      "cell_type": "code",
      "source": [
        "from sklearn.model_selection import StratifiedKFold\n",
        "from sklearn.linear_model import LogisticRegression\n",
        "from sklearn.metrics import accuracy_score, precision_score, recall_score, f1_score\n",
        "import numpy as np\n",
        "\n",
        "n_splits = 5\n",
        "# Настройка кросс-валидации\n",
        "kf = StratifiedKFold(n_splits=n_splits, shuffle=True, random_state=42)\n",
        "\n",
        "# Хранение метрик для каждого фолда\n",
        "train_metrics = {\n",
        "    'accuracy': [],\n",
        "    'precision_macro': [],\n",
        "    'recall_macro': [],\n",
        "    'f1_macro': [],\n",
        "    'precision_micro': [],\n",
        "    'recall_micro': [],\n",
        "    'f1_micro': [],\n",
        "}\n",
        "\n",
        "test_metrics ={\n",
        "    'accuracy': [],\n",
        "    'precision_macro': [],\n",
        "    'recall_macro': [],\n",
        "    'f1_macro': [],\n",
        "    'precision_micro': [],\n",
        "    'recall_micro': [],\n",
        "    'f1_micro': [],\n",
        "}\n",
        "test_metrics_no_aug = {\n",
        "    'accuracy': [],\n",
        "    'precision_macro': [],\n",
        "    'recall_macro': [],\n",
        "    'f1_macro': [],\n",
        "    'precision_micro': [],\n",
        "    'recall_micro': [],\n",
        "    'f1_micro': [],\n",
        "}\n",
        "\n",
        "for train_index, test_index in tqdm(kf.split(qa_df, qa_df['content_id']), total=n_splits):\n",
        "    X_train, X_test = qa_df.iloc[train_index], qa_df.iloc[test_index]\n",
        "\n",
        "    # Обработка данных\n",
        "    X_train_processed, y_train_processed = process_splitted_data(X_train)\n",
        "    X_test_processed, y_test_processed = process_splitted_data(X_test)\n",
        "    X_test_no_aug, y_test_no_aug = process_splitted_data(X_test, do_aug=False)\n",
        "\n",
        "    # Обучение модели логистической регрессии\n",
        "    model = LogisticRegression(max_iter=1000, random_state=42)\n",
        "    model.fit(X_train_processed, y_train_processed)\n",
        "\n",
        "    # Предсказания\n",
        "    y_pred_train = model.predict(format_data(X_train_processed))\n",
        "    y_pred_test = model.predict(format_data(X_test_processed))\n",
        "    y_pred_test_no_aug = model.predict(format_data(X_test_no_aug))\n",
        "\n",
        "    # Подсчет метрик для обучающей выборки\n",
        "    train_metrics['accuracy'].append(accuracy_score(y_train_processed, y_pred_train))\n",
        "    train_metrics['precision_macro'].append(precision_score(y_train_processed, y_pred_train, average='macro'))\n",
        "    train_metrics['recall_macro'].append(recall_score(y_train_processed, y_pred_train, average='macro'))\n",
        "    train_metrics['f1_macro'].append(f1_score(y_train_processed, y_pred_train, average='macro'))\n",
        "    train_metrics['precision_micro'].append(precision_score(y_train_processed, y_pred_train, average='micro'))\n",
        "    train_metrics['recall_micro'].append(recall_score(y_train_processed, y_pred_train, average='micro'))\n",
        "    train_metrics['f1_micro'].append(f1_score(y_train_processed, y_pred_train, average='micro'))\n",
        "\n",
        "    # Подсчет метрик для тестовой выборки\n",
        "    test_metrics['accuracy'].append(accuracy_score(y_test_processed, y_pred_test))\n",
        "    test_metrics['precision_macro'].append(precision_score(y_test_processed, y_pred_test, average='macro'))\n",
        "    test_metrics['recall_macro'].append(recall_score(y_test_processed, y_pred_test, average='macro'))\n",
        "    test_metrics['f1_macro'].append(f1_score(y_test_processed, y_pred_test, average='macro'))\n",
        "    test_metrics['precision_micro'].append(precision_score(y_test_processed, y_pred_test, average='micro'))\n",
        "    test_metrics['recall_micro'].append(recall_score(y_test_processed, y_pred_test, average='micro'))\n",
        "    test_metrics['f1_micro'].append(f1_score(y_test_processed, y_pred_test, average='micro'))\n",
        "\n",
        "    # Подсчет метрик для тестовой выборки\n",
        "    test_metrics_no_aug['accuracy'].append(accuracy_score(y_test_no_aug, y_pred_test_no_aug))\n",
        "    test_metrics_no_aug['precision_macro'].append(precision_score(y_test_no_aug, y_pred_test_no_aug, average='macro'))\n",
        "    test_metrics_no_aug['recall_macro'].append(recall_score(y_test_no_aug, y_pred_test_no_aug, average='macro'))\n",
        "    test_metrics_no_aug['f1_macro'].append(f1_score(y_test_no_aug, y_pred_test_no_aug, average='macro'))\n",
        "    test_metrics_no_aug['precision_micro'].append(precision_score(y_test_no_aug, y_pred_test_no_aug, average='micro'))\n",
        "    test_metrics_no_aug['recall_micro'].append(recall_score(y_test_no_aug, y_pred_test_no_aug, average='micro'))\n",
        "    test_metrics_no_aug['f1_micro'].append(f1_score(y_test_no_aug, y_pred_test_no_aug, average='micro'))\n",
        "\n",
        "# Вывод средних метрик по всем фолдам\n",
        "def print_average_metrics(metrics):\n",
        "    for key in metrics:\n",
        "        print(f'{key}: {np.mean(metrics[key]):.4f}')\n",
        "\n",
        "print(\"Train Metrics:\")\n",
        "print_average_metrics(train_metrics)\n",
        "\n",
        "print(\"\\nTest Metrics:\")\n",
        "print_average_metrics(test_metrics)\n",
        "\n",
        "print(\"\\nTest Metrics (test was not augmented):\")\n",
        "print_average_metrics(test_metrics_no_aug)\n",
        "print('\\n')"
      ],
      "metadata": {
        "colab": {
          "base_uri": "https://localhost:8080/",
          "height": 1000,
          "referenced_widgets": [
            "92da86d3f97a4a2f98e2781845bbd158",
            "5c127e2483364b0d9524f2b52085070e",
            "9ceba19a68824c64a2fe5ccbc2ca9caf",
            "784ecd512af6469bb1d5499b79efe5d3",
            "e3a94f72067d4482abb8b261f60c4568",
            "4bbbe530933540a0a4095bf2ece10f79",
            "76a81cb0b06c453c9bdd042625949315",
            "201e2e94d42645939da05b2c7c2b03ae",
            "493abb6b4a6042539c84e887e17e2703",
            "f74cb98161bc42ac866466e4fc23ab72",
            "2cd20f01e9be4879b18b569155aab2b8"
          ]
        },
        "id": "jsHWItg2qadl",
        "outputId": "1db33dfa-c899-4d83-973c-c7e0162edcab"
      },
      "execution_count": 248,
      "outputs": [
        {
          "output_type": "display_data",
          "data": {
            "text/plain": [
              "  0%|          | 0/5 [00:00<?, ?it/s]"
            ],
            "application/vnd.jupyter.widget-view+json": {
              "version_major": 2,
              "version_minor": 0,
              "model_id": "92da86d3f97a4a2f98e2781845bbd158"
            }
          },
          "metadata": {}
        },
        {
          "output_type": "stream",
          "name": "stderr",
          "text": [
            "/usr/local/lib/python3.10/dist-packages/sklearn/model_selection/_split.py:737: UserWarning: The least populated class in y has only 4 members, which is less than n_splits=5.\n",
            "  warnings.warn(\n",
            "/usr/local/lib/python3.10/dist-packages/sklearn/metrics/_classification.py:1471: UndefinedMetricWarning: Precision is ill-defined and being set to 0.0 in labels with no predicted samples. Use `zero_division` parameter to control this behavior.\n",
            "  _warn_prf(average, modifier, msg_start, len(result))\n",
            "/usr/local/lib/python3.10/dist-packages/sklearn/metrics/_classification.py:1471: UndefinedMetricWarning: Recall is ill-defined and being set to 0.0 in labels with no true samples. Use `zero_division` parameter to control this behavior.\n",
            "  _warn_prf(average, modifier, msg_start, len(result))\n",
            "/usr/local/lib/python3.10/dist-packages/sklearn/metrics/_classification.py:1471: UndefinedMetricWarning: Precision is ill-defined and being set to 0.0 in labels with no predicted samples. Use `zero_division` parameter to control this behavior.\n",
            "  _warn_prf(average, modifier, msg_start, len(result))\n",
            "/usr/local/lib/python3.10/dist-packages/sklearn/metrics/_classification.py:1471: UndefinedMetricWarning: Recall is ill-defined and being set to 0.0 in labels with no true samples. Use `zero_division` parameter to control this behavior.\n",
            "  _warn_prf(average, modifier, msg_start, len(result))\n",
            "/usr/local/lib/python3.10/dist-packages/sklearn/metrics/_classification.py:1471: UndefinedMetricWarning: Precision is ill-defined and being set to 0.0 in labels with no predicted samples. Use `zero_division` parameter to control this behavior.\n",
            "  _warn_prf(average, modifier, msg_start, len(result))\n",
            "/usr/local/lib/python3.10/dist-packages/sklearn/metrics/_classification.py:1471: UndefinedMetricWarning: Recall is ill-defined and being set to 0.0 in labels with no true samples. Use `zero_division` parameter to control this behavior.\n",
            "  _warn_prf(average, modifier, msg_start, len(result))\n",
            "/usr/local/lib/python3.10/dist-packages/sklearn/metrics/_classification.py:1471: UndefinedMetricWarning: Precision is ill-defined and being set to 0.0 in labels with no predicted samples. Use `zero_division` parameter to control this behavior.\n",
            "  _warn_prf(average, modifier, msg_start, len(result))\n",
            "/usr/local/lib/python3.10/dist-packages/sklearn/metrics/_classification.py:1471: UndefinedMetricWarning: Precision is ill-defined and being set to 0.0 in labels with no predicted samples. Use `zero_division` parameter to control this behavior.\n",
            "  _warn_prf(average, modifier, msg_start, len(result))\n",
            "/usr/local/lib/python3.10/dist-packages/sklearn/metrics/_classification.py:1471: UndefinedMetricWarning: Recall is ill-defined and being set to 0.0 in labels with no true samples. Use `zero_division` parameter to control this behavior.\n",
            "  _warn_prf(average, modifier, msg_start, len(result))\n",
            "/usr/local/lib/python3.10/dist-packages/sklearn/metrics/_classification.py:1471: UndefinedMetricWarning: Precision is ill-defined and being set to 0.0 in labels with no predicted samples. Use `zero_division` parameter to control this behavior.\n",
            "  _warn_prf(average, modifier, msg_start, len(result))\n",
            "/usr/local/lib/python3.10/dist-packages/sklearn/metrics/_classification.py:1471: UndefinedMetricWarning: Recall is ill-defined and being set to 0.0 in labels with no true samples. Use `zero_division` parameter to control this behavior.\n",
            "  _warn_prf(average, modifier, msg_start, len(result))\n",
            "/usr/local/lib/python3.10/dist-packages/sklearn/metrics/_classification.py:1471: UndefinedMetricWarning: Recall is ill-defined and being set to 0.0 in labels with no true samples. Use `zero_division` parameter to control this behavior.\n",
            "  _warn_prf(average, modifier, msg_start, len(result))\n",
            "/usr/local/lib/python3.10/dist-packages/sklearn/metrics/_classification.py:1471: UndefinedMetricWarning: Precision is ill-defined and being set to 0.0 in labels with no predicted samples. Use `zero_division` parameter to control this behavior.\n",
            "  _warn_prf(average, modifier, msg_start, len(result))\n"
          ]
        },
        {
          "output_type": "stream",
          "name": "stdout",
          "text": [
            "Train Metrics:\n",
            "accuracy: 0.9695\n",
            "precision_macro: 0.9755\n",
            "recall_macro: 0.9710\n",
            "f1_macro: 0.9725\n",
            "precision_micro: 0.9695\n",
            "recall_micro: 0.9695\n",
            "f1_micro: 0.9695\n",
            "\n",
            "Test Metrics:\n",
            "accuracy: 0.6969\n",
            "precision_macro: 0.7040\n",
            "recall_macro: 0.6677\n",
            "f1_macro: 0.6560\n",
            "precision_micro: 0.6969\n",
            "recall_micro: 0.6969\n",
            "f1_micro: 0.6969\n",
            "\n",
            "Test Metrics (test was not augmented):\n",
            "accuracy: 0.8394\n",
            "precision_macro: 0.7105\n",
            "recall_macro: 0.7323\n",
            "f1_macro: 0.7045\n",
            "precision_micro: 0.8394\n",
            "recall_micro: 0.8394\n",
            "f1_micro: 0.8394\n",
            "\n",
            "\n"
          ]
        },
        {
          "output_type": "stream",
          "name": "stderr",
          "text": [
            "/usr/local/lib/python3.10/dist-packages/sklearn/metrics/_classification.py:1471: UndefinedMetricWarning: Recall is ill-defined and being set to 0.0 in labels with no true samples. Use `zero_division` parameter to control this behavior.\n",
            "  _warn_prf(average, modifier, msg_start, len(result))\n",
            "/usr/local/lib/python3.10/dist-packages/sklearn/metrics/_classification.py:1471: UndefinedMetricWarning: Precision is ill-defined and being set to 0.0 in labels with no predicted samples. Use `zero_division` parameter to control this behavior.\n",
            "  _warn_prf(average, modifier, msg_start, len(result))\n"
          ]
        }
      ]
    },
    {
      "cell_type": "markdown",
      "source": [
        "# Дальше - если тестить без кроссвалидации (для моделек потяжелее чем линейная регрессия)"
      ],
      "metadata": {
        "id": "DwrgAB0IvpRi"
      }
    },
    {
      "cell_type": "code",
      "source": [
        "X_train, X_test, y_train, y_test = train_test_split(qa_df,\n",
        "                                                    qa_df['content_id'],\n",
        "                                                    test_size=0.20,\n",
        "                                                    stratify=qa_df['content_id'],\n",
        "                                                    random_state=42)"
      ],
      "metadata": {
        "id": "Dyz0PuG8YxjW"
      },
      "execution_count": 249,
      "outputs": []
    },
    {
      "cell_type": "code",
      "source": [
        "X_train_processed, y_train_processed = process_splitted_data(X_train)\n",
        "X_test_processed, y_test_processed = process_splitted_data(X_test)\n",
        "X_test_no_aug, y_test_no_aug = process_splitted_data(X_test, do_aug=False)"
      ],
      "metadata": {
        "id": "5_5DrWyjadLi"
      },
      "execution_count": 250,
      "outputs": []
    },
    {
      "cell_type": "markdown",
      "source": [
        "# Обучение модели"
      ],
      "metadata": {
        "id": "3SHlJ-nudfD9"
      }
    },
    {
      "cell_type": "code",
      "source": [
        "# Обучение модели логистической регрессии\n",
        "model = LogisticRegression(max_iter=1000, random_state=42)\n",
        "model.fit(X_train_processed, y_train_processed)"
      ],
      "metadata": {
        "colab": {
          "base_uri": "https://localhost:8080/",
          "height": 74
        },
        "id": "ZYE6wGspPqoO",
        "outputId": "0ea5405f-e10e-4104-b9b2-e2316df41360"
      },
      "execution_count": 251,
      "outputs": [
        {
          "output_type": "execute_result",
          "data": {
            "text/plain": [
              "LogisticRegression(max_iter=1000, random_state=42)"
            ],
            "text/html": [
              "<style>#sk-container-id-7 {color: black;}#sk-container-id-7 pre{padding: 0;}#sk-container-id-7 div.sk-toggleable {background-color: white;}#sk-container-id-7 label.sk-toggleable__label {cursor: pointer;display: block;width: 100%;margin-bottom: 0;padding: 0.3em;box-sizing: border-box;text-align: center;}#sk-container-id-7 label.sk-toggleable__label-arrow:before {content: \"▸\";float: left;margin-right: 0.25em;color: #696969;}#sk-container-id-7 label.sk-toggleable__label-arrow:hover:before {color: black;}#sk-container-id-7 div.sk-estimator:hover label.sk-toggleable__label-arrow:before {color: black;}#sk-container-id-7 div.sk-toggleable__content {max-height: 0;max-width: 0;overflow: hidden;text-align: left;background-color: #f0f8ff;}#sk-container-id-7 div.sk-toggleable__content pre {margin: 0.2em;color: black;border-radius: 0.25em;background-color: #f0f8ff;}#sk-container-id-7 input.sk-toggleable__control:checked~div.sk-toggleable__content {max-height: 200px;max-width: 100%;overflow: auto;}#sk-container-id-7 input.sk-toggleable__control:checked~label.sk-toggleable__label-arrow:before {content: \"▾\";}#sk-container-id-7 div.sk-estimator input.sk-toggleable__control:checked~label.sk-toggleable__label {background-color: #d4ebff;}#sk-container-id-7 div.sk-label input.sk-toggleable__control:checked~label.sk-toggleable__label {background-color: #d4ebff;}#sk-container-id-7 input.sk-hidden--visually {border: 0;clip: rect(1px 1px 1px 1px);clip: rect(1px, 1px, 1px, 1px);height: 1px;margin: -1px;overflow: hidden;padding: 0;position: absolute;width: 1px;}#sk-container-id-7 div.sk-estimator {font-family: monospace;background-color: #f0f8ff;border: 1px dotted black;border-radius: 0.25em;box-sizing: border-box;margin-bottom: 0.5em;}#sk-container-id-7 div.sk-estimator:hover {background-color: #d4ebff;}#sk-container-id-7 div.sk-parallel-item::after {content: \"\";width: 100%;border-bottom: 1px solid gray;flex-grow: 1;}#sk-container-id-7 div.sk-label:hover label.sk-toggleable__label {background-color: #d4ebff;}#sk-container-id-7 div.sk-serial::before {content: \"\";position: absolute;border-left: 1px solid gray;box-sizing: border-box;top: 0;bottom: 0;left: 50%;z-index: 0;}#sk-container-id-7 div.sk-serial {display: flex;flex-direction: column;align-items: center;background-color: white;padding-right: 0.2em;padding-left: 0.2em;position: relative;}#sk-container-id-7 div.sk-item {position: relative;z-index: 1;}#sk-container-id-7 div.sk-parallel {display: flex;align-items: stretch;justify-content: center;background-color: white;position: relative;}#sk-container-id-7 div.sk-item::before, #sk-container-id-7 div.sk-parallel-item::before {content: \"\";position: absolute;border-left: 1px solid gray;box-sizing: border-box;top: 0;bottom: 0;left: 50%;z-index: -1;}#sk-container-id-7 div.sk-parallel-item {display: flex;flex-direction: column;z-index: 1;position: relative;background-color: white;}#sk-container-id-7 div.sk-parallel-item:first-child::after {align-self: flex-end;width: 50%;}#sk-container-id-7 div.sk-parallel-item:last-child::after {align-self: flex-start;width: 50%;}#sk-container-id-7 div.sk-parallel-item:only-child::after {width: 0;}#sk-container-id-7 div.sk-dashed-wrapped {border: 1px dashed gray;margin: 0 0.4em 0.5em 0.4em;box-sizing: border-box;padding-bottom: 0.4em;background-color: white;}#sk-container-id-7 div.sk-label label {font-family: monospace;font-weight: bold;display: inline-block;line-height: 1.2em;}#sk-container-id-7 div.sk-label-container {text-align: center;}#sk-container-id-7 div.sk-container {/* jupyter's `normalize.less` sets `[hidden] { display: none; }` but bootstrap.min.css set `[hidden] { display: none !important; }` so we also need the `!important` here to be able to override the default hidden behavior on the sphinx rendered scikit-learn.org. See: https://github.com/scikit-learn/scikit-learn/issues/21755 */display: inline-block !important;position: relative;}#sk-container-id-7 div.sk-text-repr-fallback {display: none;}</style><div id=\"sk-container-id-7\" class=\"sk-top-container\"><div class=\"sk-text-repr-fallback\"><pre>LogisticRegression(max_iter=1000, random_state=42)</pre><b>In a Jupyter environment, please rerun this cell to show the HTML representation or trust the notebook. <br />On GitHub, the HTML representation is unable to render, please try loading this page with nbviewer.org.</b></div><div class=\"sk-container\" hidden><div class=\"sk-item\"><div class=\"sk-estimator sk-toggleable\"><input class=\"sk-toggleable__control sk-hidden--visually\" id=\"sk-estimator-id-7\" type=\"checkbox\" checked><label for=\"sk-estimator-id-7\" class=\"sk-toggleable__label sk-toggleable__label-arrow\">LogisticRegression</label><div class=\"sk-toggleable__content\"><pre>LogisticRegression(max_iter=1000, random_state=42)</pre></div></div></div></div></div>"
            ]
          },
          "metadata": {},
          "execution_count": 251
        }
      ]
    },
    {
      "cell_type": "markdown",
      "source": [
        "# Предикты и метрики"
      ],
      "metadata": {
        "id": "yyuXOOLIdhuy"
      }
    },
    {
      "cell_type": "code",
      "source": [
        "def get_metrics(y_true, y_pred):\n",
        "  # Подсчет метрик\n",
        "    accuracy = accuracy_score(y_true, y_pred)\n",
        "    precision_macro = precision_score(y_true, y_pred, average='macro')\n",
        "    precision_micro = precision_score(y_true, y_pred, average='micro')\n",
        "    recall_macro = recall_score(y_true, y_pred, average='macro')\n",
        "    recall_micro = recall_score(y_true, y_pred, average='micro')\n",
        "    f1_macro = f1_score(y_true, y_pred, average='macro')\n",
        "    f1_micro = f1_score(y_true, y_pred, average='micro')\n",
        "\n",
        "    # Вывод метрик\n",
        "    print(f'Accuracy: {accuracy:.4f}')\n",
        "    print(f'Precision: (macro:{precision_macro:.4f}, micro:{precision_micro:.4f})')\n",
        "    print(f'Recall: (macro:{recall_macro:.4f}, micro:{recall_micro:.4f})')\n",
        "    print(f'F1 Score: (macro:{f1_macro:.4f}, micro:{f1_micro:.4f}) \\n')"
      ],
      "metadata": {
        "id": "kA9_jCKLdXo9"
      },
      "execution_count": 252,
      "outputs": []
    },
    {
      "cell_type": "code",
      "source": [
        "IS_XGBOOST = False\n",
        "\n",
        "def format_data(data):\n",
        "  if IS_XGBOOST:\n",
        "    return xgb.DMatrix(data)\n",
        "  else:\n",
        "    return data\n",
        "\n",
        "y_pred_train = model.predict(format_data(X_train_processed))\n",
        "y_pred_test = model.predict(format_data(X_test_processed))\n",
        "y_pred_test_no_aug = model.predict(format_data(X_test_no_aug))"
      ],
      "metadata": {
        "id": "Lu1eOkfRLLT2"
      },
      "execution_count": 253,
      "outputs": []
    },
    {
      "cell_type": "code",
      "source": [
        "# Train\n",
        "get_metrics(y_train_processed, y_pred_train)"
      ],
      "metadata": {
        "colab": {
          "base_uri": "https://localhost:8080/"
        },
        "id": "IDLCxR7peWZ5",
        "outputId": "0911e602-8004-470b-e741-4d66a66a349e"
      },
      "execution_count": 254,
      "outputs": [
        {
          "output_type": "stream",
          "name": "stdout",
          "text": [
            "Accuracy: 0.9714\n",
            "Precision: (macro:0.9793, micro:0.9714)\n",
            "Recall: (macro:0.9734, micro:0.9714)\n",
            "F1 Score: (macro:0.9757, micro:0.9714) \n",
            "\n"
          ]
        }
      ]
    },
    {
      "cell_type": "code",
      "source": [
        "# Test\n",
        "get_metrics(y_test_processed, y_pred_test)"
      ],
      "metadata": {
        "colab": {
          "base_uri": "https://localhost:8080/"
        },
        "id": "anlnhEgXelM0",
        "outputId": "14d54002-8ccb-443d-9ccb-020e41acb306"
      },
      "execution_count": 255,
      "outputs": [
        {
          "output_type": "stream",
          "name": "stdout",
          "text": [
            "Accuracy: 0.7324\n",
            "Precision: (macro:0.7507, micro:0.7324)\n",
            "Recall: (macro:0.7254, micro:0.7324)\n",
            "F1 Score: (macro:0.7161, micro:0.7324) \n",
            "\n"
          ]
        },
        {
          "output_type": "stream",
          "name": "stderr",
          "text": [
            "/usr/local/lib/python3.10/dist-packages/sklearn/metrics/_classification.py:1471: UndefinedMetricWarning: Precision is ill-defined and being set to 0.0 in labels with no predicted samples. Use `zero_division` parameter to control this behavior.\n",
            "  _warn_prf(average, modifier, msg_start, len(result))\n"
          ]
        }
      ]
    },
    {
      "cell_type": "code",
      "source": [
        "# Test no augmentation\n",
        "get_metrics(y_test_no_aug, y_pred_test_no_aug)"
      ],
      "metadata": {
        "colab": {
          "base_uri": "https://localhost:8080/"
        },
        "id": "PHz7PZZselRp",
        "outputId": "ffeb8341-3c96-4980-dd40-6a6cd4f16aee"
      },
      "execution_count": 256,
      "outputs": [
        {
          "output_type": "stream",
          "name": "stdout",
          "text": [
            "Accuracy: 0.8576\n",
            "Precision: (macro:0.7516, micro:0.8576)\n",
            "Recall: (macro:0.7452, micro:0.8576)\n",
            "F1 Score: (macro:0.7317, micro:0.8576) \n",
            "\n"
          ]
        },
        {
          "output_type": "stream",
          "name": "stderr",
          "text": [
            "/usr/local/lib/python3.10/dist-packages/sklearn/metrics/_classification.py:1471: UndefinedMetricWarning: Precision is ill-defined and being set to 0.0 in labels with no predicted samples. Use `zero_division` parameter to control this behavior.\n",
            "  _warn_prf(average, modifier, msg_start, len(result))\n"
          ]
        }
      ]
    }
  ]
}