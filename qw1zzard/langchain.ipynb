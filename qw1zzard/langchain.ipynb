{
 "cells": [
  {
   "cell_type": "code",
   "execution_count": 1,
   "metadata": {},
   "outputs": [],
   "source": [
    "from langchain.chains import create_history_aware_retriever, create_retrieval_chain\n",
    "from langchain.chains.combine_documents import create_stuff_documents_chain\n",
    "from langchain_chroma import Chroma\n",
    "from langchain_community.chat_message_histories import ChatMessageHistory\n",
    "from langchain_core.chat_history import BaseChatMessageHistory\n",
    "from langchain_core.prompts import ChatPromptTemplate, MessagesPlaceholder\n",
    "from langchain_core.runnables.history import RunnableWithMessageHistory\n",
    "from langchain_ollama import ChatOllama, OllamaEmbeddings\n",
    "import pandas as pd\n",
    "from langchain_community.document_loaders import CSVLoader"
   ]
  },
  {
   "cell_type": "code",
   "execution_count": 2,
   "metadata": {},
   "outputs": [],
   "source": [
    "CHAT_MODEL_NAME = 'llama3.1:8b'\n",
    "EMBED_MODEL_NAME = 'nomic-embed-text:v1.5'\n",
    "FILE_PATH = 'LK_modified.xlsx - Вопрос ответ.csv'\n",
    "\n",
    "llm = ChatOllama(model=CHAT_MODEL_NAME, temperature=0.1)"
   ]
  },
  {
   "cell_type": "code",
   "execution_count": 3,
   "metadata": {},
   "outputs": [
    {
     "data": {
      "text/html": [
       "<div>\n",
       "<style scoped>\n",
       "    .dataframe tbody tr th:only-of-type {\n",
       "        vertical-align: middle;\n",
       "    }\n",
       "\n",
       "    .dataframe tbody tr th {\n",
       "        vertical-align: top;\n",
       "    }\n",
       "\n",
       "    .dataframe thead th {\n",
       "        text-align: right;\n",
       "    }\n",
       "</style>\n",
       "<table border=\"1\" class=\"dataframe\">\n",
       "  <thead>\n",
       "    <tr style=\"text-align: right;\">\n",
       "      <th></th>\n",
       "      <th>id</th>\n",
       "      <th>question</th>\n",
       "      <th>content</th>\n",
       "      <th>category</th>\n",
       "    </tr>\n",
       "  </thead>\n",
       "  <tbody>\n",
       "    <tr>\n",
       "      <th>1683</th>\n",
       "      <td>1683</td>\n",
       "      <td>как убрать бота</td>\n",
       "      <td>Чат-бот находится в стадии пилотирования и обу...</td>\n",
       "      <td>поддержка</td>\n",
       "    </tr>\n",
       "    <tr>\n",
       "      <th>1684</th>\n",
       "      <td>1684</td>\n",
       "      <td>мне сказали создать заявку в поддержке</td>\n",
       "      <td>Для оформления обращения в техническую поддерж...</td>\n",
       "      <td>оператор</td>\n",
       "    </tr>\n",
       "    <tr>\n",
       "      <th>1685</th>\n",
       "      <td>1685</td>\n",
       "      <td>выход</td>\n",
       "      <td>Для оформления обращения в техническую поддерж...</td>\n",
       "      <td>оператор</td>\n",
       "    </tr>\n",
       "    <tr>\n",
       "      <th>1686</th>\n",
       "      <td>1686</td>\n",
       "      <td>вернуться на старый портал</td>\n",
       "      <td>Чат-бот находится в стадии пилотирования и обу...</td>\n",
       "      <td>поддержка</td>\n",
       "    </tr>\n",
       "    <tr>\n",
       "      <th>1687</th>\n",
       "      <td>1687</td>\n",
       "      <td>нужен оператор</td>\n",
       "      <td>Чат-бот находится в стадии пилотирования и обу...</td>\n",
       "      <td>поддержка</td>\n",
       "    </tr>\n",
       "  </tbody>\n",
       "</table>\n",
       "</div>"
      ],
      "text/plain": [
       "        id                                question  \\\n",
       "1683  1683                         как убрать бота   \n",
       "1684  1684  мне сказали создать заявку в поддержке   \n",
       "1685  1685                                   выход   \n",
       "1686  1686              вернуться на старый портал   \n",
       "1687  1687                          нужен оператор   \n",
       "\n",
       "                                                content   category  \n",
       "1683  Чат-бот находится в стадии пилотирования и обу...  поддержка  \n",
       "1684  Для оформления обращения в техническую поддерж...   оператор  \n",
       "1685  Для оформления обращения в техническую поддерж...   оператор  \n",
       "1686  Чат-бот находится в стадии пилотирования и обу...  поддержка  \n",
       "1687  Чат-бот находится в стадии пилотирования и обу...  поддержка  "
      ]
     },
     "execution_count": 3,
     "metadata": {},
     "output_type": "execute_result"
    }
   ],
   "source": [
    "df = pd.read_csv(FILE_PATH)\n",
    "df.tail()"
   ]
  },
  {
   "cell_type": "code",
   "execution_count": 4,
   "metadata": {},
   "outputs": [
    {
     "data": {
      "text/plain": [
       "[Document(metadata={'source': 'LK_modified.xlsx - Вопрос ответ.csv', 'row': 0, 'id': '0', 'category': 'автомобиль'}, page_content='question: Я сменил автомобить, на учет еще не поставил, могу ли я заправляться по топливной карте?\\ncontent: Для внесения данных по личному автомобилю обратитесь, пожалуйста, к своему руководителю для создания заявки по теме \"Изменение режима характера работы\", подтема \"Установка РХР и топливной карты\". В комментариях опишите ситуацию и приложите ПТС, СТС, страховой полис и водительское удостоверение.'),\n",
       " Document(metadata={'source': 'LK_modified.xlsx - Вопрос ответ.csv', 'row': 1, 'id': '1', 'category': 'автомобиль'}, page_content='question: Не отображается автомобиль в личном кабинете.\\ncontent: Для внесения данных по личному автомобилю обратитесь, пожалуйста, к своему руководителю для создания заявки по теме \"Изменение режима характера работы\", подтема \"Установка РХР и топливной карты\". В комментариях опишите ситуацию и приложите ПТС, СТС, страховой полис и водительское удостоверение.'),\n",
       " Document(metadata={'source': 'LK_modified.xlsx - Вопрос ответ.csv', 'row': 2, 'id': '2', 'category': 'автомобиль'}, page_content='question: добавить автомобиль\\ncontent: Для внесения данных по личному автомобилю обратитесь, пожалуйста, к своему руководителю для создания заявки по теме \"Изменение режима характера работы\", подтема \"Установка РХР и топливной карты\". В комментариях опишите ситуацию и приложите ПТС, СТС, страховой полис и водительское удостоверение.'),\n",
       " Document(metadata={'source': 'LK_modified.xlsx - Вопрос ответ.csv', 'row': 3, 'id': '3', 'category': 'автомобиль'}, page_content='question: хочу внести данные об автомобиле\\ncontent: Для внесения данных по личному автомобилю обратитесь, пожалуйста, к своему руководителю для создания заявки по теме \"Изменение режима характера работы\", подтема \"Установка РХР и топливной карты\". В комментариях опишите ситуацию и приложите ПТС, СТС, страховой полис и водительское удостоверение.'),\n",
       " Document(metadata={'source': 'LK_modified.xlsx - Вопрос ответ.csv', 'row': 4, 'id': '4', 'category': 'автомобиль'}, page_content='question: Как внести данные об автомобиле?\\ncontent: Для внесения данных по личному автомобилю обратитесь, пожалуйста, к своему руководителю для создания заявки по теме \"Изменение режима характера работы\", подтема \"Установка РХР и топливной карты\". В комментариях опишите ситуацию и приложите ПТС, СТС, страховой полис и водительское удостоверение.')]"
      ]
     },
     "execution_count": 4,
     "metadata": {},
     "output_type": "execute_result"
    }
   ],
   "source": [
    "loader = CSVLoader(\n",
    "    file_path=FILE_PATH,\n",
    "    metadata_columns=['id', 'category'],\n",
    "    content_columns=['question', 'content'],\n",
    "    encoding='utf-8',\n",
    ")\n",
    "documents = loader.load()\n",
    "documents[:5]"
   ]
  },
  {
   "cell_type": "code",
   "execution_count": 5,
   "metadata": {},
   "outputs": [],
   "source": [
    "vectorstore = Chroma.from_documents(\n",
    "    collection_name='question_answer_collection',\n",
    "    documents=documents,\n",
    "    embedding=OllamaEmbeddings(model=EMBED_MODEL_NAME),\n",
    ")\n",
    "retriever = vectorstore.as_retriever(\n",
    "    search_type='mmr',\n",
    "    search_kwargs={'k': 5, 'lambda_mult': 0.25},\n",
    ")"
   ]
  },
  {
   "cell_type": "code",
   "execution_count": 6,
   "metadata": {},
   "outputs": [],
   "source": [
    "contextualize_q_system_prompt = \"\"\"\n",
    "    Given a chat history and the latest user question\n",
    "    which might reference context in the chat history,\n",
    "    formulate a standalone question which can be understood\n",
    "    without the chat history. Do NOT answer the question,\n",
    "    just reformulate it if needed and otherwise return it as is.\n",
    "\"\"\"\n",
    "\n",
    "contextualize_q_prompt = ChatPromptTemplate.from_messages(\n",
    "    [\n",
    "        ('system', contextualize_q_system_prompt),\n",
    "        MessagesPlaceholder('chat_history'),\n",
    "        ('human', '{input}'),\n",
    "    ]\n",
    ")\n",
    "history_aware_retriever = create_history_aware_retriever(\n",
    "    llm, retriever, contextualize_q_prompt\n",
    ")"
   ]
  },
  {
   "cell_type": "code",
   "execution_count": 7,
   "metadata": {},
   "outputs": [],
   "source": [
    "system_prompt = (\n",
    "    \"\"\"\n",
    "    You are an internal technical support assistant for employees of a large company. \n",
    "\n",
    "    1. Use the entire conversation history with the user to understand the context of the inquiry.\n",
    "    2. Incorporate the pieces of information retrieved from the knowledge base,\n",
    "            which consists of pairs of questions (user inquiries) and fixed answers (responses).\n",
    "    3. Based on the current conversation, choose the most relevant question\n",
    "            from the retrieved pairs, and respond with the corresponding fixed answer from the knowledge base.\n",
    "    4. You must provide responses exactly as they appear in the knowledge base,\n",
    "            without any modifications. All responses must be in Russian.\n",
    "    \"\"\"\n",
    "#     \"\"\"\n",
    "#     5.If no relevant answer is found, respond with the template:\n",
    "#             'Чат-бот находится в стадии пилотирования и обучается ежедневно. Пожалуйста, обратитесь в поддержку или попробуйте переформулировать свой запрос.'\n",
    "#     \"\"\"\n",
    "    '\\n\\n{context}'\n",
    ")\n",
    "\n",
    "qa_prompt = ChatPromptTemplate.from_messages(\n",
    "    [\n",
    "        ('system', system_prompt),\n",
    "        MessagesPlaceholder('chat_history'),\n",
    "        ('human', '{input}'),\n",
    "    ]\n",
    ")\n",
    "question_answer_chain = create_stuff_documents_chain(llm, qa_prompt)\n",
    "rag_chain = create_retrieval_chain(history_aware_retriever, question_answer_chain)"
   ]
  },
  {
   "cell_type": "code",
   "execution_count": 8,
   "metadata": {},
   "outputs": [],
   "source": [
    "store = {}\n",
    "\n",
    "\n",
    "def get_session_history(session_id: str) -> BaseChatMessageHistory:\n",
    "    if session_id not in store:\n",
    "        store[session_id] = ChatMessageHistory()\n",
    "    return store[session_id]\n",
    "\n",
    "\n",
    "conversational_rag_chain = RunnableWithMessageHistory(\n",
    "    rag_chain,\n",
    "    get_session_history,\n",
    "    input_messages_key='input',\n",
    "    history_messages_key='chat_history',\n",
    "    output_messages_key='answer',\n",
    ")"
   ]
  },
  {
   "cell_type": "code",
   "execution_count": 9,
   "metadata": {},
   "outputs": [
    {
     "data": {
      "text/plain": [
       "'Создать заявку на отпуск можно в разделе \"Сервис\", подразделе \"Отпуск\". Требования к запрашиваемому отпуску вы сможете видеть левой части экрана.'"
      ]
     },
     "execution_count": 9,
     "metadata": {},
     "output_type": "execute_result"
    }
   ],
   "source": [
    "response = conversational_rag_chain.invoke(\n",
    "    {'input': 'Как взять отпуск?'},\n",
    "    config={'configurable': {'session_id': '1'}},\n",
    ")\n",
    "response['answer']"
   ]
  }
 ],
 "metadata": {
  "kernelspec": {
   "display_name": ".venv",
   "language": "python",
   "name": "python3"
  },
  "language_info": {
   "codemirror_mode": {
    "name": "ipython",
    "version": 3
   },
   "file_extension": ".py",
   "mimetype": "text/x-python",
   "name": "python",
   "nbconvert_exporter": "python",
   "pygments_lexer": "ipython3",
   "version": "3.11.9"
  }
 },
 "nbformat": 4,
 "nbformat_minor": 2
}
