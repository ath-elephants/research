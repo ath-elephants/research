{
 "cells": [
  {
   "cell_type": "code",
   "execution_count": 1,
   "metadata": {},
   "outputs": [],
   "source": [
    "import time\n",
    "\n",
    "import google.generativeai as genai\n",
    "import pandas as pd\n",
    "from tqdm import tqdm"
   ]
  },
  {
   "cell_type": "code",
   "execution_count": 2,
   "metadata": {},
   "outputs": [
    {
     "name": "stderr",
     "output_type": "stream",
     "text": [
      "100%|██████████| 5/5 [02:42<00:00, 32.53s/it]\n"
     ]
    }
   ],
   "source": [
    "# https://ai.google.dev/gemini-api/docs/api-key\n",
    "api_key = '<YOUR_API_KEY'\n",
    "genai.configure(api_key=api_key)\n",
    "\n",
    "df = pd.read_csv('LK_modified.xlsx - Вопрос ответ.csv')\n",
    "df = df[['question', 'content', 'category']]\n",
    "df = df[~df['content'].duplicated(keep=False)]\n",
    "\n",
    "model = genai.GenerativeModel('gemini-1.5-pro')\n",
    "\n",
    "\n",
    "def get_synthetic_questions(model: genai.GenerativeModel, df: pd.DataFrame):\n",
    "    synthetic_data = []\n",
    "\n",
    "    for question, answer, category in tqdm(df[['question', 'content', 'category']].head(n=5).values):\n",
    "        request = f\"\"\"\n",
    "            Вот несколько примеров вопросов, которые обычно задают во внутреннюю текстовую поддержку, и заранее подготовленных типовых ответов на них:\n",
    "\n",
    "            1. Вопрос: больничный по уходу за родственником\n",
    "            Ответ (фиксированный): Больничный с кодом 09 (уход за больным членом семьи) оплачивается полностью за счет средств СФР, работодатель в данном случае выплату не производит.\n",
    "\n",
    "            2. Вопрос: эцп не активка\n",
    "            Ответ (фиксированный): Выпуск УНЭП ЮЛ осуществляется в Личный кабинете - Блок «Электронные подписи». Данный блок можно найти в правом верхнем углу, в выпадающем списке под своими ФИО. На странице Вы найдете соответствующую плашку. На данной плашке необходимо нажать «Получить электронную подпись». Подробная инструкция доступна по ссылке\n",
    "\n",
    "            3. Вопрос: мне нужно изменить % занятости\n",
    "            Ответ (фиксированный): Для изменения процента занятости сотруднику создайте, пожалуйста, заявку на сотрудника по теме \"Изменение режима, характера работы\"\n",
    "\n",
    "\n",
    "            Далее тебе нужно сгененировать 3 вопроса, релевантных приведенному ниже ответу. Обрати внимание, что сам ответ генерировать тебе не нужно, а вопросы могут иметь орфографические и пунктуационные ошибки, начинаться с маленькой буквы или иметь другие огрехи текстового ввода.\n",
    "\n",
    "            Вопрос: {question}\n",
    "            Ответ (фиксированный, его не нужно генерировать): {answer}\n",
    "\n",
    "            Приведи в пример еще 3 вопроса, на которые был бы ответ выше, записав их в отдельные строки через символ \\n без дополнительной информации, перечисления цифрами или использования черточек:\n",
    "        \"\"\"\n",
    "        response = model.generate_content(request).text\n",
    "\n",
    "        for example in response.split('\\n'):\n",
    "            if example:\n",
    "                synthetic_data.append((question, example, category))\n",
    "\n",
    "        time.sleep(30)\n",
    "\n",
    "    return synthetic_data\n",
    "\n",
    "\n",
    "synthetic_data = get_synthetic_questions(model, df)\n",
    "synthetic_df = pd.DataFrame(synthetic_data, columns=['question', 'content', 'category'])"
   ]
  },
  {
   "cell_type": "code",
   "execution_count": 3,
   "metadata": {},
   "outputs": [
    {
     "data": {
      "text/html": [
       "<div>\n",
       "<style scoped>\n",
       "    .dataframe tbody tr th:only-of-type {\n",
       "        vertical-align: middle;\n",
       "    }\n",
       "\n",
       "    .dataframe tbody tr th {\n",
       "        vertical-align: top;\n",
       "    }\n",
       "\n",
       "    .dataframe thead th {\n",
       "        text-align: right;\n",
       "    }\n",
       "</style>\n",
       "<table border=\"1\" class=\"dataframe\">\n",
       "  <thead>\n",
       "    <tr style=\"text-align: right;\">\n",
       "      <th></th>\n",
       "      <th>question</th>\n",
       "      <th>content</th>\n",
       "      <th>category</th>\n",
       "    </tr>\n",
       "  </thead>\n",
       "  <tbody>\n",
       "    <tr>\n",
       "      <th>10</th>\n",
       "      <td>Какие документы нужно предоставить для оформле...</td>\n",
       "      <td>какие документы нужны чтобы уйти в декрет</td>\n",
       "      <td>БиР</td>\n",
       "    </tr>\n",
       "    <tr>\n",
       "      <th>11</th>\n",
       "      <td>Какие документы нужно предоставить для оформле...</td>\n",
       "      <td>что нужно чтобы получить декретные</td>\n",
       "      <td>БиР</td>\n",
       "    </tr>\n",
       "    <tr>\n",
       "      <th>12</th>\n",
       "      <td>Когда отпуск по БИР закончился, нужно ли писат...</td>\n",
       "      <td>хочу в отпуск по уходу за ребенком</td>\n",
       "      <td>БиР</td>\n",
       "    </tr>\n",
       "    <tr>\n",
       "      <th>13</th>\n",
       "      <td>Когда отпуск по БИР закончился, нужно ли писат...</td>\n",
       "      <td>выплатили декретные что делать дальше</td>\n",
       "      <td>БиР</td>\n",
       "    </tr>\n",
       "    <tr>\n",
       "      <th>14</th>\n",
       "      <td>Когда отпуск по БИР закончился, нужно ли писат...</td>\n",
       "      <td>отпуск по уходу за ребенком как оформить</td>\n",
       "      <td>БиР</td>\n",
       "    </tr>\n",
       "  </tbody>\n",
       "</table>\n",
       "</div>"
      ],
      "text/plain": [
       "                                             question  \\\n",
       "10  Какие документы нужно предоставить для оформле...   \n",
       "11  Какие документы нужно предоставить для оформле...   \n",
       "12  Когда отпуск по БИР закончился, нужно ли писат...   \n",
       "13  Когда отпуск по БИР закончился, нужно ли писат...   \n",
       "14  Когда отпуск по БИР закончился, нужно ли писат...   \n",
       "\n",
       "                                      content category  \n",
       "10  какие документы нужны чтобы уйти в декрет      БиР  \n",
       "11        что нужно чтобы получить декретные       БиР  \n",
       "12         хочу в отпуск по уходу за ребенком      БиР  \n",
       "13      выплатили декретные что делать дальше      БиР  \n",
       "14  отпуск по уходу за ребенком как оформить       БиР  "
      ]
     },
     "execution_count": 3,
     "metadata": {},
     "output_type": "execute_result"
    }
   ],
   "source": [
    "synthetic_df.to_csv('synthetic_df.csv', index=False)\n",
    "synthetic_df.tail()"
   ]
  }
 ],
 "metadata": {
  "kernelspec": {
   "display_name": ".venv",
   "language": "python",
   "name": "python3"
  },
  "language_info": {
   "codemirror_mode": {
    "name": "ipython",
    "version": 3
   },
   "file_extension": ".py",
   "mimetype": "text/x-python",
   "name": "python",
   "nbconvert_exporter": "python",
   "pygments_lexer": "ipython3",
   "version": "3.11.9"
  }
 },
 "nbformat": 4,
 "nbformat_minor": 2
}
