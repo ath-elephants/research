{
 "cells": [
  {
   "cell_type": "code",
   "execution_count": 1,
   "metadata": {},
   "outputs": [],
   "source": [
    "import time\n",
    "\n",
    "import google.generativeai as genai\n",
    "import pandas as pd\n",
    "from tqdm import tqdm"
   ]
  },
  {
   "cell_type": "code",
   "execution_count": 2,
   "metadata": {},
   "outputs": [],
   "source": [
    "# https://aistudio.google.com/app/apikey\n",
    "api_key = '<YOUR_API_KEY>'\n",
    "genai.configure(api_key=api_key)\n",
    "model = genai.GenerativeModel('gemini-1.5-pro')\n",
    "\n",
    "df = pd.read_csv('LK_modified.xlsx - Вопрос ответ.csv')\n",
    "content_counts = df['content'].value_counts()\n",
    "df = df[df['content'].isin(content_counts[content_counts <= 5].index)]"
   ]
  },
  {
   "cell_type": "code",
   "execution_count": null,
   "metadata": {},
   "outputs": [],
   "source": [
    "for id, question, content, category in tqdm(df[['id', 'question', 'content', 'category']].values):\n",
    "    synthetic_data = []\n",
    "\n",
    "    for i in range(5):\n",
    "        request = f\"\"\"\n",
    "            Вот несколько примеров вопросов, которые обычно задают во внутреннюю текстовую поддержку, и заранее подготовленных типовых ответов на них:\n",
    "\n",
    "            1. Вопрос: больничный по уходу за родственником\n",
    "            Ответ (фиксированный): Больничный с кодом 09 (уход за больным членом семьи) оплачивается полностью за счет средств СФР, работодатель в данном случае выплату не производит.\n",
    "\n",
    "            2. Вопрос: эцп не активка\n",
    "            Ответ (фиксированный): Выпуск УНЭП ЮЛ осуществляется в Личный кабинете - Блок «Электронные подписи». Данный блок можно найти в правом верхнем углу, в выпадающем списке под своими ФИО. На странице Вы найдете соответствующую плашку. На данной плашке необходимо нажать «Получить электронную подпись». Подробная инструкция доступна по ссылке\n",
    "\n",
    "            3. Вопрос: мне нужно изменить % занятости\n",
    "            Ответ (фиксированный): Для изменения процента занятости сотруднику создайте, пожалуйста, заявку на сотрудника по теме \"Изменение режима, характера работы\"\n",
    "\n",
    "\n",
    "            Далее тебе нужно сгененировать 3 вопроса, релевантных приведенному ниже ответу. Обрати внимание, что сам ответ генерировать тебе не нужно, а вопросы могут иметь орфографические и пунктуационные ошибки, начинаться с маленькой буквы или иметь другие огрехи текстового ввода.\n",
    "\n",
    "            Вопрос: {question}\n",
    "            Ответ (фиксированный, его не нужно генерировать): {content}\n",
    "\n",
    "            Приведи в пример еще 3 вопроса, на которые был бы ответ выше, записав их в отдельные строки через символ \\n без дополнительной информации, перечисления цифрами или использования черточек:\n",
    "        \"\"\"\n",
    "        response = model.generate_content(request).text\n",
    "\n",
    "        for example in response.split('\\n'):\n",
    "            if example:\n",
    "                synthetic_data.append((example, content, category))\n",
    "\n",
    "        time.sleep(30)\n",
    "\n",
    "    synthetic_df = pd.DataFrame(synthetic_data, columns=['question', 'content', 'category'])\n",
    "    synthetic_df.to_csv(f'./synthetic_data/synthetic_{id}.csv', index=False)\n",
    "    synthetic_df.tail()"
   ]
  },
  {
   "cell_type": "code",
   "execution_count": 4,
   "metadata": {},
   "outputs": [],
   "source": [
    "import os\n",
    "\n",
    "\n",
    "directory_path = './synthetic_data/'\n",
    "synthetic_df = pd.DataFrame()\n",
    "\n",
    "for filename in os.listdir(directory_path):\n",
    "    if filename.endswith('.csv'):\n",
    "        file_path = os.path.join(directory_path, filename)\n",
    "        \n",
    "        synthetic_df = pd.concat([\n",
    "            synthetic_df,\n",
    "            pd.read_csv(file_path),\n",
    "        ], ignore_index=True)\n",
    "\n",
    "synthetic_df.to_csv('synthetic_df.csv', index=False)"
   ]
  }
 ],
 "metadata": {
  "kernelspec": {
   "display_name": ".venv",
   "language": "python",
   "name": "python3"
  },
  "language_info": {
   "codemirror_mode": {
    "name": "ipython",
    "version": 3
   },
   "file_extension": ".py",
   "mimetype": "text/x-python",
   "name": "python",
   "nbconvert_exporter": "python",
   "pygments_lexer": "ipython3",
   "version": "3.11.9"
  }
 },
 "nbformat": 4,
 "nbformat_minor": 2
}
