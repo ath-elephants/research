{
 "cells": [
  {
   "cell_type": "code",
   "execution_count": 1,
   "metadata": {},
   "outputs": [
    {
     "name": "stderr",
     "output_type": "stream",
     "text": [
      "d:\\GitHub\\research\\.venv\\Lib\\site-packages\\tqdm\\auto.py:21: TqdmWarning: IProgress not found. Please update jupyter and ipywidgets. See https://ipywidgets.readthedocs.io/en/stable/user_install.html\n",
      "  from .autonotebook import tqdm as notebook_tqdm\n"
     ]
    }
   ],
   "source": [
    "import time\n",
    "\n",
    "import google.generativeai as genai\n",
    "from google.generativeai.types import HarmCategory, HarmBlockThreshold\n",
    "import pandas as pd\n",
    "from tqdm import tqdm"
   ]
  },
  {
   "cell_type": "code",
   "execution_count": 2,
   "metadata": {},
   "outputs": [],
   "source": [
    "# https://aistudio.google.com/app/apikey\n",
    "api_key = '<YOUR_API_KEY>'\n",
    "genai.configure(api_key=api_key)\n",
    "model = genai.GenerativeModel('gemini-1.5-flash')\n",
    "\n",
    "df = pd.read_csv('LK_modified.xlsx - Вопрос ответ.csv')\n",
    "content_counts = df['content'].value_counts()\n",
    "df = df[df['content'].isin(content_counts[content_counts <= 5].index)]"
   ]
  },
  {
   "cell_type": "code",
   "execution_count": 3,
   "metadata": {},
   "outputs": [
    {
     "name": "stderr",
     "output_type": "stream",
     "text": [
      "100%|██████████| 329/329 [20:31<00:00,  3.74s/it]\n"
     ]
    }
   ],
   "source": [
    "for id, question, content, category in tqdm(\n",
    "    df[['id', 'question', 'content', 'category']].values\n",
    "):\n",
    "    synthetic_data = []\n",
    "\n",
    "    for i in range(5):\n",
    "        request = f\"\"\"\n",
    "            Вот несколько примеров вопросов, которые обычно задают во внутреннюю текстовую поддержку, и заранее подготовленных типовых ответов на них:\n",
    "\n",
    "            1. Вопрос: больничный по уходу за родственником\n",
    "            Ответ (фиксированный): Больничный с кодом 09 (уход за больным членом семьи) оплачивается полностью за счет средств СФР, работодатель в данном случае выплату не производит.\n",
    "\n",
    "            2. Вопрос: эцп не активка\n",
    "            Ответ (фиксированный): Выпуск УНЭП ЮЛ осуществляется в Личный кабинете - Блок «Электронные подписи». Данный блок можно найти в правом верхнем углу, в выпадающем списке под своими ФИО. На странице Вы найдете соответствующую плашку. На данной плашке необходимо нажать «Получить электронную подпись». Подробная инструкция доступна по ссылке\n",
    "\n",
    "            3. Вопрос: мне нужно изменить % занятости\n",
    "            Ответ (фиксированный): Для изменения процента занятости сотруднику создайте, пожалуйста, заявку на сотрудника по теме 'Изменение режима, характера работы'\n",
    "\n",
    "\n",
    "            Далее тебе нужно сгененировать 3 вопроса, релевантных приведенному ниже ответу. Обрати внимание, что сам ответ генерировать тебе не нужно, а вопросы могут иметь орфографические и пунктуационные ошибки, начинаться с маленькой буквы или иметь другие огрехи текстового ввода.\n",
    "\n",
    "            Вопрос: {question}\n",
    "            Ответ (фиксированный, его не нужно генерировать): {content}\n",
    "\n",
    "            Приведи в пример еще 3 вопроса, на которые был бы ответ выше, записав их в отдельные строки через символ \\n без дополнительной информации, перечисления цифрами или использования черточек:\n",
    "        \"\"\"\n",
    "        response = model.generate_content(\n",
    "            request,\n",
    "            safety_settings={\n",
    "                HarmCategory.HARM_CATEGORY_HARASSMENT: HarmBlockThreshold.BLOCK_NONE,\n",
    "                HarmCategory.HARM_CATEGORY_HATE_SPEECH: HarmBlockThreshold.BLOCK_NONE,\n",
    "                HarmCategory.HARM_CATEGORY_SEXUALLY_EXPLICIT: HarmBlockThreshold.BLOCK_NONE,\n",
    "                HarmCategory.HARM_CATEGORY_DANGEROUS_CONTENT: HarmBlockThreshold.BLOCK_NONE,\n",
    "            },\n",
    "        ).text\n",
    "\n",
    "        for example in response.split('\\n'):\n",
    "            if example:\n",
    "                synthetic_data.append((example, content, category))\n",
    "\n",
    "        time.sleep(6)\n",
    "\n",
    "    synthetic_df = pd.DataFrame(\n",
    "        synthetic_data, columns=['question', 'content', 'category']\n",
    "    )\n",
    "    synthetic_df.to_csv(f'./synthetic_data/synthetic_{id}.csv', index=False)\n",
    "    synthetic_df.tail()"
   ]
  },
  {
   "cell_type": "code",
   "execution_count": 4,
   "metadata": {},
   "outputs": [
    {
     "name": "stdout",
     "output_type": "stream",
     "text": [
      "(4937, 3)\n"
     ]
    },
    {
     "data": {
      "text/html": [
       "<div>\n",
       "<style scoped>\n",
       "    .dataframe tbody tr th:only-of-type {\n",
       "        vertical-align: middle;\n",
       "    }\n",
       "\n",
       "    .dataframe tbody tr th {\n",
       "        vertical-align: top;\n",
       "    }\n",
       "\n",
       "    .dataframe thead th {\n",
       "        text-align: right;\n",
       "    }\n",
       "</style>\n",
       "<table border=\"1\" class=\"dataframe\">\n",
       "  <thead>\n",
       "    <tr style=\"text-align: right;\">\n",
       "      <th></th>\n",
       "      <th>question</th>\n",
       "      <th>content</th>\n",
       "      <th>category</th>\n",
       "    </tr>\n",
       "  </thead>\n",
       "  <tbody>\n",
       "    <tr>\n",
       "      <th>4097</th>\n",
       "      <td>как сделать продление срочного трудового договора</td>\n",
       "      <td>Для продления срочного трудового договора созд...</td>\n",
       "      <td>график работы</td>\n",
       "    </tr>\n",
       "    <tr>\n",
       "      <th>4098</th>\n",
       "      <td>как продлить договор</td>\n",
       "      <td>Для продления срочного трудового договора созд...</td>\n",
       "      <td>график работы</td>\n",
       "    </tr>\n",
       "    <tr>\n",
       "      <th>4099</th>\n",
       "      <td>как перевести сотрудника на бессрочный ТД</td>\n",
       "      <td>Для продления срочного трудового договора созд...</td>\n",
       "      <td>график работы</td>\n",
       "    </tr>\n",
       "    <tr>\n",
       "      <th>4100</th>\n",
       "      <td>как продлить трудовой договор?</td>\n",
       "      <td>Для продления срочного трудового договора созд...</td>\n",
       "      <td>график работы</td>\n",
       "    </tr>\n",
       "    <tr>\n",
       "      <th>4101</th>\n",
       "      <td>можно ли продлить срочный трудовой договор?</td>\n",
       "      <td>Для продления срочного трудового договора созд...</td>\n",
       "      <td>график работы</td>\n",
       "    </tr>\n",
       "  </tbody>\n",
       "</table>\n",
       "</div>"
      ],
      "text/plain": [
       "                                               question  \\\n",
       "4097  как сделать продление срочного трудового договора   \n",
       "4098                               как продлить договор   \n",
       "4099          как перевести сотрудника на бессрочный ТД   \n",
       "4100                     как продлить трудовой договор?   \n",
       "4101        можно ли продлить срочный трудовой договор?   \n",
       "\n",
       "                                                content       category  \n",
       "4097  Для продления срочного трудового договора созд...  график работы  \n",
       "4098  Для продления срочного трудового договора созд...  график работы  \n",
       "4099  Для продления срочного трудового договора созд...  график работы  \n",
       "4100  Для продления срочного трудового договора созд...  график работы  \n",
       "4101  Для продления срочного трудового договора созд...  график работы  "
      ]
     },
     "execution_count": 4,
     "metadata": {},
     "output_type": "execute_result"
    }
   ],
   "source": [
    "import os\n",
    "\n",
    "\n",
    "directory_path = './synthetic_data/'\n",
    "synthetic_df = pd.DataFrame()\n",
    "\n",
    "for filename in os.listdir(directory_path):\n",
    "    if filename.endswith('.csv'):\n",
    "        file_path = os.path.join(directory_path, filename)\n",
    "\n",
    "        synthetic_df = pd.concat(\n",
    "            [\n",
    "                synthetic_df,\n",
    "                pd.read_csv(file_path),\n",
    "            ],\n",
    "            ignore_index=True,\n",
    "        )\n",
    "\n",
    "print(synthetic_df.shape)\n",
    "synthetic_df['question'] = synthetic_df['question'].str.strip()\n",
    "synthetic_df.drop_duplicates(subset='question', inplace=True)\n",
    "synthetic_df = synthetic_df.reset_index(drop=True)\n",
    "synthetic_df.to_csv('synthetic_df.csv', index=False)\n",
    "synthetic_df.tail()"
   ]
  }
 ],
 "metadata": {
  "kernelspec": {
   "display_name": ".venv",
   "language": "python",
   "name": "python3"
  },
  "language_info": {
   "codemirror_mode": {
    "name": "ipython",
    "version": 3
   },
   "file_extension": ".py",
   "mimetype": "text/x-python",
   "name": "python",
   "nbconvert_exporter": "python",
   "pygments_lexer": "ipython3",
   "version": "3.11.9"
  }
 },
 "nbformat": 4,
 "nbformat_minor": 2
}
